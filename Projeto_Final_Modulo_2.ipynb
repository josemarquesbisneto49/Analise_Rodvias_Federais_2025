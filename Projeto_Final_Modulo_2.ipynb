{
 "cells": [
  {
   "cell_type": "markdown",
   "metadata": {
    "id": "4AgwB8udiePj"
   },
   "source": [
    "# Sinistros de Transito em Rodovias Federais 🚦\n",
    "\n",
    "José Marques da Costa Bisneto"
   ]
  },
  {
   "cell_type": "markdown",
   "metadata": {
    "id": "B1Z8lF9CinKP"
   },
   "source": [
    "A estrutura abaixo lista sugestões do que pode conter no seu trabalho.\n",
    "\n",
    "Apresentação da análise\n",
    "* Storytelling;\n",
    "* Insights (padrões que descrevam os elementos da base);\n",
    "* Descrição do problema;\n",
    "* Proposta de solução;\n",
    "\n",
    "Entregáveis\n",
    "* Relatório com análise exploratória de dados;\n",
    "  * Descrição das variáveis (Dados faltantes, tipos de dados, informações relacionadas e fontes);\n",
    "  * Limpeza da base\n",
    "* Análise Univariada e Multivariada\n",
    "  * Medidas estatísticas;\n",
    "  * Comparações;\n",
    "  * Tendências de crescimento ou queda;\n",
    "Gráficos"
   ]
  },
  {
   "cell_type": "markdown",
   "metadata": {
    "id": "E4FvpOYw1vSY"
   },
   "source": [
    "# Panorama Atual — Rodovias Federais 🔴 🟡 🟢\n",
    "\n",
    "Número total de acidentes, feridos e mortes em 2024\n",
    "\n",
    "1. Em 2024, foram registrados **73.156** sinistros de trânsito nas rodovias federais brasileiras.\n",
    "\n",
    "2. Resultaram **84.526** pessoas feridas (leves ou graves).\n",
    "\n",
    "\n",
    "3. Ocorreram **6.160:** mortes nesses acidentes.\n",
    "\n",
    "\n",
    "Link : https://noticias.uol.com.br/ultimas-noticias/agencia-brasil/2025/04/17/acidentes-em-rodovias-federais-matam-616-mil-pessoas-em-2024.html\n",
    "\n",
    "## Comparativo com 2023: tendência de crescimento\n",
    "\n",
    "1. Há um aumento tanto no número de acidentes quanto de mortes em comparação com 2023.\n",
    "\n",
    "2. Em particular, as mortes cresceram cerca de 9% em 2024 sobre 2023.\n",
    "\n",
    "Link : www.uninter.com/noticias/mortes-em-rodovias-brasileiras-crescem-9-em-2024"
   ]
  },
  {
   "cell_type": "markdown",
   "metadata": {
    "id": "RzC0YhMS3wYJ"
   },
   "source": [
    "# Objetivos do Estudo\n",
    "\n",
    "* [ ] Definir o perfil dos acidentes em rodovias federais brasileiras, considerando tipos de ocorrência, veículos, vítimas e contexto.\n",
    "\n",
    "* [ ] Identificar fatores de risco que aumentam a frequência e a gravidade dos sinistros.\n",
    "\n",
    "* [ ] Apontar medidas preventivas capazes de reduzir acidentes e mortes, contribuindo para políticas públicas, fiscalização e campanhas educativas.\n",
    "\n",
    "* [ ] Promover reflexões sociais sobre a importância da segurança viária e da preservação de vidas."
   ]
  },
  {
   "cell_type": "markdown",
   "metadata": {
    "id": "loCyHCwQkQrz"
   },
   "source": [
    "# **IMPORTAÇÃO DAS BASES**\n",
    "\n",
    "1. SINISTROS DE TRÂNSITO - PRF\n",
    "    1. Sinistros de Trânsito Agrupados Por Ocorrência\n",
    "    2. Sinistros de Trânsito Agrupados Por Pessoa\n",
    "2. Feriados Nacionais (biblioteca holidays do Python)"
   ]
  },
  {
   "cell_type": "code",
   "execution_count": 60,
   "metadata": {
    "colab": {
     "base_uri": "https://localhost:8080/",
     "height": 356
    },
    "id": "LkSVGNSXPqj4",
    "outputId": "c056617e-c7d5-4c4c-ddf9-c9abdb3f2698"
   },
   "outputs": [],
   "source": [
    "import pandas as pd\n",
    "import holidays\n",
    "\n",
    "#Sinistros de Trânsito Agrupados Por Ocorrência\n",
    "df_ocorrencias = pd.read_csv(\"DataTran/datatran2025/datatran2025.csv\", sep=\";\", encoding=\"latin1\", low_memory=False)\n",
    "\n",
    "#Sinistros de Trânsito Agrupados Por Pessoa\n",
    "df_envolvidos = pd.read_csv(\"Acidentes/acidentes2025/acidentes2025.csv\", sep=\";\", encoding=\"latin1\", low_memory=False)\n",
    "\n",
    "#Feriados no ano de 2025\n",
    "feriados = holidays.Brazil(years=2025)\n"
   ]
  },
  {
   "cell_type": "code",
   "execution_count": 61,
   "metadata": {
    "colab": {
     "base_uri": "https://localhost:8080/",
     "height": 429
    },
    "id": "Pxx61Ye054Hb",
    "outputId": "964b2056-dab5-4980-e83e-2e968d0c8630"
   },
   "outputs": [
    {
     "data": {
      "text/html": [
       "<div>\n",
       "<style scoped>\n",
       "    .dataframe tbody tr th:only-of-type {\n",
       "        vertical-align: middle;\n",
       "    }\n",
       "\n",
       "    .dataframe tbody tr th {\n",
       "        vertical-align: top;\n",
       "    }\n",
       "\n",
       "    .dataframe thead th {\n",
       "        text-align: right;\n",
       "    }\n",
       "</style>\n",
       "<table border=\"1\" class=\"dataframe\">\n",
       "  <thead>\n",
       "    <tr style=\"text-align: right;\">\n",
       "      <th></th>\n",
       "      <th>id</th>\n",
       "      <th>data_inversa</th>\n",
       "      <th>dia_semana</th>\n",
       "      <th>horario</th>\n",
       "      <th>uf</th>\n",
       "      <th>br</th>\n",
       "      <th>km</th>\n",
       "      <th>municipio</th>\n",
       "      <th>causa_acidente</th>\n",
       "      <th>tipo_acidente</th>\n",
       "      <th>...</th>\n",
       "      <th>feridos_graves</th>\n",
       "      <th>ilesos</th>\n",
       "      <th>ignorados</th>\n",
       "      <th>feridos</th>\n",
       "      <th>veiculos</th>\n",
       "      <th>latitude</th>\n",
       "      <th>longitude</th>\n",
       "      <th>regional</th>\n",
       "      <th>delegacia</th>\n",
       "      <th>uop</th>\n",
       "    </tr>\n",
       "  </thead>\n",
       "  <tbody>\n",
       "    <tr>\n",
       "      <th>0</th>\n",
       "      <td>652493</td>\n",
       "      <td>2025-01-01</td>\n",
       "      <td>quarta-feira</td>\n",
       "      <td>06:20:00</td>\n",
       "      <td>SP</td>\n",
       "      <td>116</td>\n",
       "      <td>225</td>\n",
       "      <td>GUARULHOS</td>\n",
       "      <td>Reação tardia ou ineficiente do condutor</td>\n",
       "      <td>Tombamento</td>\n",
       "      <td>...</td>\n",
       "      <td>0</td>\n",
       "      <td>0</td>\n",
       "      <td>1</td>\n",
       "      <td>1</td>\n",
       "      <td>2</td>\n",
       "      <td>-23,48586772</td>\n",
       "      <td>-46,54075317</td>\n",
       "      <td>SPRF-SP</td>\n",
       "      <td>DEL01-SP</td>\n",
       "      <td>UOP01-DEL01-SP</td>\n",
       "    </tr>\n",
       "    <tr>\n",
       "      <th>1</th>\n",
       "      <td>652519</td>\n",
       "      <td>2025-01-01</td>\n",
       "      <td>quarta-feira</td>\n",
       "      <td>07:50:00</td>\n",
       "      <td>CE</td>\n",
       "      <td>116</td>\n",
       "      <td>546,2</td>\n",
       "      <td>PENAFORTE</td>\n",
       "      <td>Pista esburacada</td>\n",
       "      <td>Colisão frontal</td>\n",
       "      <td>...</td>\n",
       "      <td>0</td>\n",
       "      <td>1</td>\n",
       "      <td>4</td>\n",
       "      <td>1</td>\n",
       "      <td>6</td>\n",
       "      <td>-7,812288</td>\n",
       "      <td>-39,08333306</td>\n",
       "      <td>SPRF-CE</td>\n",
       "      <td>DEL05-CE</td>\n",
       "      <td>UOP03-DEL05-CE</td>\n",
       "    </tr>\n",
       "    <tr>\n",
       "      <th>2</th>\n",
       "      <td>652522</td>\n",
       "      <td>2025-01-01</td>\n",
       "      <td>quarta-feira</td>\n",
       "      <td>08:45:00</td>\n",
       "      <td>PR</td>\n",
       "      <td>369</td>\n",
       "      <td>88,2</td>\n",
       "      <td>CORNELIO PROCOPIO</td>\n",
       "      <td>Reação tardia ou ineficiente do condutor</td>\n",
       "      <td>Colisão traseira</td>\n",
       "      <td>...</td>\n",
       "      <td>0</td>\n",
       "      <td>2</td>\n",
       "      <td>0</td>\n",
       "      <td>3</td>\n",
       "      <td>2</td>\n",
       "      <td>-23,182565</td>\n",
       "      <td>-50,637228</td>\n",
       "      <td>SPRF-PR</td>\n",
       "      <td>DEL07-PR</td>\n",
       "      <td>UOP05-DEL07-PR</td>\n",
       "    </tr>\n",
       "    <tr>\n",
       "      <th>3</th>\n",
       "      <td>652544</td>\n",
       "      <td>2025-01-01</td>\n",
       "      <td>quarta-feira</td>\n",
       "      <td>11:00:00</td>\n",
       "      <td>PR</td>\n",
       "      <td>116</td>\n",
       "      <td>74</td>\n",
       "      <td>CAMPINA GRANDE DO SUL</td>\n",
       "      <td>Reação tardia ou ineficiente do condutor</td>\n",
       "      <td>Saída de leito carroçável</td>\n",
       "      <td>...</td>\n",
       "      <td>0</td>\n",
       "      <td>4</td>\n",
       "      <td>0</td>\n",
       "      <td>1</td>\n",
       "      <td>2</td>\n",
       "      <td>-25,36517687</td>\n",
       "      <td>-49,04223028</td>\n",
       "      <td>SPRF-PR</td>\n",
       "      <td>DEL01-PR</td>\n",
       "      <td>UOP02-DEL01-PR</td>\n",
       "    </tr>\n",
       "    <tr>\n",
       "      <th>4</th>\n",
       "      <td>652549</td>\n",
       "      <td>2025-01-01</td>\n",
       "      <td>quarta-feira</td>\n",
       "      <td>09:30:00</td>\n",
       "      <td>MG</td>\n",
       "      <td>251</td>\n",
       "      <td>471</td>\n",
       "      <td>FRANCISCO SA</td>\n",
       "      <td>Velocidade Incompatível</td>\n",
       "      <td>Colisão frontal</td>\n",
       "      <td>...</td>\n",
       "      <td>1</td>\n",
       "      <td>1</td>\n",
       "      <td>2</td>\n",
       "      <td>2</td>\n",
       "      <td>4</td>\n",
       "      <td>-16,46801304</td>\n",
       "      <td>-43,43121303</td>\n",
       "      <td>SPRF-MG</td>\n",
       "      <td>DEL12-MG</td>\n",
       "      <td>UOP01-DEL12-MG</td>\n",
       "    </tr>\n",
       "  </tbody>\n",
       "</table>\n",
       "<p>5 rows × 30 columns</p>\n",
       "</div>"
      ],
      "text/plain": [
       "       id data_inversa    dia_semana   horario  uf   br     km  \\\n",
       "0  652493   2025-01-01  quarta-feira  06:20:00  SP  116    225   \n",
       "1  652519   2025-01-01  quarta-feira  07:50:00  CE  116  546,2   \n",
       "2  652522   2025-01-01  quarta-feira  08:45:00  PR  369   88,2   \n",
       "3  652544   2025-01-01  quarta-feira  11:00:00  PR  116     74   \n",
       "4  652549   2025-01-01  quarta-feira  09:30:00  MG  251    471   \n",
       "\n",
       "               municipio                            causa_acidente  \\\n",
       "0              GUARULHOS  Reação tardia ou ineficiente do condutor   \n",
       "1              PENAFORTE                          Pista esburacada   \n",
       "2      CORNELIO PROCOPIO  Reação tardia ou ineficiente do condutor   \n",
       "3  CAMPINA GRANDE DO SUL  Reação tardia ou ineficiente do condutor   \n",
       "4           FRANCISCO SA                   Velocidade Incompatível   \n",
       "\n",
       "               tipo_acidente  ... feridos_graves ilesos ignorados feridos  \\\n",
       "0                 Tombamento  ...              0      0         1       1   \n",
       "1            Colisão frontal  ...              0      1         4       1   \n",
       "2           Colisão traseira  ...              0      2         0       3   \n",
       "3  Saída de leito carroçável  ...              0      4         0       1   \n",
       "4            Colisão frontal  ...              1      1         2       2   \n",
       "\n",
       "  veiculos      latitude     longitude  regional  delegacia             uop  \n",
       "0        2  -23,48586772  -46,54075317   SPRF-SP   DEL01-SP  UOP01-DEL01-SP  \n",
       "1        6     -7,812288  -39,08333306   SPRF-CE   DEL05-CE  UOP03-DEL05-CE  \n",
       "2        2    -23,182565    -50,637228   SPRF-PR   DEL07-PR  UOP05-DEL07-PR  \n",
       "3        2  -25,36517687  -49,04223028   SPRF-PR   DEL01-PR  UOP02-DEL01-PR  \n",
       "4        4  -16,46801304  -43,43121303   SPRF-MG   DEL12-MG  UOP01-DEL12-MG  \n",
       "\n",
       "[5 rows x 30 columns]"
      ]
     },
     "execution_count": 61,
     "metadata": {},
     "output_type": "execute_result"
    }
   ],
   "source": [
    "df_ocorrencias.head()"
   ]
  },
  {
   "cell_type": "code",
   "execution_count": 6,
   "metadata": {
    "colab": {
     "base_uri": "https://localhost:8080/",
     "height": 429
    },
    "id": "vajqzpWp54SP",
    "outputId": "0b630762-b61a-4ed9-d199-6e0d8becb7ce"
   },
   "outputs": [
    {
     "data": {
      "text/html": [
       "<div>\n",
       "<style scoped>\n",
       "    .dataframe tbody tr th:only-of-type {\n",
       "        vertical-align: middle;\n",
       "    }\n",
       "\n",
       "    .dataframe tbody tr th {\n",
       "        vertical-align: top;\n",
       "    }\n",
       "\n",
       "    .dataframe thead th {\n",
       "        text-align: right;\n",
       "    }\n",
       "</style>\n",
       "<table border=\"1\" class=\"dataframe\">\n",
       "  <thead>\n",
       "    <tr style=\"text-align: right;\">\n",
       "      <th></th>\n",
       "      <th>id</th>\n",
       "      <th>pesid</th>\n",
       "      <th>data_inversa</th>\n",
       "      <th>dia_semana</th>\n",
       "      <th>horario</th>\n",
       "      <th>uf</th>\n",
       "      <th>br</th>\n",
       "      <th>km</th>\n",
       "      <th>municipio</th>\n",
       "      <th>causa_acidente</th>\n",
       "      <th>...</th>\n",
       "      <th>sexo</th>\n",
       "      <th>ilesos</th>\n",
       "      <th>feridos_leves</th>\n",
       "      <th>feridos_graves</th>\n",
       "      <th>mortos</th>\n",
       "      <th>latitude</th>\n",
       "      <th>longitude</th>\n",
       "      <th>regional</th>\n",
       "      <th>delegacia</th>\n",
       "      <th>uop</th>\n",
       "    </tr>\n",
       "  </thead>\n",
       "  <tbody>\n",
       "    <tr>\n",
       "      <th>0</th>\n",
       "      <td>652493</td>\n",
       "      <td>1467686</td>\n",
       "      <td>2025-01-01</td>\n",
       "      <td>quarta-feira</td>\n",
       "      <td>06:20:00</td>\n",
       "      <td>SP</td>\n",
       "      <td>116</td>\n",
       "      <td>225</td>\n",
       "      <td>GUARULHOS</td>\n",
       "      <td>Reação tardia ou ineficiente do condutor</td>\n",
       "      <td>...</td>\n",
       "      <td>Não Informado</td>\n",
       "      <td>0</td>\n",
       "      <td>0</td>\n",
       "      <td>0</td>\n",
       "      <td>0</td>\n",
       "      <td>-23,48586772</td>\n",
       "      <td>-46,54075317</td>\n",
       "      <td>SPRF-SP</td>\n",
       "      <td>DEL01-SP</td>\n",
       "      <td>UOP01-DEL01-SP</td>\n",
       "    </tr>\n",
       "    <tr>\n",
       "      <th>1</th>\n",
       "      <td>652519</td>\n",
       "      <td>1467833</td>\n",
       "      <td>2025-01-01</td>\n",
       "      <td>quarta-feira</td>\n",
       "      <td>07:50:00</td>\n",
       "      <td>CE</td>\n",
       "      <td>116</td>\n",
       "      <td>546,2</td>\n",
       "      <td>PENAFORTE</td>\n",
       "      <td>Pista esburacada</td>\n",
       "      <td>...</td>\n",
       "      <td>Masculino</td>\n",
       "      <td>1</td>\n",
       "      <td>0</td>\n",
       "      <td>0</td>\n",
       "      <td>0</td>\n",
       "      <td>-7,812288</td>\n",
       "      <td>-39,08333306</td>\n",
       "      <td>SPRF-CE</td>\n",
       "      <td>DEL05-CE</td>\n",
       "      <td>UOP03-DEL05-CE</td>\n",
       "    </tr>\n",
       "    <tr>\n",
       "      <th>2</th>\n",
       "      <td>652522</td>\n",
       "      <td>1468042</td>\n",
       "      <td>2025-01-01</td>\n",
       "      <td>quarta-feira</td>\n",
       "      <td>08:45:00</td>\n",
       "      <td>PR</td>\n",
       "      <td>369</td>\n",
       "      <td>88,2</td>\n",
       "      <td>CORNELIO PROCOPIO</td>\n",
       "      <td>Reação tardia ou ineficiente do condutor</td>\n",
       "      <td>...</td>\n",
       "      <td>Masculino</td>\n",
       "      <td>1</td>\n",
       "      <td>0</td>\n",
       "      <td>0</td>\n",
       "      <td>0</td>\n",
       "      <td>-23,182565</td>\n",
       "      <td>-50,637228</td>\n",
       "      <td>SPRF-PR</td>\n",
       "      <td>DEL07-PR</td>\n",
       "      <td>UOP05-DEL07-PR</td>\n",
       "    </tr>\n",
       "    <tr>\n",
       "      <th>3</th>\n",
       "      <td>652544</td>\n",
       "      <td>1467849</td>\n",
       "      <td>2025-01-01</td>\n",
       "      <td>quarta-feira</td>\n",
       "      <td>11:00:00</td>\n",
       "      <td>PR</td>\n",
       "      <td>116</td>\n",
       "      <td>74</td>\n",
       "      <td>CAMPINA GRANDE DO SUL</td>\n",
       "      <td>Reação tardia ou ineficiente do condutor</td>\n",
       "      <td>...</td>\n",
       "      <td>Masculino</td>\n",
       "      <td>1</td>\n",
       "      <td>0</td>\n",
       "      <td>0</td>\n",
       "      <td>0</td>\n",
       "      <td>-25,36517687</td>\n",
       "      <td>-49,04223028</td>\n",
       "      <td>SPRF-PR</td>\n",
       "      <td>DEL01-PR</td>\n",
       "      <td>UOP02-DEL01-PR</td>\n",
       "    </tr>\n",
       "    <tr>\n",
       "      <th>4</th>\n",
       "      <td>652549</td>\n",
       "      <td>1467791</td>\n",
       "      <td>2025-01-01</td>\n",
       "      <td>quarta-feira</td>\n",
       "      <td>09:30:00</td>\n",
       "      <td>MG</td>\n",
       "      <td>251</td>\n",
       "      <td>471</td>\n",
       "      <td>FRANCISCO SA</td>\n",
       "      <td>Velocidade Incompatível</td>\n",
       "      <td>...</td>\n",
       "      <td>Masculino</td>\n",
       "      <td>1</td>\n",
       "      <td>0</td>\n",
       "      <td>0</td>\n",
       "      <td>0</td>\n",
       "      <td>-16,46801304</td>\n",
       "      <td>-43,43121303</td>\n",
       "      <td>SPRF-MG</td>\n",
       "      <td>DEL12-MG</td>\n",
       "      <td>UOP01-DEL12-MG</td>\n",
       "    </tr>\n",
       "  </tbody>\n",
       "</table>\n",
       "<p>5 rows × 35 columns</p>\n",
       "</div>"
      ],
      "text/plain": [
       "       id    pesid data_inversa    dia_semana   horario  uf   br     km  \\\n",
       "0  652493  1467686   2025-01-01  quarta-feira  06:20:00  SP  116    225   \n",
       "1  652519  1467833   2025-01-01  quarta-feira  07:50:00  CE  116  546,2   \n",
       "2  652522  1468042   2025-01-01  quarta-feira  08:45:00  PR  369   88,2   \n",
       "3  652544  1467849   2025-01-01  quarta-feira  11:00:00  PR  116     74   \n",
       "4  652549  1467791   2025-01-01  quarta-feira  09:30:00  MG  251    471   \n",
       "\n",
       "               municipio                            causa_acidente  ...  \\\n",
       "0              GUARULHOS  Reação tardia ou ineficiente do condutor  ...   \n",
       "1              PENAFORTE                          Pista esburacada  ...   \n",
       "2      CORNELIO PROCOPIO  Reação tardia ou ineficiente do condutor  ...   \n",
       "3  CAMPINA GRANDE DO SUL  Reação tardia ou ineficiente do condutor  ...   \n",
       "4           FRANCISCO SA                   Velocidade Incompatível  ...   \n",
       "\n",
       "            sexo ilesos feridos_leves feridos_graves mortos      latitude  \\\n",
       "0  Não Informado      0             0              0      0  -23,48586772   \n",
       "1      Masculino      1             0              0      0     -7,812288   \n",
       "2      Masculino      1             0              0      0    -23,182565   \n",
       "3      Masculino      1             0              0      0  -25,36517687   \n",
       "4      Masculino      1             0              0      0  -16,46801304   \n",
       "\n",
       "      longitude regional  delegacia             uop  \n",
       "0  -46,54075317  SPRF-SP   DEL01-SP  UOP01-DEL01-SP  \n",
       "1  -39,08333306  SPRF-CE   DEL05-CE  UOP03-DEL05-CE  \n",
       "2    -50,637228  SPRF-PR   DEL07-PR  UOP05-DEL07-PR  \n",
       "3  -49,04223028  SPRF-PR   DEL01-PR  UOP02-DEL01-PR  \n",
       "4  -43,43121303  SPRF-MG   DEL12-MG  UOP01-DEL12-MG  \n",
       "\n",
       "[5 rows x 35 columns]"
      ]
     },
     "execution_count": 6,
     "metadata": {},
     "output_type": "execute_result"
    }
   ],
   "source": [
    "df_envolvidos.head()"
   ]
  },
  {
   "cell_type": "markdown",
   "metadata": {
    "id": "x_mEOBhO7QwC"
   },
   "source": [
    "# DESCRIÇÃO DAS BASES"
   ]
  },
  {
   "cell_type": "code",
   "execution_count": 7,
   "metadata": {
    "colab": {
     "base_uri": "https://localhost:8080/"
    },
    "id": "CVQGh8Xw7xBm",
    "outputId": "cd7c0479-a9b5-47e7-cc59-7518cd87aeae"
   },
   "outputs": [
    {
     "name": "stdout",
     "output_type": "stream",
     "text": [
      "<class 'pandas.core.frame.DataFrame'>\n",
      "RangeIndex: 40934 entries, 0 to 40933\n",
      "Data columns (total 30 columns):\n",
      " #   Column                  Non-Null Count  Dtype \n",
      "---  ------                  --------------  ----- \n",
      " 0   id                      40934 non-null  int64 \n",
      " 1   data_inversa            40934 non-null  object\n",
      " 2   dia_semana              40934 non-null  object\n",
      " 3   horario                 40934 non-null  object\n",
      " 4   uf                      40934 non-null  object\n",
      " 5   br                      40934 non-null  int64 \n",
      " 6   km                      40934 non-null  object\n",
      " 7   municipio               40934 non-null  object\n",
      " 8   causa_acidente          40934 non-null  object\n",
      " 9   tipo_acidente           40934 non-null  object\n",
      " 10  classificacao_acidente  40933 non-null  object\n",
      " 11  fase_dia                40934 non-null  object\n",
      " 12  sentido_via             40934 non-null  object\n",
      " 13  condicao_metereologica  40934 non-null  object\n",
      " 14  tipo_pista              40934 non-null  object\n",
      " 15  tracado_via             40934 non-null  object\n",
      " 16  uso_solo                40934 non-null  object\n",
      " 17  pessoas                 40934 non-null  int64 \n",
      " 18  mortos                  40934 non-null  int64 \n",
      " 19  feridos_leves           40934 non-null  int64 \n",
      " 20  feridos_graves          40934 non-null  int64 \n",
      " 21  ilesos                  40934 non-null  int64 \n",
      " 22  ignorados               40934 non-null  int64 \n",
      " 23  feridos                 40934 non-null  int64 \n",
      " 24  veiculos                40934 non-null  int64 \n",
      " 25  latitude                40934 non-null  object\n",
      " 26  longitude               40934 non-null  object\n",
      " 27  regional                40929 non-null  object\n",
      " 28  delegacia               40916 non-null  object\n",
      " 29  uop                     40910 non-null  object\n",
      "dtypes: int64(10), object(20)\n",
      "memory usage: 9.4+ MB\n"
     ]
    }
   ],
   "source": [
    "df_ocorrencias.info()\n",
    "#29 Colunas, Muitos dados do tipo \"Object\""
   ]
  },
  {
   "cell_type": "code",
   "execution_count": 8,
   "metadata": {
    "colab": {
     "base_uri": "https://localhost:8080/"
    },
    "id": "eevnPYYz8Bzq",
    "outputId": "94e7755b-cab5-4145-9f38-ad9dc8d6f7f6"
   },
   "outputs": [
    {
     "name": "stdout",
     "output_type": "stream",
     "text": [
      "<class 'pandas.core.frame.DataFrame'>\n",
      "RangeIndex: 109988 entries, 0 to 109987\n",
      "Data columns (total 35 columns):\n",
      " #   Column                  Non-Null Count   Dtype \n",
      "---  ------                  --------------   ----- \n",
      " 0   id                      109988 non-null  int64 \n",
      " 1   pesid                   109988 non-null  int64 \n",
      " 2   data_inversa            109988 non-null  object\n",
      " 3   dia_semana              109988 non-null  object\n",
      " 4   horario                 109988 non-null  object\n",
      " 5   uf                      109988 non-null  object\n",
      " 6   br                      109988 non-null  int64 \n",
      " 7   km                      109988 non-null  object\n",
      " 8   municipio               109988 non-null  object\n",
      " 9   causa_acidente          109988 non-null  object\n",
      " 10  tipo_acidente           109988 non-null  object\n",
      " 11  classificacao_acidente  109981 non-null  object\n",
      " 12  fase_dia                109988 non-null  object\n",
      " 13  sentido_via             109988 non-null  object\n",
      " 14  condicao_metereologica  109988 non-null  object\n",
      " 15  tipo_pista              109988 non-null  object\n",
      " 16  tracado_via             109988 non-null  object\n",
      " 17  uso_solo                109988 non-null  object\n",
      " 18  id_veiculo              109988 non-null  int64 \n",
      " 19  tipo_veiculo            106379 non-null  object\n",
      " 20  marca                   109988 non-null  object\n",
      " 21  ano_fabricacao_veiculo  109988 non-null  int64 \n",
      " 22  tipo_envolvido          100273 non-null  object\n",
      " 23  estado_fisico           100273 non-null  object\n",
      " 24  idade                   109988 non-null  int64 \n",
      " 25  sexo                    100273 non-null  object\n",
      " 26  ilesos                  109988 non-null  int64 \n",
      " 27  feridos_leves           109988 non-null  int64 \n",
      " 28  feridos_graves          109988 non-null  int64 \n",
      " 29  mortos                  109988 non-null  int64 \n",
      " 30  latitude                109988 non-null  object\n",
      " 31  longitude               109988 non-null  object\n",
      " 32  regional                109976 non-null  object\n",
      " 33  delegacia               109929 non-null  object\n",
      " 34  uop                     109903 non-null  object\n",
      "dtypes: int64(10), object(25)\n",
      "memory usage: 29.4+ MB\n"
     ]
    }
   ],
   "source": [
    "df_envolvidos.info()\n",
    "#34 Colunas, muitos dados do tipo \"Object\", varias colunas repetidas da base de ocorrencias"
   ]
  },
  {
   "cell_type": "markdown",
   "metadata": {
    "id": "JPCR_wPJ8hAk"
   },
   "source": [
    "## 📊 Base de Ocorrencias\n",
    "\n",
    "* id : Identificação única do acidente.\n",
    "\n",
    "* data_inversa : Data do acidente em formato americano.\n",
    "\n",
    "* dia_semana : Dia da semana em que ocorreu.\n",
    "\n",
    "* horario : Hora do acidente.\n",
    "\n",
    "* uf : Unidade Federativa (estado).\n",
    "\n",
    "* br : Número da rodovia federal.\n",
    "\n",
    "* km : Quilômetro exato do acidente.\n",
    "\n",
    "* municipio : Cidade do acidente.\n",
    "\n",
    "* causa_acidente : Causa presumida do acidente.\n",
    "\n",
    "* tipo_acidente : Tipo de acidente (colisão, atropelamento, tombamento etc.).\n",
    "\n",
    "* classificacao_acidente : Gravidade do acidente (apenas danos, com feridos, com mortos).\n",
    "\n",
    "* fase_dia : Período do dia.\n",
    "\n",
    "* sentido_via : Fluxo da via.\n",
    "\n",
    "* condicao_metereologica : Condições do tempo no momento do acidente.\n",
    "\n",
    "* tipo_pista : Tipo de pista (Simples, Dupla ou Multipla).\n",
    "\n",
    "* tracado_via : Tipo de configuração ou condição da via/trecho de estrada, representa uma ou mais características do trecho, separados por ';'\n",
    "\n",
    "* uso_solo : Aparentemente indica se um dos veiculos eram usados por apenas uma pessoa.(Muitos dados incosistentes nesta coluna)\n",
    "\n",
    "* pessoas : Total de pessoas envolvidas no acidente.\n",
    "\n",
    "* mortos : Total de mortos.\n",
    "\n",
    "* feridos_leves : Total de feridos leves.\n",
    "\n",
    "* feridos_graves : Total de feridos graves.\n",
    "\n",
    "* ilesos : Total de ilesos.\n",
    "\n",
    "* ignorados : Pessoas com estado de saúde não informado.\n",
    "\n",
    "* feridos : Total de feridos (leves + graves).\n",
    "\n",
    "* veiculos : Número de veículos envolvidos.\n",
    "\n",
    "* latitude / longitude : Localização geográfica.\n",
    "\n",
    "* regional : Regional da PRF.\n",
    "\n",
    "* delegacia : Delegacia da PRF.\n",
    "\n",
    "* uop : Unidade Operacional da PRF."
   ]
  },
  {
   "cell_type": "markdown",
   "metadata": {
    "id": "dFaqG7xUEnzB"
   },
   "source": [
    "## 📊 Base de Envolvidos\n",
    "\n",
    "* id : Identificação única do acidente.\n",
    "\n",
    "* pesid : Identificação da pessoa envolvida.\n",
    "\n",
    "* data_inversa : Data do acidente em formato americano (YYYY-MM-DD).\n",
    "\n",
    "* dia_semana : Dia da semana em que ocorreu o acidente.\n",
    "\n",
    "* horario : Hora do acidente.\n",
    "\n",
    "* uf : Unidade Federativa (estado).\n",
    "\n",
    "* br : Número da rodovia federal.\n",
    "\n",
    "* km : Quilômetro exato do acidente.\n",
    "\n",
    "* municipio : Município em que ocorreu o acidente.\n",
    "\n",
    "* causa_acidente : Causa presumida do acidente (ex.: velocidade, ultrapassagem, pista molhada).\n",
    "\n",
    "* tipo_acidente : Tipo de acidente (colisão frontal, saída de pista, atropelamento, tombamento etc.).\n",
    "\n",
    "* classificacao_acidente : Gravidade do acidente (apenas danos, com feridos, com mortos).\n",
    "\n",
    "* fase_dia : Período do dia em que ocorreu o acidente (manhã, tarde, noite, madrugada).\n",
    "\n",
    "* sentido_via : Fluxo da via (mão simples, dupla, etc.).\n",
    "\n",
    "* condicao_metereologica : Condições climáticas no momento do acidente (chuva, neblina, ensolarado etc.).\n",
    "\n",
    "* tipo_pista : Tipo de pista (simples, dupla, múltipla).\n",
    "\n",
    "* tracado_via : Configuração ou condição da via/trecho (reta, curva, aclive, declive; pode ter múltiplas características separadas por ';').\n",
    "\n",
    "* uso_solo : Aparentemente indica se um dos veiculos eram usados por apenas uma pessoa.(Muitos dados incosistentes nesta coluna)\n",
    "\n",
    "* tipo_veiculo : Categoria do veículo envolvido (carro, caminhão, moto, ônibus).\n",
    "\n",
    "* marca : Marca do veículo.\n",
    "\n",
    "* ano_fabricacao_veiculo : Ano de fabricação do veículo.\n",
    "\n",
    "* tipo_envolvido : Papel da pessoa no acidente (condutor, passageiro, pedestre).\n",
    "\n",
    "* estado_fisico : Condição da pessoa (ileso, ferido leve, ferido grave, morto).\n",
    "\n",
    "* idade : Idade da pessoa envolvida.\n",
    "\n",
    "* sexo : Sexo da pessoa envolvida.\n",
    "\n",
    "* mortos :  Se pesid foi a óbito.(Usada para soma na base de ocorrencias)\n",
    "\n",
    "* feridos_leves : Se pesid foi ferido(a) levemente. (Usada para soma na base de ocorrencias)\n",
    "\n",
    "* feridos_graves : Se pesid foi ferido(a) gravemente.(Usada para soma na base de ocorrencias)\n",
    "\n",
    "* ilesos : Se pesid saiu ileso(a).(Usada para soma na base de ocorrencias)\n",
    "\n",
    "* latitude / longitude : Coordenadas geográficas do acidente.\n",
    "\n",
    "* regional : Regional da PRF responsável pelo registro.\n",
    "\n",
    "* delegacia : Delegacia da PRF responsável.\n",
    "\n",
    "* uop : Unidade Operacional da PRF que registrou o acidente."
   ]
  },
  {
   "cell_type": "markdown",
   "metadata": {
    "id": "VJhUzIj7a3KH"
   },
   "source": [
    "# **Pré-processamento**"
   ]
  },
  {
   "cell_type": "markdown",
   "metadata": {
    "id": "3SK-j-YrZNVG"
   },
   "source": [
    "\n",
    "\n",
    "*   Verificando valores Nulos e/ou Invalidos\n",
    "\n"
   ]
  },
  {
   "cell_type": "code",
   "execution_count": 9,
   "metadata": {
    "colab": {
     "base_uri": "https://localhost:8080/",
     "height": 209
    },
    "id": "8hWMI0Oze8NQ",
    "outputId": "93d32428-874a-4180-c791-ca3b85c23b63"
   },
   "outputs": [
    {
     "data": {
      "text/plain": [
       "classificacao_acidente     1\n",
       "regional                   5\n",
       "delegacia                 18\n",
       "uop                       24\n",
       "dtype: int64"
      ]
     },
     "execution_count": 9,
     "metadata": {},
     "output_type": "execute_result"
    }
   ],
   "source": [
    "# VAMOS VERIFICAR VALORES NULOS OU INVALIDOS\n",
    "\n",
    "df_ocorrencias.isna().sum()[df_ocorrencias.isna().sum() > 0]\n",
    "\n",
    "# Tem uma linha com 'classificação_acidente' com valor nulo\n",
    "# Algumas linhas com regional,delegacia e uop nulos"
   ]
  },
  {
   "cell_type": "code",
   "execution_count": 10,
   "metadata": {
    "colab": {
     "base_uri": "https://localhost:8080/"
    },
    "id": "XlYSS76rQJSp",
    "outputId": "9a00954f-1b32-4adf-a28e-116d89c743c4"
   },
   "outputs": [
    {
     "data": {
      "text/plain": [
       "array(['Com Vítimas Feridas', nan, 'Com Vítimas Fatais', 'Sem Vítimas'],\n",
       "      dtype=object)"
      ]
     },
     "execution_count": 10,
     "metadata": {},
     "output_type": "execute_result"
    }
   ],
   "source": [
    "df_ocorrencias['classificacao_acidente'].unique()\n",
    "# VERIFICANDO AS CLASSIFICAÇÕES"
   ]
  },
  {
   "cell_type": "code",
   "execution_count": 11,
   "metadata": {
    "colab": {
     "base_uri": "https://localhost:8080/",
     "height": 115
    },
    "id": "1QbqjIs8QRjO",
    "outputId": "ed174741-ec98-4a99-9084-8143046d73a4"
   },
   "outputs": [
    {
     "data": {
      "text/plain": [
       "1    1\n",
       "Name: mortos, dtype: int64"
      ]
     },
     "execution_count": 11,
     "metadata": {},
     "output_type": "execute_result"
    }
   ],
   "source": [
    "df_ocorrencias['mortos'][df_ocorrencias['classificacao_acidente'].isna()]\n",
    "#VERIFICADO QUE HOUVE MORTOS NESSE ACIDENTE ESPECIFICO"
   ]
  },
  {
   "cell_type": "code",
   "execution_count": 12,
   "metadata": {
    "id": "ARmXsPCGSHNK"
   },
   "outputs": [],
   "source": [
    "df_ocorrencias['classificacao_acidente'] = df_ocorrencias['classificacao_acidente'].fillna('Com Vítimas Fatais')"
   ]
  },
  {
   "cell_type": "code",
   "execution_count": 13,
   "metadata": {
    "id": "l4Wn86iYTeRC"
   },
   "outputs": [],
   "source": [
    "#PARA NÃO PRECISAR TRATAR AS DEMAIS COLUNAS, PARA CONCENTRAR NAS INFORMAÇÕES DOS ACIDENTES EM SÍ\n",
    "df_ocorrencias = df_ocorrencias.drop(['regional','delegacia','uop'], axis=\"columns\")"
   ]
  },
  {
   "cell_type": "code",
   "execution_count": 14,
   "metadata": {
    "colab": {
     "base_uri": "https://localhost:8080/"
    },
    "id": "jydoHThBLKdE",
    "outputId": "ce8d8816-1208-441e-f8d5-d8f9f86f9a06"
   },
   "outputs": [
    {
     "name": "stdout",
     "output_type": "stream",
     "text": [
      "id                         int64\n",
      "data_inversa              object\n",
      "dia_semana                object\n",
      "horario                   object\n",
      "uf                        object\n",
      "br                         int64\n",
      "km                        object\n",
      "municipio                 object\n",
      "causa_acidente            object\n",
      "tipo_acidente             object\n",
      "classificacao_acidente    object\n",
      "fase_dia                  object\n",
      "sentido_via               object\n",
      "condicao_metereologica    object\n",
      "tipo_pista                object\n",
      "tracado_via               object\n",
      "uso_solo                  object\n",
      "pessoas                    int64\n",
      "mortos                     int64\n",
      "feridos_leves              int64\n",
      "feridos_graves             int64\n",
      "ilesos                     int64\n",
      "ignorados                  int64\n",
      "feridos                    int64\n",
      "veiculos                   int64\n",
      "latitude                  object\n",
      "longitude                 object\n",
      "dtype: object\n"
     ]
    }
   ],
   "source": [
    "print(df_ocorrencias.dtypes)"
   ]
  },
  {
   "cell_type": "code",
   "execution_count": 15,
   "metadata": {
    "id": "iisG23eeL4Mg"
   },
   "outputs": [],
   "source": [
    "#TRATAR ALGUMAS CONVERSÕES DE TEMPO E HORARIO\n",
    "\n",
    "df_ocorrencias['data_inversa'] = pd.to_datetime(df_ocorrencias['data_inversa'],  format=\"%Y-%m-%d\")\n",
    "df_ocorrencias['horario'] = pd.to_datetime(df_ocorrencias['horario'], format='%H:%M:%S')\n",
    "\n",
    "# CONVERTER TODAS AS COLUNAS OBJECT PARA TIPO SRT\n",
    "for coluna in df_ocorrencias.select_dtypes(include=['object']).columns:\n",
    "    df_ocorrencias[coluna] = df_ocorrencias[coluna].astype('string')"
   ]
  },
  {
   "cell_type": "code",
   "execution_count": 16,
   "metadata": {
    "colab": {
     "base_uri": "https://localhost:8080/"
    },
    "id": "AipwXXHmDv7h",
    "outputId": "d0ee6bd1-45ad-4f03-8d5d-5595a29d1ab3"
   },
   "outputs": [
    {
     "data": {
      "text/plain": [
       "0"
      ]
     },
     "execution_count": 16,
     "metadata": {},
     "output_type": "execute_result"
    }
   ],
   "source": [
    "#VERIFICAR LINHAS DUPLICADAS\n",
    "df_ocorrencias.duplicated().sum()"
   ]
  },
  {
   "cell_type": "markdown",
   "metadata": {
    "id": "PSRUe6G_Fita"
   },
   "source": [
    "AGORA NA TABELA ENVOLVIDOS"
   ]
  },
  {
   "cell_type": "code",
   "execution_count": 17,
   "metadata": {
    "colab": {
     "base_uri": "https://localhost:8080/",
     "height": 335
    },
    "id": "NoFqd3ORtRiD",
    "outputId": "378bd092-60b8-4472-f369-2baa9b128200"
   },
   "outputs": [
    {
     "data": {
      "text/plain": [
       "classificacao_acidente       7\n",
       "tipo_veiculo              3609\n",
       "tipo_envolvido            9715\n",
       "estado_fisico             9715\n",
       "sexo                      9715\n",
       "regional                    12\n",
       "delegacia                   59\n",
       "uop                         85\n",
       "dtype: int64"
      ]
     },
     "execution_count": 17,
     "metadata": {},
     "output_type": "execute_result"
    }
   ],
   "source": [
    "# VAMOS VERIFICAR VALORES NULOS OU INVALIDOS\n",
    "\n",
    "df_envolvidos.isna().sum()[df_envolvidos.isna().sum() > 0]\n",
    "\n",
    "# Tem uma linha com 'classificação_acidente' com valor nulo\n",
    "# Algumas linhas com regional,delegacia e uop nulos"
   ]
  },
  {
   "cell_type": "code",
   "execution_count": 18,
   "metadata": {
    "id": "ffFErC0X76GE"
   },
   "outputs": [],
   "source": [
    "#REMOVER COLUNAS, PARA CONCENTRAR NAS INFORMAÇÕES DOS ACIDENTES EM SÍ\n",
    "df_envolvidos = df_envolvidos.drop(['regional','delegacia','uop'], axis=\"columns\")"
   ]
  },
  {
   "cell_type": "code",
   "execution_count": 19,
   "metadata": {
    "colab": {
     "base_uri": "https://localhost:8080/",
     "height": 439
    },
    "id": "yDS0Zc7L8MpD",
    "outputId": "71e0b564-d03f-43c6-f3a7-0a8c8e9377b1"
   },
   "outputs": [
    {
     "data": {
      "text/html": [
       "<div>\n",
       "<style scoped>\n",
       "    .dataframe tbody tr th:only-of-type {\n",
       "        vertical-align: middle;\n",
       "    }\n",
       "\n",
       "    .dataframe tbody tr th {\n",
       "        vertical-align: top;\n",
       "    }\n",
       "\n",
       "    .dataframe thead th {\n",
       "        text-align: right;\n",
       "    }\n",
       "</style>\n",
       "<table border=\"1\" class=\"dataframe\">\n",
       "  <thead>\n",
       "    <tr style=\"text-align: right;\">\n",
       "      <th></th>\n",
       "      <th>id</th>\n",
       "      <th>pesid</th>\n",
       "      <th>data_inversa</th>\n",
       "      <th>dia_semana</th>\n",
       "      <th>horario</th>\n",
       "      <th>uf</th>\n",
       "      <th>br</th>\n",
       "      <th>km</th>\n",
       "      <th>municipio</th>\n",
       "      <th>causa_acidente</th>\n",
       "      <th>...</th>\n",
       "      <th>tipo_envolvido</th>\n",
       "      <th>estado_fisico</th>\n",
       "      <th>idade</th>\n",
       "      <th>sexo</th>\n",
       "      <th>ilesos</th>\n",
       "      <th>feridos_leves</th>\n",
       "      <th>feridos_graves</th>\n",
       "      <th>mortos</th>\n",
       "      <th>latitude</th>\n",
       "      <th>longitude</th>\n",
       "    </tr>\n",
       "  </thead>\n",
       "  <tbody>\n",
       "    <tr>\n",
       "      <th>1</th>\n",
       "      <td>652519</td>\n",
       "      <td>1467833</td>\n",
       "      <td>2025-01-01</td>\n",
       "      <td>quarta-feira</td>\n",
       "      <td>07:50:00</td>\n",
       "      <td>CE</td>\n",
       "      <td>116</td>\n",
       "      <td>546,2</td>\n",
       "      <td>PENAFORTE</td>\n",
       "      <td>Pista esburacada</td>\n",
       "      <td>...</td>\n",
       "      <td>Condutor</td>\n",
       "      <td>Ileso</td>\n",
       "      <td>31</td>\n",
       "      <td>Masculino</td>\n",
       "      <td>1</td>\n",
       "      <td>0</td>\n",
       "      <td>0</td>\n",
       "      <td>0</td>\n",
       "      <td>-7,812288</td>\n",
       "      <td>-39,08333306</td>\n",
       "    </tr>\n",
       "    <tr>\n",
       "      <th>14284</th>\n",
       "      <td>652519</td>\n",
       "      <td>0</td>\n",
       "      <td>2025-01-01</td>\n",
       "      <td>quarta-feira</td>\n",
       "      <td>07:50:00</td>\n",
       "      <td>CE</td>\n",
       "      <td>116</td>\n",
       "      <td>546,2</td>\n",
       "      <td>PENAFORTE</td>\n",
       "      <td>Pista esburacada</td>\n",
       "      <td>...</td>\n",
       "      <td>NaN</td>\n",
       "      <td>NaN</td>\n",
       "      <td>0</td>\n",
       "      <td>NaN</td>\n",
       "      <td>0</td>\n",
       "      <td>0</td>\n",
       "      <td>0</td>\n",
       "      <td>0</td>\n",
       "      <td>-7,812288</td>\n",
       "      <td>-39,08333306</td>\n",
       "    </tr>\n",
       "    <tr>\n",
       "      <th>14285</th>\n",
       "      <td>652519</td>\n",
       "      <td>0</td>\n",
       "      <td>2025-01-01</td>\n",
       "      <td>quarta-feira</td>\n",
       "      <td>07:50:00</td>\n",
       "      <td>CE</td>\n",
       "      <td>116</td>\n",
       "      <td>546,2</td>\n",
       "      <td>PENAFORTE</td>\n",
       "      <td>Pista esburacada</td>\n",
       "      <td>...</td>\n",
       "      <td>NaN</td>\n",
       "      <td>NaN</td>\n",
       "      <td>0</td>\n",
       "      <td>NaN</td>\n",
       "      <td>0</td>\n",
       "      <td>0</td>\n",
       "      <td>0</td>\n",
       "      <td>0</td>\n",
       "      <td>-7,812288</td>\n",
       "      <td>-39,08333306</td>\n",
       "    </tr>\n",
       "    <tr>\n",
       "      <th>23751</th>\n",
       "      <td>652519</td>\n",
       "      <td>1478721</td>\n",
       "      <td>2025-01-01</td>\n",
       "      <td>quarta-feira</td>\n",
       "      <td>07:50:00</td>\n",
       "      <td>CE</td>\n",
       "      <td>116</td>\n",
       "      <td>546,2</td>\n",
       "      <td>PENAFORTE</td>\n",
       "      <td>Pista esburacada</td>\n",
       "      <td>...</td>\n",
       "      <td>Condutor</td>\n",
       "      <td>Não Informado</td>\n",
       "      <td>0</td>\n",
       "      <td>Não Informado</td>\n",
       "      <td>0</td>\n",
       "      <td>0</td>\n",
       "      <td>0</td>\n",
       "      <td>0</td>\n",
       "      <td>-7,812288</td>\n",
       "      <td>-39,08333306</td>\n",
       "    </tr>\n",
       "    <tr>\n",
       "      <th>23752</th>\n",
       "      <td>652519</td>\n",
       "      <td>1467832</td>\n",
       "      <td>2025-01-01</td>\n",
       "      <td>quarta-feira</td>\n",
       "      <td>07:50:00</td>\n",
       "      <td>CE</td>\n",
       "      <td>116</td>\n",
       "      <td>546,2</td>\n",
       "      <td>PENAFORTE</td>\n",
       "      <td>Pista esburacada</td>\n",
       "      <td>...</td>\n",
       "      <td>Passageiro</td>\n",
       "      <td>Óbito</td>\n",
       "      <td>31</td>\n",
       "      <td>Masculino</td>\n",
       "      <td>0</td>\n",
       "      <td>0</td>\n",
       "      <td>0</td>\n",
       "      <td>1</td>\n",
       "      <td>-7,812288</td>\n",
       "      <td>-39,08333306</td>\n",
       "    </tr>\n",
       "    <tr>\n",
       "      <th>23753</th>\n",
       "      <td>652519</td>\n",
       "      <td>1467829</td>\n",
       "      <td>2025-01-01</td>\n",
       "      <td>quarta-feira</td>\n",
       "      <td>07:50:00</td>\n",
       "      <td>CE</td>\n",
       "      <td>116</td>\n",
       "      <td>546,2</td>\n",
       "      <td>PENAFORTE</td>\n",
       "      <td>Pista esburacada</td>\n",
       "      <td>...</td>\n",
       "      <td>Condutor</td>\n",
       "      <td>Lesões Leves</td>\n",
       "      <td>44</td>\n",
       "      <td>Masculino</td>\n",
       "      <td>0</td>\n",
       "      <td>1</td>\n",
       "      <td>0</td>\n",
       "      <td>0</td>\n",
       "      <td>-7,812288</td>\n",
       "      <td>-39,08333306</td>\n",
       "    </tr>\n",
       "    <tr>\n",
       "      <th>23754</th>\n",
       "      <td>652519</td>\n",
       "      <td>1470998</td>\n",
       "      <td>2025-01-01</td>\n",
       "      <td>quarta-feira</td>\n",
       "      <td>07:50:00</td>\n",
       "      <td>CE</td>\n",
       "      <td>116</td>\n",
       "      <td>546,2</td>\n",
       "      <td>PENAFORTE</td>\n",
       "      <td>Pista esburacada</td>\n",
       "      <td>...</td>\n",
       "      <td>Testemunha</td>\n",
       "      <td>Não Informado</td>\n",
       "      <td>0</td>\n",
       "      <td>Não Informado</td>\n",
       "      <td>0</td>\n",
       "      <td>0</td>\n",
       "      <td>0</td>\n",
       "      <td>0</td>\n",
       "      <td>-7,812288</td>\n",
       "      <td>-39,08333306</td>\n",
       "    </tr>\n",
       "  </tbody>\n",
       "</table>\n",
       "<p>7 rows × 32 columns</p>\n",
       "</div>"
      ],
      "text/plain": [
       "           id    pesid data_inversa    dia_semana   horario  uf   br     km  \\\n",
       "1      652519  1467833   2025-01-01  quarta-feira  07:50:00  CE  116  546,2   \n",
       "14284  652519        0   2025-01-01  quarta-feira  07:50:00  CE  116  546,2   \n",
       "14285  652519        0   2025-01-01  quarta-feira  07:50:00  CE  116  546,2   \n",
       "23751  652519  1478721   2025-01-01  quarta-feira  07:50:00  CE  116  546,2   \n",
       "23752  652519  1467832   2025-01-01  quarta-feira  07:50:00  CE  116  546,2   \n",
       "23753  652519  1467829   2025-01-01  quarta-feira  07:50:00  CE  116  546,2   \n",
       "23754  652519  1470998   2025-01-01  quarta-feira  07:50:00  CE  116  546,2   \n",
       "\n",
       "       municipio    causa_acidente  ... tipo_envolvido  estado_fisico idade  \\\n",
       "1      PENAFORTE  Pista esburacada  ...       Condutor          Ileso    31   \n",
       "14284  PENAFORTE  Pista esburacada  ...            NaN            NaN     0   \n",
       "14285  PENAFORTE  Pista esburacada  ...            NaN            NaN     0   \n",
       "23751  PENAFORTE  Pista esburacada  ...       Condutor  Não Informado     0   \n",
       "23752  PENAFORTE  Pista esburacada  ...     Passageiro          Óbito    31   \n",
       "23753  PENAFORTE  Pista esburacada  ...       Condutor   Lesões Leves    44   \n",
       "23754  PENAFORTE  Pista esburacada  ...     Testemunha  Não Informado     0   \n",
       "\n",
       "                sexo ilesos feridos_leves feridos_graves mortos   latitude  \\\n",
       "1          Masculino      1             0              0      0  -7,812288   \n",
       "14284            NaN      0             0              0      0  -7,812288   \n",
       "14285            NaN      0             0              0      0  -7,812288   \n",
       "23751  Não Informado      0             0              0      0  -7,812288   \n",
       "23752      Masculino      0             0              0      1  -7,812288   \n",
       "23753      Masculino      0             1              0      0  -7,812288   \n",
       "23754  Não Informado      0             0              0      0  -7,812288   \n",
       "\n",
       "          longitude  \n",
       "1      -39,08333306  \n",
       "14284  -39,08333306  \n",
       "14285  -39,08333306  \n",
       "23751  -39,08333306  \n",
       "23752  -39,08333306  \n",
       "23753  -39,08333306  \n",
       "23754  -39,08333306  \n",
       "\n",
       "[7 rows x 32 columns]"
      ]
     },
     "execution_count": 19,
     "metadata": {},
     "output_type": "execute_result"
    }
   ],
   "source": [
    "#VERIFICAR OS VALORES NULOS DOS ACIDENTES NÃO CLASSIFICADOS\n",
    "df_envolvidos[df_envolvidos['classificacao_acidente'].isna()]\n",
    "\n",
    "#TODAS AS LINHAS SÃO DO MESMO ACIDENTE"
   ]
  },
  {
   "cell_type": "code",
   "execution_count": 20,
   "metadata": {
    "id": "qEoVTA7Y9o8U"
   },
   "outputs": [],
   "source": [
    "df_envolvidos['classificacao_acidente'] = df_envolvidos['classificacao_acidente'].fillna('Com Vítimas Fatais')"
   ]
  },
  {
   "cell_type": "markdown",
   "metadata": {
    "id": "dJHiTohkAn5S"
   },
   "source": [
    "Vamos Deixar somente as Colunas exclusivas do DF_Envolvidos"
   ]
  },
  {
   "cell_type": "code",
   "execution_count": 21,
   "metadata": {
    "colab": {
     "base_uri": "https://localhost:8080/"
    },
    "id": "h7isE6gr_AU7",
    "outputId": "8319f217-aa9c-4da9-90ae-00eb7206aed6"
   },
   "outputs": [
    {
     "data": {
      "text/plain": [
       "Index(['ano_fabricacao_veiculo', 'estado_fisico', 'id_veiculo', 'idade',\n",
       "       'marca', 'pesid', 'sexo', 'tipo_envolvido', 'tipo_veiculo'],\n",
       "      dtype='object')"
      ]
     },
     "execution_count": 21,
     "metadata": {},
     "output_type": "execute_result"
    }
   ],
   "source": [
    "df_colunas_exclusivas = df_envolvidos.columns.difference(df_ocorrencias.columns)\n",
    "df_colunas_exclusivas"
   ]
  },
  {
   "cell_type": "code",
   "execution_count": 22,
   "metadata": {
    "colab": {
     "base_uri": "https://localhost:8080/",
     "height": 209
    },
    "id": "yj7Dz_FmvCAj",
    "outputId": "0b626d5b-7418-4c66-b104-157db27ac7af"
   },
   "outputs": [
    {
     "data": {
      "text/plain": [
       "tipo_veiculo      3609\n",
       "tipo_envolvido    9715\n",
       "estado_fisico     9715\n",
       "sexo              9715\n",
       "dtype: int64"
      ]
     },
     "execution_count": 22,
     "metadata": {},
     "output_type": "execute_result"
    }
   ],
   "source": [
    "df_envolvidos.isna().sum()[df_envolvidos.isna().sum() > 0]"
   ]
  },
  {
   "cell_type": "code",
   "execution_count": 23,
   "metadata": {
    "colab": {
     "base_uri": "https://localhost:8080/",
     "height": 652
    },
    "id": "S2-yd4gK_1rz",
    "outputId": "a6d86865-f0ce-436d-e714-5b51d22893e5"
   },
   "outputs": [
    {
     "data": {
      "text/html": [
       "<div>\n",
       "<style scoped>\n",
       "    .dataframe tbody tr th:only-of-type {\n",
       "        vertical-align: middle;\n",
       "    }\n",
       "\n",
       "    .dataframe tbody tr th {\n",
       "        vertical-align: top;\n",
       "    }\n",
       "\n",
       "    .dataframe thead th {\n",
       "        text-align: right;\n",
       "    }\n",
       "</style>\n",
       "<table border=\"1\" class=\"dataframe\">\n",
       "  <thead>\n",
       "    <tr style=\"text-align: right;\">\n",
       "      <th></th>\n",
       "      <th>id</th>\n",
       "      <th>ano_fabricacao_veiculo</th>\n",
       "      <th>estado_fisico</th>\n",
       "      <th>id_veiculo</th>\n",
       "      <th>idade</th>\n",
       "      <th>marca</th>\n",
       "      <th>pesid</th>\n",
       "      <th>sexo</th>\n",
       "      <th>tipo_envolvido</th>\n",
       "      <th>tipo_veiculo</th>\n",
       "      <th>mortos</th>\n",
       "      <th>feridos_leves</th>\n",
       "      <th>feridos_graves</th>\n",
       "      <th>ilesos</th>\n",
       "    </tr>\n",
       "  </thead>\n",
       "  <tbody>\n",
       "    <tr>\n",
       "      <th>0</th>\n",
       "      <td>652493</td>\n",
       "      <td>0</td>\n",
       "      <td>Não Informado</td>\n",
       "      <td>1172970</td>\n",
       "      <td>0</td>\n",
       "      <td>Não Informado/Não Informado</td>\n",
       "      <td>1467686</td>\n",
       "      <td>Não Informado</td>\n",
       "      <td>Condutor</td>\n",
       "      <td>Caminhão</td>\n",
       "      <td>0</td>\n",
       "      <td>0</td>\n",
       "      <td>0</td>\n",
       "      <td>0</td>\n",
       "    </tr>\n",
       "    <tr>\n",
       "      <th>1</th>\n",
       "      <td>652519</td>\n",
       "      <td>2021</td>\n",
       "      <td>Ileso</td>\n",
       "      <td>1173068</td>\n",
       "      <td>31</td>\n",
       "      <td>SCANIA/R500 A6X4</td>\n",
       "      <td>1467833</td>\n",
       "      <td>Masculino</td>\n",
       "      <td>Condutor</td>\n",
       "      <td>Caminhão-trator</td>\n",
       "      <td>0</td>\n",
       "      <td>0</td>\n",
       "      <td>0</td>\n",
       "      <td>1</td>\n",
       "    </tr>\n",
       "    <tr>\n",
       "      <th>2</th>\n",
       "      <td>652522</td>\n",
       "      <td>1999</td>\n",
       "      <td>Ileso</td>\n",
       "      <td>1173216</td>\n",
       "      <td>60</td>\n",
       "      <td>M.BENZ/L 1620</td>\n",
       "      <td>1468042</td>\n",
       "      <td>Masculino</td>\n",
       "      <td>Condutor</td>\n",
       "      <td>Caminhão</td>\n",
       "      <td>0</td>\n",
       "      <td>0</td>\n",
       "      <td>0</td>\n",
       "      <td>1</td>\n",
       "    </tr>\n",
       "    <tr>\n",
       "      <th>3</th>\n",
       "      <td>652544</td>\n",
       "      <td>2013</td>\n",
       "      <td>Ileso</td>\n",
       "      <td>1173088</td>\n",
       "      <td>40</td>\n",
       "      <td>IVECO/VERTIS 90V18</td>\n",
       "      <td>1467849</td>\n",
       "      <td>Masculino</td>\n",
       "      <td>Condutor</td>\n",
       "      <td>Caminhão</td>\n",
       "      <td>0</td>\n",
       "      <td>0</td>\n",
       "      <td>0</td>\n",
       "      <td>1</td>\n",
       "    </tr>\n",
       "    <tr>\n",
       "      <th>4</th>\n",
       "      <td>652549</td>\n",
       "      <td>2022</td>\n",
       "      <td>Ileso</td>\n",
       "      <td>1173042</td>\n",
       "      <td>55</td>\n",
       "      <td>VW/28.460 METEOR 6X2</td>\n",
       "      <td>1467791</td>\n",
       "      <td>Masculino</td>\n",
       "      <td>Condutor</td>\n",
       "      <td>Caminhão-trator</td>\n",
       "      <td>0</td>\n",
       "      <td>0</td>\n",
       "      <td>0</td>\n",
       "      <td>1</td>\n",
       "    </tr>\n",
       "    <tr>\n",
       "      <th>...</th>\n",
       "      <td>...</td>\n",
       "      <td>...</td>\n",
       "      <td>...</td>\n",
       "      <td>...</td>\n",
       "      <td>...</td>\n",
       "      <td>...</td>\n",
       "      <td>...</td>\n",
       "      <td>...</td>\n",
       "      <td>...</td>\n",
       "      <td>...</td>\n",
       "      <td>...</td>\n",
       "      <td>...</td>\n",
       "      <td>...</td>\n",
       "      <td>...</td>\n",
       "    </tr>\n",
       "    <tr>\n",
       "      <th>109983</th>\n",
       "      <td>712638</td>\n",
       "      <td>2019</td>\n",
       "      <td>Lesões Graves</td>\n",
       "      <td>1267913</td>\n",
       "      <td>66</td>\n",
       "      <td>HONDA/CG 160 FAN</td>\n",
       "      <td>1588947</td>\n",
       "      <td>Masculino</td>\n",
       "      <td>Condutor</td>\n",
       "      <td>Motocicleta</td>\n",
       "      <td>0</td>\n",
       "      <td>0</td>\n",
       "      <td>1</td>\n",
       "      <td>0</td>\n",
       "    </tr>\n",
       "    <tr>\n",
       "      <th>109984</th>\n",
       "      <td>712638</td>\n",
       "      <td>2021</td>\n",
       "      <td>Ileso</td>\n",
       "      <td>1267912</td>\n",
       "      <td>40</td>\n",
       "      <td>CHEV/ONIX PLUS 10TAT PR1</td>\n",
       "      <td>1588946</td>\n",
       "      <td>Masculino</td>\n",
       "      <td>Condutor</td>\n",
       "      <td>Automóvel</td>\n",
       "      <td>0</td>\n",
       "      <td>0</td>\n",
       "      <td>0</td>\n",
       "      <td>1</td>\n",
       "    </tr>\n",
       "    <tr>\n",
       "      <th>109985</th>\n",
       "      <td>712659</td>\n",
       "      <td>0</td>\n",
       "      <td>Ileso</td>\n",
       "      <td>1267961</td>\n",
       "      <td>0</td>\n",
       "      <td>GM/CELTA 4P LIFE</td>\n",
       "      <td>1589001</td>\n",
       "      <td>Masculino</td>\n",
       "      <td>Condutor</td>\n",
       "      <td>Automóvel</td>\n",
       "      <td>0</td>\n",
       "      <td>0</td>\n",
       "      <td>0</td>\n",
       "      <td>1</td>\n",
       "    </tr>\n",
       "    <tr>\n",
       "      <th>109986</th>\n",
       "      <td>712659</td>\n",
       "      <td>0</td>\n",
       "      <td>Lesões Leves</td>\n",
       "      <td>1267961</td>\n",
       "      <td>0</td>\n",
       "      <td>GM/CELTA 4P LIFE</td>\n",
       "      <td>1589000</td>\n",
       "      <td>Masculino</td>\n",
       "      <td>Passageiro</td>\n",
       "      <td>Automóvel</td>\n",
       "      <td>0</td>\n",
       "      <td>1</td>\n",
       "      <td>0</td>\n",
       "      <td>0</td>\n",
       "    </tr>\n",
       "    <tr>\n",
       "      <th>109987</th>\n",
       "      <td>712670</td>\n",
       "      <td>2024</td>\n",
       "      <td>Óbito</td>\n",
       "      <td>1268000</td>\n",
       "      <td>0</td>\n",
       "      <td>HONDA/CG 160 FAN</td>\n",
       "      <td>1589040</td>\n",
       "      <td>Masculino</td>\n",
       "      <td>Condutor</td>\n",
       "      <td>Motocicleta</td>\n",
       "      <td>1</td>\n",
       "      <td>0</td>\n",
       "      <td>0</td>\n",
       "      <td>0</td>\n",
       "    </tr>\n",
       "  </tbody>\n",
       "</table>\n",
       "<p>109988 rows × 14 columns</p>\n",
       "</div>"
      ],
      "text/plain": [
       "            id  ano_fabricacao_veiculo  estado_fisico  id_veiculo  idade  \\\n",
       "0       652493                       0  Não Informado     1172970      0   \n",
       "1       652519                    2021          Ileso     1173068     31   \n",
       "2       652522                    1999          Ileso     1173216     60   \n",
       "3       652544                    2013          Ileso     1173088     40   \n",
       "4       652549                    2022          Ileso     1173042     55   \n",
       "...        ...                     ...            ...         ...    ...   \n",
       "109983  712638                    2019  Lesões Graves     1267913     66   \n",
       "109984  712638                    2021          Ileso     1267912     40   \n",
       "109985  712659                       0          Ileso     1267961      0   \n",
       "109986  712659                       0   Lesões Leves     1267961      0   \n",
       "109987  712670                    2024          Óbito     1268000      0   \n",
       "\n",
       "                              marca    pesid           sexo tipo_envolvido  \\\n",
       "0       Não Informado/Não Informado  1467686  Não Informado       Condutor   \n",
       "1                  SCANIA/R500 A6X4  1467833      Masculino       Condutor   \n",
       "2                     M.BENZ/L 1620  1468042      Masculino       Condutor   \n",
       "3                IVECO/VERTIS 90V18  1467849      Masculino       Condutor   \n",
       "4              VW/28.460 METEOR 6X2  1467791      Masculino       Condutor   \n",
       "...                             ...      ...            ...            ...   \n",
       "109983             HONDA/CG 160 FAN  1588947      Masculino       Condutor   \n",
       "109984     CHEV/ONIX PLUS 10TAT PR1  1588946      Masculino       Condutor   \n",
       "109985             GM/CELTA 4P LIFE  1589001      Masculino       Condutor   \n",
       "109986             GM/CELTA 4P LIFE  1589000      Masculino     Passageiro   \n",
       "109987             HONDA/CG 160 FAN  1589040      Masculino       Condutor   \n",
       "\n",
       "           tipo_veiculo  mortos  feridos_leves  feridos_graves  ilesos  \n",
       "0              Caminhão       0              0               0       0  \n",
       "1       Caminhão-trator       0              0               0       1  \n",
       "2              Caminhão       0              0               0       1  \n",
       "3              Caminhão       0              0               0       1  \n",
       "4       Caminhão-trator       0              0               0       1  \n",
       "...                 ...     ...            ...             ...     ...  \n",
       "109983      Motocicleta       0              0               1       0  \n",
       "109984        Automóvel       0              0               0       1  \n",
       "109985        Automóvel       0              0               0       1  \n",
       "109986        Automóvel       0              1               0       0  \n",
       "109987      Motocicleta       1              0               0       0  \n",
       "\n",
       "[109988 rows x 14 columns]"
      ]
     },
     "execution_count": 23,
     "metadata": {},
     "output_type": "execute_result"
    }
   ],
   "source": [
    "colunas_a_manter = ['id', #FK COM A TABELA DE OCORRENCIAS\n",
    "                    'ano_fabricacao_veiculo', 'estado_fisico', 'id_veiculo', 'idade','marca', 'pesid', 'sexo', 'tipo_envolvido', 'tipo_veiculo',# COLUNAS EXCLUSIVAS\n",
    "                    'mortos', 'feridos_leves', 'feridos_graves', 'ilesos'] #COLUNAS QUE INDICAM A SITUAÇÃO DO ENVOLVIDO\n",
    "df_envolvidos = df_envolvidos[colunas_a_manter]\n",
    "df_envolvidos"
   ]
  },
  {
   "cell_type": "code",
   "execution_count": 24,
   "metadata": {
    "colab": {
     "base_uri": "https://localhost:8080/",
     "height": 330
    },
    "id": "UZSiOzt_Gt2T",
    "outputId": "fbdc1300-8f48-4bf3-e4a6-8ca067a778e8"
   },
   "outputs": [
    {
     "data": {
      "text/html": [
       "<div>\n",
       "<style scoped>\n",
       "    .dataframe tbody tr th:only-of-type {\n",
       "        vertical-align: middle;\n",
       "    }\n",
       "\n",
       "    .dataframe tbody tr th {\n",
       "        vertical-align: top;\n",
       "    }\n",
       "\n",
       "    .dataframe thead th {\n",
       "        text-align: right;\n",
       "    }\n",
       "</style>\n",
       "<table border=\"1\" class=\"dataframe\">\n",
       "  <thead>\n",
       "    <tr style=\"text-align: right;\">\n",
       "      <th></th>\n",
       "      <th>id</th>\n",
       "      <th>ano_fabricacao_veiculo</th>\n",
       "      <th>estado_fisico</th>\n",
       "      <th>id_veiculo</th>\n",
       "      <th>idade</th>\n",
       "      <th>marca</th>\n",
       "      <th>pesid</th>\n",
       "      <th>sexo</th>\n",
       "      <th>tipo_envolvido</th>\n",
       "      <th>tipo_veiculo</th>\n",
       "      <th>mortos</th>\n",
       "      <th>feridos_leves</th>\n",
       "      <th>feridos_graves</th>\n",
       "      <th>ilesos</th>\n",
       "    </tr>\n",
       "  </thead>\n",
       "  <tbody>\n",
       "    <tr>\n",
       "      <th>0</th>\n",
       "      <td>652493</td>\n",
       "      <td>0</td>\n",
       "      <td>Não Informado</td>\n",
       "      <td>1172970</td>\n",
       "      <td>0</td>\n",
       "      <td>Não Informado/Não Informado</td>\n",
       "      <td>1467686</td>\n",
       "      <td>Não Informado</td>\n",
       "      <td>Condutor</td>\n",
       "      <td>Caminhão</td>\n",
       "      <td>0</td>\n",
       "      <td>0</td>\n",
       "      <td>0</td>\n",
       "      <td>0</td>\n",
       "    </tr>\n",
       "    <tr>\n",
       "      <th>1</th>\n",
       "      <td>652519</td>\n",
       "      <td>2021</td>\n",
       "      <td>Ileso</td>\n",
       "      <td>1173068</td>\n",
       "      <td>31</td>\n",
       "      <td>SCANIA/R500 A6X4</td>\n",
       "      <td>1467833</td>\n",
       "      <td>Masculino</td>\n",
       "      <td>Condutor</td>\n",
       "      <td>Caminhão-trator</td>\n",
       "      <td>0</td>\n",
       "      <td>0</td>\n",
       "      <td>0</td>\n",
       "      <td>1</td>\n",
       "    </tr>\n",
       "    <tr>\n",
       "      <th>2</th>\n",
       "      <td>652522</td>\n",
       "      <td>1999</td>\n",
       "      <td>Ileso</td>\n",
       "      <td>1173216</td>\n",
       "      <td>60</td>\n",
       "      <td>M.BENZ/L 1620</td>\n",
       "      <td>1468042</td>\n",
       "      <td>Masculino</td>\n",
       "      <td>Condutor</td>\n",
       "      <td>Caminhão</td>\n",
       "      <td>0</td>\n",
       "      <td>0</td>\n",
       "      <td>0</td>\n",
       "      <td>1</td>\n",
       "    </tr>\n",
       "    <tr>\n",
       "      <th>3</th>\n",
       "      <td>652544</td>\n",
       "      <td>2013</td>\n",
       "      <td>Ileso</td>\n",
       "      <td>1173088</td>\n",
       "      <td>40</td>\n",
       "      <td>IVECO/VERTIS 90V18</td>\n",
       "      <td>1467849</td>\n",
       "      <td>Masculino</td>\n",
       "      <td>Condutor</td>\n",
       "      <td>Caminhão</td>\n",
       "      <td>0</td>\n",
       "      <td>0</td>\n",
       "      <td>0</td>\n",
       "      <td>1</td>\n",
       "    </tr>\n",
       "    <tr>\n",
       "      <th>4</th>\n",
       "      <td>652549</td>\n",
       "      <td>2022</td>\n",
       "      <td>Ileso</td>\n",
       "      <td>1173042</td>\n",
       "      <td>55</td>\n",
       "      <td>VW/28.460 METEOR 6X2</td>\n",
       "      <td>1467791</td>\n",
       "      <td>Masculino</td>\n",
       "      <td>Condutor</td>\n",
       "      <td>Caminhão-trator</td>\n",
       "      <td>0</td>\n",
       "      <td>0</td>\n",
       "      <td>0</td>\n",
       "      <td>1</td>\n",
       "    </tr>\n",
       "  </tbody>\n",
       "</table>\n",
       "</div>"
      ],
      "text/plain": [
       "       id  ano_fabricacao_veiculo  estado_fisico  id_veiculo  idade  \\\n",
       "0  652493                       0  Não Informado     1172970      0   \n",
       "1  652519                    2021          Ileso     1173068     31   \n",
       "2  652522                    1999          Ileso     1173216     60   \n",
       "3  652544                    2013          Ileso     1173088     40   \n",
       "4  652549                    2022          Ileso     1173042     55   \n",
       "\n",
       "                         marca    pesid           sexo tipo_envolvido  \\\n",
       "0  Não Informado/Não Informado  1467686  Não Informado       Condutor   \n",
       "1             SCANIA/R500 A6X4  1467833      Masculino       Condutor   \n",
       "2                M.BENZ/L 1620  1468042      Masculino       Condutor   \n",
       "3           IVECO/VERTIS 90V18  1467849      Masculino       Condutor   \n",
       "4         VW/28.460 METEOR 6X2  1467791      Masculino       Condutor   \n",
       "\n",
       "      tipo_veiculo  mortos  feridos_leves  feridos_graves  ilesos  \n",
       "0         Caminhão       0              0               0       0  \n",
       "1  Caminhão-trator       0              0               0       1  \n",
       "2         Caminhão       0              0               0       1  \n",
       "3         Caminhão       0              0               0       1  \n",
       "4  Caminhão-trator       0              0               0       1  "
      ]
     },
     "execution_count": 24,
     "metadata": {},
     "output_type": "execute_result"
    }
   ],
   "source": [
    "df_envolvidos.head()"
   ]
  },
  {
   "cell_type": "code",
   "execution_count": 25,
   "metadata": {
    "colab": {
     "base_uri": "https://localhost:8080/",
     "height": 565
    },
    "id": "42nT7_CZEi19",
    "outputId": "c4f002cb-99c4-492d-ca2f-c4ef49c5e8cf"
   },
   "outputs": [
    {
     "data": {
      "text/html": [
       "<div>\n",
       "<style scoped>\n",
       "    .dataframe tbody tr th:only-of-type {\n",
       "        vertical-align: middle;\n",
       "    }\n",
       "\n",
       "    .dataframe tbody tr th {\n",
       "        vertical-align: top;\n",
       "    }\n",
       "\n",
       "    .dataframe thead th {\n",
       "        text-align: right;\n",
       "    }\n",
       "</style>\n",
       "<table border=\"1\" class=\"dataframe\">\n",
       "  <thead>\n",
       "    <tr style=\"text-align: right;\">\n",
       "      <th></th>\n",
       "      <th>id</th>\n",
       "      <th>ano_fabricacao_veiculo</th>\n",
       "      <th>estado_fisico</th>\n",
       "      <th>id_veiculo</th>\n",
       "      <th>idade</th>\n",
       "      <th>marca</th>\n",
       "      <th>pesid</th>\n",
       "      <th>sexo</th>\n",
       "      <th>tipo_envolvido</th>\n",
       "      <th>tipo_veiculo</th>\n",
       "      <th>mortos</th>\n",
       "      <th>feridos_leves</th>\n",
       "      <th>feridos_graves</th>\n",
       "      <th>ilesos</th>\n",
       "    </tr>\n",
       "  </thead>\n",
       "  <tbody>\n",
       "    <tr>\n",
       "      <th>13950</th>\n",
       "      <td>652655</td>\n",
       "      <td>1994</td>\n",
       "      <td>NaN</td>\n",
       "      <td>1173220</td>\n",
       "      <td>0</td>\n",
       "      <td>FIAT/UNO ELECTRONIC</td>\n",
       "      <td>0</td>\n",
       "      <td>NaN</td>\n",
       "      <td>NaN</td>\n",
       "      <td>Automóvel</td>\n",
       "      <td>0</td>\n",
       "      <td>0</td>\n",
       "      <td>0</td>\n",
       "      <td>0</td>\n",
       "    </tr>\n",
       "    <tr>\n",
       "      <th>13951</th>\n",
       "      <td>653493</td>\n",
       "      <td>1996</td>\n",
       "      <td>NaN</td>\n",
       "      <td>1176278</td>\n",
       "      <td>0</td>\n",
       "      <td>FORD/PAMPA L</td>\n",
       "      <td>0</td>\n",
       "      <td>NaN</td>\n",
       "      <td>NaN</td>\n",
       "      <td>Caminhonete</td>\n",
       "      <td>0</td>\n",
       "      <td>0</td>\n",
       "      <td>0</td>\n",
       "      <td>0</td>\n",
       "    </tr>\n",
       "    <tr>\n",
       "      <th>13952</th>\n",
       "      <td>654274</td>\n",
       "      <td>0</td>\n",
       "      <td>NaN</td>\n",
       "      <td>1176331</td>\n",
       "      <td>0</td>\n",
       "      <td>Não Informado/Não Informado</td>\n",
       "      <td>0</td>\n",
       "      <td>NaN</td>\n",
       "      <td>NaN</td>\n",
       "      <td>Bicicleta</td>\n",
       "      <td>0</td>\n",
       "      <td>0</td>\n",
       "      <td>0</td>\n",
       "      <td>0</td>\n",
       "    </tr>\n",
       "    <tr>\n",
       "      <th>13953</th>\n",
       "      <td>655013</td>\n",
       "      <td>2020</td>\n",
       "      <td>NaN</td>\n",
       "      <td>1177647</td>\n",
       "      <td>0</td>\n",
       "      <td>HONDA/POP 110I</td>\n",
       "      <td>0</td>\n",
       "      <td>NaN</td>\n",
       "      <td>NaN</td>\n",
       "      <td>Motocicleta</td>\n",
       "      <td>0</td>\n",
       "      <td>0</td>\n",
       "      <td>0</td>\n",
       "      <td>0</td>\n",
       "    </tr>\n",
       "    <tr>\n",
       "      <th>13954</th>\n",
       "      <td>656601</td>\n",
       "      <td>2014</td>\n",
       "      <td>NaN</td>\n",
       "      <td>1181933</td>\n",
       "      <td>0</td>\n",
       "      <td>CHEVROLET/ONIX 1.0MT LT</td>\n",
       "      <td>0</td>\n",
       "      <td>NaN</td>\n",
       "      <td>NaN</td>\n",
       "      <td>Automóvel</td>\n",
       "      <td>0</td>\n",
       "      <td>0</td>\n",
       "      <td>0</td>\n",
       "      <td>0</td>\n",
       "    </tr>\n",
       "    <tr>\n",
       "      <th>...</th>\n",
       "      <td>...</td>\n",
       "      <td>...</td>\n",
       "      <td>...</td>\n",
       "      <td>...</td>\n",
       "      <td>...</td>\n",
       "      <td>...</td>\n",
       "      <td>...</td>\n",
       "      <td>...</td>\n",
       "      <td>...</td>\n",
       "      <td>...</td>\n",
       "      <td>...</td>\n",
       "      <td>...</td>\n",
       "      <td>...</td>\n",
       "      <td>...</td>\n",
       "    </tr>\n",
       "    <tr>\n",
       "      <th>23660</th>\n",
       "      <td>704469</td>\n",
       "      <td>2013</td>\n",
       "      <td>NaN</td>\n",
       "      <td>1251695</td>\n",
       "      <td>0</td>\n",
       "      <td>M.BENZ/ATRON 2729 6X4</td>\n",
       "      <td>0</td>\n",
       "      <td>NaN</td>\n",
       "      <td>NaN</td>\n",
       "      <td>Caminhão</td>\n",
       "      <td>0</td>\n",
       "      <td>0</td>\n",
       "      <td>0</td>\n",
       "      <td>0</td>\n",
       "    </tr>\n",
       "    <tr>\n",
       "      <th>23661</th>\n",
       "      <td>706148</td>\n",
       "      <td>2008</td>\n",
       "      <td>NaN</td>\n",
       "      <td>1254944</td>\n",
       "      <td>0</td>\n",
       "      <td>M.BENZ/L 1620</td>\n",
       "      <td>0</td>\n",
       "      <td>NaN</td>\n",
       "      <td>NaN</td>\n",
       "      <td>Caminhão</td>\n",
       "      <td>0</td>\n",
       "      <td>0</td>\n",
       "      <td>0</td>\n",
       "      <td>0</td>\n",
       "    </tr>\n",
       "    <tr>\n",
       "      <th>23662</th>\n",
       "      <td>706966</td>\n",
       "      <td>2023</td>\n",
       "      <td>NaN</td>\n",
       "      <td>1256666</td>\n",
       "      <td>0</td>\n",
       "      <td>DAF/XF FTT 530 SSC</td>\n",
       "      <td>0</td>\n",
       "      <td>NaN</td>\n",
       "      <td>NaN</td>\n",
       "      <td>Caminhão-trator</td>\n",
       "      <td>0</td>\n",
       "      <td>0</td>\n",
       "      <td>0</td>\n",
       "      <td>0</td>\n",
       "    </tr>\n",
       "    <tr>\n",
       "      <th>23663</th>\n",
       "      <td>706986</td>\n",
       "      <td>2025</td>\n",
       "      <td>NaN</td>\n",
       "      <td>1257785</td>\n",
       "      <td>0</td>\n",
       "      <td>VW/DELIVERY 11.180</td>\n",
       "      <td>0</td>\n",
       "      <td>NaN</td>\n",
       "      <td>NaN</td>\n",
       "      <td>Caminhão</td>\n",
       "      <td>0</td>\n",
       "      <td>0</td>\n",
       "      <td>0</td>\n",
       "      <td>0</td>\n",
       "    </tr>\n",
       "    <tr>\n",
       "      <th>23664</th>\n",
       "      <td>707415</td>\n",
       "      <td>1988</td>\n",
       "      <td>NaN</td>\n",
       "      <td>1260886</td>\n",
       "      <td>0</td>\n",
       "      <td>VOLVO/N10</td>\n",
       "      <td>0</td>\n",
       "      <td>NaN</td>\n",
       "      <td>NaN</td>\n",
       "      <td>Caminhão-trator</td>\n",
       "      <td>0</td>\n",
       "      <td>0</td>\n",
       "      <td>0</td>\n",
       "      <td>0</td>\n",
       "    </tr>\n",
       "  </tbody>\n",
       "</table>\n",
       "<p>9715 rows × 14 columns</p>\n",
       "</div>"
      ],
      "text/plain": [
       "           id  ano_fabricacao_veiculo estado_fisico  id_veiculo  idade  \\\n",
       "13950  652655                    1994           NaN     1173220      0   \n",
       "13951  653493                    1996           NaN     1176278      0   \n",
       "13952  654274                       0           NaN     1176331      0   \n",
       "13953  655013                    2020           NaN     1177647      0   \n",
       "13954  656601                    2014           NaN     1181933      0   \n",
       "...       ...                     ...           ...         ...    ...   \n",
       "23660  704469                    2013           NaN     1251695      0   \n",
       "23661  706148                    2008           NaN     1254944      0   \n",
       "23662  706966                    2023           NaN     1256666      0   \n",
       "23663  706986                    2025           NaN     1257785      0   \n",
       "23664  707415                    1988           NaN     1260886      0   \n",
       "\n",
       "                             marca  pesid sexo tipo_envolvido  \\\n",
       "13950          FIAT/UNO ELECTRONIC      0  NaN            NaN   \n",
       "13951                 FORD/PAMPA L      0  NaN            NaN   \n",
       "13952  Não Informado/Não Informado      0  NaN            NaN   \n",
       "13953               HONDA/POP 110I      0  NaN            NaN   \n",
       "13954      CHEVROLET/ONIX 1.0MT LT      0  NaN            NaN   \n",
       "...                            ...    ...  ...            ...   \n",
       "23660        M.BENZ/ATRON 2729 6X4      0  NaN            NaN   \n",
       "23661                M.BENZ/L 1620      0  NaN            NaN   \n",
       "23662           DAF/XF FTT 530 SSC      0  NaN            NaN   \n",
       "23663           VW/DELIVERY 11.180      0  NaN            NaN   \n",
       "23664                    VOLVO/N10      0  NaN            NaN   \n",
       "\n",
       "          tipo_veiculo  mortos  feridos_leves  feridos_graves  ilesos  \n",
       "13950        Automóvel       0              0               0       0  \n",
       "13951      Caminhonete       0              0               0       0  \n",
       "13952        Bicicleta       0              0               0       0  \n",
       "13953      Motocicleta       0              0               0       0  \n",
       "13954        Automóvel       0              0               0       0  \n",
       "...                ...     ...            ...             ...     ...  \n",
       "23660         Caminhão       0              0               0       0  \n",
       "23661         Caminhão       0              0               0       0  \n",
       "23662  Caminhão-trator       0              0               0       0  \n",
       "23663         Caminhão       0              0               0       0  \n",
       "23664  Caminhão-trator       0              0               0       0  \n",
       "\n",
       "[9715 rows x 14 columns]"
      ]
     },
     "execution_count": 25,
     "metadata": {},
     "output_type": "execute_result"
    }
   ],
   "source": [
    "df_envolvidos[df_envolvidos['tipo_envolvido'].isna()]"
   ]
  },
  {
   "cell_type": "markdown",
   "metadata": {
    "id": "3pB_RFUpEBK0"
   },
   "source": [
    "AGORA TRATAR ESSES DADOS COM VARIOS VALORES INVALIDOS"
   ]
  },
  {
   "cell_type": "code",
   "execution_count": 26,
   "metadata": {
    "colab": {
     "base_uri": "https://localhost:8080/"
    },
    "id": "uQx423-wH9WB",
    "outputId": "d8a9bd08-01ff-4498-d1f2-a7e7c2a970b7"
   },
   "outputs": [
    {
     "name": "stdout",
     "output_type": "stream",
     "text": [
      "Collecting pandasql\n",
      "  Downloading pandasql-0.7.3.tar.gz (26 kB)\n",
      "  Preparing metadata (setup.py): started\n",
      "  Preparing metadata (setup.py): finished with status 'done'\n",
      "Requirement already satisfied: numpy in c:\\users\\jmcbi\\anaconda3\\lib\\site-packages (from pandasql) (1.21.5)\n",
      "Requirement already satisfied: pandas in c:\\users\\jmcbi\\anaconda3\\lib\\site-packages (from pandasql) (1.4.4)\n",
      "Requirement already satisfied: sqlalchemy in c:\\users\\jmcbi\\anaconda3\\lib\\site-packages (from pandasql) (1.4.39)\n",
      "Requirement already satisfied: pytz>=2020.1 in c:\\users\\jmcbi\\anaconda3\\lib\\site-packages (from pandas->pandasql) (2022.1)\n",
      "Requirement already satisfied: python-dateutil>=2.8.1 in c:\\users\\jmcbi\\anaconda3\\lib\\site-packages (from pandas->pandasql) (2.8.2)\n",
      "Requirement already satisfied: greenlet!=0.4.17 in c:\\users\\jmcbi\\anaconda3\\lib\\site-packages (from sqlalchemy->pandasql) (1.1.1)\n",
      "Requirement already satisfied: six>=1.5 in c:\\users\\jmcbi\\anaconda3\\lib\\site-packages (from python-dateutil>=2.8.1->pandas->pandasql) (1.16.0)\n",
      "Building wheels for collected packages: pandasql\n",
      "  Building wheel for pandasql (setup.py): started\n",
      "  Building wheel for pandasql (setup.py): finished with status 'done'\n",
      "  Created wheel for pandasql: filename=pandasql-0.7.3-py3-none-any.whl size=26768 sha256=569077dc8d742e9056b721946d5e7bae3e704cbd7d681d7c89958dcf2a25e9f7\n",
      "  Stored in directory: c:\\users\\jmcbi\\appdata\\local\\pip\\cache\\wheels\\63\\e8\\ec\\75b1df467ecf57b6ececb32cb16f4e86697cbfe55cb0c51f07\n",
      "Successfully built pandasql\n",
      "Installing collected packages: pandasql\n",
      "Successfully installed pandasql-0.7.3\n",
      "Note: you may need to restart the kernel to use updated packages.\n"
     ]
    }
   ],
   "source": [
    "pip install pandasql"
   ]
  },
  {
   "cell_type": "code",
   "execution_count": 27,
   "metadata": {
    "colab": {
     "base_uri": "https://localhost:8080/",
     "height": 81
    },
    "id": "l38bp2o_EIN6",
    "outputId": "20c26a0d-4a7d-40af-d1ad-667e0b615294"
   },
   "outputs": [
    {
     "data": {
      "text/html": [
       "<div>\n",
       "<style scoped>\n",
       "    .dataframe tbody tr th:only-of-type {\n",
       "        vertical-align: middle;\n",
       "    }\n",
       "\n",
       "    .dataframe tbody tr th {\n",
       "        vertical-align: top;\n",
       "    }\n",
       "\n",
       "    .dataframe thead th {\n",
       "        text-align: right;\n",
       "    }\n",
       "</style>\n",
       "<table border=\"1\" class=\"dataframe\">\n",
       "  <thead>\n",
       "    <tr style=\"text-align: right;\">\n",
       "      <th></th>\n",
       "      <th>COUNT(*)</th>\n",
       "    </tr>\n",
       "  </thead>\n",
       "  <tbody>\n",
       "    <tr>\n",
       "      <th>0</th>\n",
       "      <td>9715</td>\n",
       "    </tr>\n",
       "  </tbody>\n",
       "</table>\n",
       "</div>"
      ],
      "text/plain": [
       "   COUNT(*)\n",
       "0      9715"
      ]
     },
     "execution_count": 27,
     "metadata": {},
     "output_type": "execute_result"
    }
   ],
   "source": [
    "import pandasql as psql\n",
    "\n",
    "\n",
    "#QUERY\n",
    "\n",
    "QuerySQL = \"SELECT COUNT(*) FROM df_envolvidos WHERE pesid = 0\"\n",
    "resultado = psql.sqldf(QuerySQL, locals())\n",
    "resultado.head()\n",
    "\n",
    "#VERIFICADO QUE O ID VEICULO NÃO É NULO"
   ]
  },
  {
   "cell_type": "code",
   "execution_count": 28,
   "metadata": {
    "colab": {
     "base_uri": "https://localhost:8080/",
     "height": 565
    },
    "id": "D00uTT9tLIhg",
    "outputId": "71be0b95-0926-4425-cee8-9789e818eb46"
   },
   "outputs": [
    {
     "data": {
      "text/html": [
       "<div>\n",
       "<style scoped>\n",
       "    .dataframe tbody tr th:only-of-type {\n",
       "        vertical-align: middle;\n",
       "    }\n",
       "\n",
       "    .dataframe tbody tr th {\n",
       "        vertical-align: top;\n",
       "    }\n",
       "\n",
       "    .dataframe thead th {\n",
       "        text-align: right;\n",
       "    }\n",
       "</style>\n",
       "<table border=\"1\" class=\"dataframe\">\n",
       "  <thead>\n",
       "    <tr style=\"text-align: right;\">\n",
       "      <th></th>\n",
       "      <th>id</th>\n",
       "      <th>ano_fabricacao_veiculo</th>\n",
       "      <th>estado_fisico</th>\n",
       "      <th>id_veiculo</th>\n",
       "      <th>idade</th>\n",
       "      <th>marca</th>\n",
       "      <th>pesid</th>\n",
       "      <th>sexo</th>\n",
       "      <th>tipo_envolvido</th>\n",
       "      <th>tipo_veiculo</th>\n",
       "      <th>mortos</th>\n",
       "      <th>feridos_leves</th>\n",
       "      <th>feridos_graves</th>\n",
       "      <th>ilesos</th>\n",
       "    </tr>\n",
       "  </thead>\n",
       "  <tbody>\n",
       "    <tr>\n",
       "      <th>13950</th>\n",
       "      <td>652655</td>\n",
       "      <td>1994</td>\n",
       "      <td>NaN</td>\n",
       "      <td>1173220</td>\n",
       "      <td>0</td>\n",
       "      <td>FIAT/UNO ELECTRONIC</td>\n",
       "      <td>0</td>\n",
       "      <td>NaN</td>\n",
       "      <td>NaN</td>\n",
       "      <td>Automóvel</td>\n",
       "      <td>0</td>\n",
       "      <td>0</td>\n",
       "      <td>0</td>\n",
       "      <td>0</td>\n",
       "    </tr>\n",
       "    <tr>\n",
       "      <th>13951</th>\n",
       "      <td>653493</td>\n",
       "      <td>1996</td>\n",
       "      <td>NaN</td>\n",
       "      <td>1176278</td>\n",
       "      <td>0</td>\n",
       "      <td>FORD/PAMPA L</td>\n",
       "      <td>0</td>\n",
       "      <td>NaN</td>\n",
       "      <td>NaN</td>\n",
       "      <td>Caminhonete</td>\n",
       "      <td>0</td>\n",
       "      <td>0</td>\n",
       "      <td>0</td>\n",
       "      <td>0</td>\n",
       "    </tr>\n",
       "    <tr>\n",
       "      <th>13952</th>\n",
       "      <td>654274</td>\n",
       "      <td>0</td>\n",
       "      <td>NaN</td>\n",
       "      <td>1176331</td>\n",
       "      <td>0</td>\n",
       "      <td>Não Informado/Não Informado</td>\n",
       "      <td>0</td>\n",
       "      <td>NaN</td>\n",
       "      <td>NaN</td>\n",
       "      <td>Bicicleta</td>\n",
       "      <td>0</td>\n",
       "      <td>0</td>\n",
       "      <td>0</td>\n",
       "      <td>0</td>\n",
       "    </tr>\n",
       "    <tr>\n",
       "      <th>13953</th>\n",
       "      <td>655013</td>\n",
       "      <td>2020</td>\n",
       "      <td>NaN</td>\n",
       "      <td>1177647</td>\n",
       "      <td>0</td>\n",
       "      <td>HONDA/POP 110I</td>\n",
       "      <td>0</td>\n",
       "      <td>NaN</td>\n",
       "      <td>NaN</td>\n",
       "      <td>Motocicleta</td>\n",
       "      <td>0</td>\n",
       "      <td>0</td>\n",
       "      <td>0</td>\n",
       "      <td>0</td>\n",
       "    </tr>\n",
       "    <tr>\n",
       "      <th>13954</th>\n",
       "      <td>656601</td>\n",
       "      <td>2014</td>\n",
       "      <td>NaN</td>\n",
       "      <td>1181933</td>\n",
       "      <td>0</td>\n",
       "      <td>CHEVROLET/ONIX 1.0MT LT</td>\n",
       "      <td>0</td>\n",
       "      <td>NaN</td>\n",
       "      <td>NaN</td>\n",
       "      <td>Automóvel</td>\n",
       "      <td>0</td>\n",
       "      <td>0</td>\n",
       "      <td>0</td>\n",
       "      <td>0</td>\n",
       "    </tr>\n",
       "    <tr>\n",
       "      <th>...</th>\n",
       "      <td>...</td>\n",
       "      <td>...</td>\n",
       "      <td>...</td>\n",
       "      <td>...</td>\n",
       "      <td>...</td>\n",
       "      <td>...</td>\n",
       "      <td>...</td>\n",
       "      <td>...</td>\n",
       "      <td>...</td>\n",
       "      <td>...</td>\n",
       "      <td>...</td>\n",
       "      <td>...</td>\n",
       "      <td>...</td>\n",
       "      <td>...</td>\n",
       "    </tr>\n",
       "    <tr>\n",
       "      <th>23660</th>\n",
       "      <td>704469</td>\n",
       "      <td>2013</td>\n",
       "      <td>NaN</td>\n",
       "      <td>1251695</td>\n",
       "      <td>0</td>\n",
       "      <td>M.BENZ/ATRON 2729 6X4</td>\n",
       "      <td>0</td>\n",
       "      <td>NaN</td>\n",
       "      <td>NaN</td>\n",
       "      <td>Caminhão</td>\n",
       "      <td>0</td>\n",
       "      <td>0</td>\n",
       "      <td>0</td>\n",
       "      <td>0</td>\n",
       "    </tr>\n",
       "    <tr>\n",
       "      <th>23661</th>\n",
       "      <td>706148</td>\n",
       "      <td>2008</td>\n",
       "      <td>NaN</td>\n",
       "      <td>1254944</td>\n",
       "      <td>0</td>\n",
       "      <td>M.BENZ/L 1620</td>\n",
       "      <td>0</td>\n",
       "      <td>NaN</td>\n",
       "      <td>NaN</td>\n",
       "      <td>Caminhão</td>\n",
       "      <td>0</td>\n",
       "      <td>0</td>\n",
       "      <td>0</td>\n",
       "      <td>0</td>\n",
       "    </tr>\n",
       "    <tr>\n",
       "      <th>23662</th>\n",
       "      <td>706966</td>\n",
       "      <td>2023</td>\n",
       "      <td>NaN</td>\n",
       "      <td>1256666</td>\n",
       "      <td>0</td>\n",
       "      <td>DAF/XF FTT 530 SSC</td>\n",
       "      <td>0</td>\n",
       "      <td>NaN</td>\n",
       "      <td>NaN</td>\n",
       "      <td>Caminhão-trator</td>\n",
       "      <td>0</td>\n",
       "      <td>0</td>\n",
       "      <td>0</td>\n",
       "      <td>0</td>\n",
       "    </tr>\n",
       "    <tr>\n",
       "      <th>23663</th>\n",
       "      <td>706986</td>\n",
       "      <td>2025</td>\n",
       "      <td>NaN</td>\n",
       "      <td>1257785</td>\n",
       "      <td>0</td>\n",
       "      <td>VW/DELIVERY 11.180</td>\n",
       "      <td>0</td>\n",
       "      <td>NaN</td>\n",
       "      <td>NaN</td>\n",
       "      <td>Caminhão</td>\n",
       "      <td>0</td>\n",
       "      <td>0</td>\n",
       "      <td>0</td>\n",
       "      <td>0</td>\n",
       "    </tr>\n",
       "    <tr>\n",
       "      <th>23664</th>\n",
       "      <td>707415</td>\n",
       "      <td>1988</td>\n",
       "      <td>NaN</td>\n",
       "      <td>1260886</td>\n",
       "      <td>0</td>\n",
       "      <td>VOLVO/N10</td>\n",
       "      <td>0</td>\n",
       "      <td>NaN</td>\n",
       "      <td>NaN</td>\n",
       "      <td>Caminhão-trator</td>\n",
       "      <td>0</td>\n",
       "      <td>0</td>\n",
       "      <td>0</td>\n",
       "      <td>0</td>\n",
       "    </tr>\n",
       "  </tbody>\n",
       "</table>\n",
       "<p>9715 rows × 14 columns</p>\n",
       "</div>"
      ],
      "text/plain": [
       "           id  ano_fabricacao_veiculo estado_fisico  id_veiculo  idade  \\\n",
       "13950  652655                    1994           NaN     1173220      0   \n",
       "13951  653493                    1996           NaN     1176278      0   \n",
       "13952  654274                       0           NaN     1176331      0   \n",
       "13953  655013                    2020           NaN     1177647      0   \n",
       "13954  656601                    2014           NaN     1181933      0   \n",
       "...       ...                     ...           ...         ...    ...   \n",
       "23660  704469                    2013           NaN     1251695      0   \n",
       "23661  706148                    2008           NaN     1254944      0   \n",
       "23662  706966                    2023           NaN     1256666      0   \n",
       "23663  706986                    2025           NaN     1257785      0   \n",
       "23664  707415                    1988           NaN     1260886      0   \n",
       "\n",
       "                             marca  pesid sexo tipo_envolvido  \\\n",
       "13950          FIAT/UNO ELECTRONIC      0  NaN            NaN   \n",
       "13951                 FORD/PAMPA L      0  NaN            NaN   \n",
       "13952  Não Informado/Não Informado      0  NaN            NaN   \n",
       "13953               HONDA/POP 110I      0  NaN            NaN   \n",
       "13954      CHEVROLET/ONIX 1.0MT LT      0  NaN            NaN   \n",
       "...                            ...    ...  ...            ...   \n",
       "23660        M.BENZ/ATRON 2729 6X4      0  NaN            NaN   \n",
       "23661                M.BENZ/L 1620      0  NaN            NaN   \n",
       "23662           DAF/XF FTT 530 SSC      0  NaN            NaN   \n",
       "23663           VW/DELIVERY 11.180      0  NaN            NaN   \n",
       "23664                    VOLVO/N10      0  NaN            NaN   \n",
       "\n",
       "          tipo_veiculo  mortos  feridos_leves  feridos_graves  ilesos  \n",
       "13950        Automóvel       0              0               0       0  \n",
       "13951      Caminhonete       0              0               0       0  \n",
       "13952        Bicicleta       0              0               0       0  \n",
       "13953      Motocicleta       0              0               0       0  \n",
       "13954        Automóvel       0              0               0       0  \n",
       "...                ...     ...            ...             ...     ...  \n",
       "23660         Caminhão       0              0               0       0  \n",
       "23661         Caminhão       0              0               0       0  \n",
       "23662  Caminhão-trator       0              0               0       0  \n",
       "23663         Caminhão       0              0               0       0  \n",
       "23664  Caminhão-trator       0              0               0       0  \n",
       "\n",
       "[9715 rows x 14 columns]"
      ]
     },
     "execution_count": 28,
     "metadata": {},
     "output_type": "execute_result"
    }
   ],
   "source": [
    "df_envolvidos[df_envolvidos['pesid'] == 0]"
   ]
  },
  {
   "cell_type": "code",
   "execution_count": 29,
   "metadata": {
    "id": "eUTzMGaiLYan"
   },
   "outputs": [],
   "source": [
    "df_envolvidos = df_envolvidos[df_envolvidos['pesid'] != 0]"
   ]
  },
  {
   "cell_type": "code",
   "execution_count": 30,
   "metadata": {
    "colab": {
     "base_uri": "https://localhost:8080/",
     "height": 115
    },
    "id": "Y5WLsFjDLkbg",
    "outputId": "618c36a9-29a5-4acc-f3ee-b156ba279286"
   },
   "outputs": [
    {
     "data": {
      "text/plain": [
       "tipo_veiculo    3609\n",
       "dtype: int64"
      ]
     },
     "execution_count": 30,
     "metadata": {},
     "output_type": "execute_result"
    }
   ],
   "source": [
    "df_envolvidos.isna().sum()[df_envolvidos.isna().sum() > 0]"
   ]
  },
  {
   "cell_type": "code",
   "execution_count": 31,
   "metadata": {
    "colab": {
     "base_uri": "https://localhost:8080/",
     "height": 582
    },
    "id": "rT5Qp6JKLvu7",
    "outputId": "72a89da4-25f5-4328-a3ca-cc5f78c828a7"
   },
   "outputs": [
    {
     "data": {
      "text/html": [
       "<div>\n",
       "<style scoped>\n",
       "    .dataframe tbody tr th:only-of-type {\n",
       "        vertical-align: middle;\n",
       "    }\n",
       "\n",
       "    .dataframe tbody tr th {\n",
       "        vertical-align: top;\n",
       "    }\n",
       "\n",
       "    .dataframe thead th {\n",
       "        text-align: right;\n",
       "    }\n",
       "</style>\n",
       "<table border=\"1\" class=\"dataframe\">\n",
       "  <thead>\n",
       "    <tr style=\"text-align: right;\">\n",
       "      <th></th>\n",
       "      <th>id</th>\n",
       "      <th>ano_fabricacao_veiculo</th>\n",
       "      <th>estado_fisico</th>\n",
       "      <th>id_veiculo</th>\n",
       "      <th>idade</th>\n",
       "      <th>marca</th>\n",
       "      <th>pesid</th>\n",
       "      <th>sexo</th>\n",
       "      <th>tipo_envolvido</th>\n",
       "      <th>tipo_veiculo</th>\n",
       "      <th>mortos</th>\n",
       "      <th>feridos_leves</th>\n",
       "      <th>feridos_graves</th>\n",
       "      <th>ilesos</th>\n",
       "    </tr>\n",
       "  </thead>\n",
       "  <tbody>\n",
       "    <tr>\n",
       "      <th>23668</th>\n",
       "      <td>652468</td>\n",
       "      <td>0</td>\n",
       "      <td>Não Informado</td>\n",
       "      <td>0</td>\n",
       "      <td>0</td>\n",
       "      <td>NA/NA</td>\n",
       "      <td>1467637</td>\n",
       "      <td>Não Informado</td>\n",
       "      <td>Testemunha</td>\n",
       "      <td>NaN</td>\n",
       "      <td>0</td>\n",
       "      <td>0</td>\n",
       "      <td>0</td>\n",
       "      <td>0</td>\n",
       "    </tr>\n",
       "    <tr>\n",
       "      <th>23689</th>\n",
       "      <td>652477</td>\n",
       "      <td>0</td>\n",
       "      <td>Não Informado</td>\n",
       "      <td>0</td>\n",
       "      <td>0</td>\n",
       "      <td>NA/NA</td>\n",
       "      <td>1469512</td>\n",
       "      <td>Não Informado</td>\n",
       "      <td>Testemunha</td>\n",
       "      <td>NaN</td>\n",
       "      <td>0</td>\n",
       "      <td>0</td>\n",
       "      <td>0</td>\n",
       "      <td>0</td>\n",
       "    </tr>\n",
       "    <tr>\n",
       "      <th>23690</th>\n",
       "      <td>652477</td>\n",
       "      <td>0</td>\n",
       "      <td>Não Informado</td>\n",
       "      <td>0</td>\n",
       "      <td>0</td>\n",
       "      <td>NA/NA</td>\n",
       "      <td>1469511</td>\n",
       "      <td>Não Informado</td>\n",
       "      <td>Testemunha</td>\n",
       "      <td>NaN</td>\n",
       "      <td>0</td>\n",
       "      <td>0</td>\n",
       "      <td>0</td>\n",
       "      <td>0</td>\n",
       "    </tr>\n",
       "    <tr>\n",
       "      <th>23696</th>\n",
       "      <td>652481</td>\n",
       "      <td>0</td>\n",
       "      <td>Lesões Graves</td>\n",
       "      <td>0</td>\n",
       "      <td>17</td>\n",
       "      <td>NA/NA</td>\n",
       "      <td>1467660</td>\n",
       "      <td>Masculino</td>\n",
       "      <td>Pedestre</td>\n",
       "      <td>NaN</td>\n",
       "      <td>0</td>\n",
       "      <td>0</td>\n",
       "      <td>1</td>\n",
       "      <td>0</td>\n",
       "    </tr>\n",
       "    <tr>\n",
       "      <th>23697</th>\n",
       "      <td>652481</td>\n",
       "      <td>0</td>\n",
       "      <td>Não Informado</td>\n",
       "      <td>0</td>\n",
       "      <td>0</td>\n",
       "      <td>NA/NA</td>\n",
       "      <td>1467661</td>\n",
       "      <td>Não Informado</td>\n",
       "      <td>Testemunha</td>\n",
       "      <td>NaN</td>\n",
       "      <td>0</td>\n",
       "      <td>0</td>\n",
       "      <td>0</td>\n",
       "      <td>0</td>\n",
       "    </tr>\n",
       "    <tr>\n",
       "      <th>...</th>\n",
       "      <td>...</td>\n",
       "      <td>...</td>\n",
       "      <td>...</td>\n",
       "      <td>...</td>\n",
       "      <td>...</td>\n",
       "      <td>...</td>\n",
       "      <td>...</td>\n",
       "      <td>...</td>\n",
       "      <td>...</td>\n",
       "      <td>...</td>\n",
       "      <td>...</td>\n",
       "      <td>...</td>\n",
       "      <td>...</td>\n",
       "      <td>...</td>\n",
       "    </tr>\n",
       "    <tr>\n",
       "      <th>109907</th>\n",
       "      <td>711892</td>\n",
       "      <td>0</td>\n",
       "      <td>Não Informado</td>\n",
       "      <td>0</td>\n",
       "      <td>0</td>\n",
       "      <td>NA/NA</td>\n",
       "      <td>1587046</td>\n",
       "      <td>Não Informado</td>\n",
       "      <td>Testemunha</td>\n",
       "      <td>NaN</td>\n",
       "      <td>0</td>\n",
       "      <td>0</td>\n",
       "      <td>0</td>\n",
       "      <td>0</td>\n",
       "    </tr>\n",
       "    <tr>\n",
       "      <th>109931</th>\n",
       "      <td>712041</td>\n",
       "      <td>0</td>\n",
       "      <td>Não Informado</td>\n",
       "      <td>0</td>\n",
       "      <td>0</td>\n",
       "      <td>NA/NA</td>\n",
       "      <td>1587423</td>\n",
       "      <td>Não Informado</td>\n",
       "      <td>Testemunha</td>\n",
       "      <td>NaN</td>\n",
       "      <td>0</td>\n",
       "      <td>0</td>\n",
       "      <td>0</td>\n",
       "      <td>0</td>\n",
       "    </tr>\n",
       "    <tr>\n",
       "      <th>109932</th>\n",
       "      <td>712041</td>\n",
       "      <td>0</td>\n",
       "      <td>Não Informado</td>\n",
       "      <td>0</td>\n",
       "      <td>0</td>\n",
       "      <td>NA/NA</td>\n",
       "      <td>1587419</td>\n",
       "      <td>Não Informado</td>\n",
       "      <td>Testemunha</td>\n",
       "      <td>NaN</td>\n",
       "      <td>0</td>\n",
       "      <td>0</td>\n",
       "      <td>0</td>\n",
       "      <td>0</td>\n",
       "    </tr>\n",
       "    <tr>\n",
       "      <th>109945</th>\n",
       "      <td>712211</td>\n",
       "      <td>0</td>\n",
       "      <td>Não Informado</td>\n",
       "      <td>0</td>\n",
       "      <td>0</td>\n",
       "      <td>NA/NA</td>\n",
       "      <td>1587794</td>\n",
       "      <td>Não Informado</td>\n",
       "      <td>Testemunha</td>\n",
       "      <td>NaN</td>\n",
       "      <td>0</td>\n",
       "      <td>0</td>\n",
       "      <td>0</td>\n",
       "      <td>0</td>\n",
       "    </tr>\n",
       "    <tr>\n",
       "      <th>109968</th>\n",
       "      <td>712497</td>\n",
       "      <td>0</td>\n",
       "      <td>Lesões Graves</td>\n",
       "      <td>0</td>\n",
       "      <td>45</td>\n",
       "      <td>NA/NA</td>\n",
       "      <td>1588582</td>\n",
       "      <td>Masculino</td>\n",
       "      <td>Pedestre</td>\n",
       "      <td>NaN</td>\n",
       "      <td>0</td>\n",
       "      <td>0</td>\n",
       "      <td>1</td>\n",
       "      <td>0</td>\n",
       "    </tr>\n",
       "  </tbody>\n",
       "</table>\n",
       "<p>3609 rows × 14 columns</p>\n",
       "</div>"
      ],
      "text/plain": [
       "            id  ano_fabricacao_veiculo  estado_fisico  id_veiculo  idade  \\\n",
       "23668   652468                       0  Não Informado           0      0   \n",
       "23689   652477                       0  Não Informado           0      0   \n",
       "23690   652477                       0  Não Informado           0      0   \n",
       "23696   652481                       0  Lesões Graves           0     17   \n",
       "23697   652481                       0  Não Informado           0      0   \n",
       "...        ...                     ...            ...         ...    ...   \n",
       "109907  711892                       0  Não Informado           0      0   \n",
       "109931  712041                       0  Não Informado           0      0   \n",
       "109932  712041                       0  Não Informado           0      0   \n",
       "109945  712211                       0  Não Informado           0      0   \n",
       "109968  712497                       0  Lesões Graves           0     45   \n",
       "\n",
       "        marca    pesid           sexo tipo_envolvido tipo_veiculo  mortos  \\\n",
       "23668   NA/NA  1467637  Não Informado     Testemunha          NaN       0   \n",
       "23689   NA/NA  1469512  Não Informado     Testemunha          NaN       0   \n",
       "23690   NA/NA  1469511  Não Informado     Testemunha          NaN       0   \n",
       "23696   NA/NA  1467660      Masculino       Pedestre          NaN       0   \n",
       "23697   NA/NA  1467661  Não Informado     Testemunha          NaN       0   \n",
       "...       ...      ...            ...            ...          ...     ...   \n",
       "109907  NA/NA  1587046  Não Informado     Testemunha          NaN       0   \n",
       "109931  NA/NA  1587423  Não Informado     Testemunha          NaN       0   \n",
       "109932  NA/NA  1587419  Não Informado     Testemunha          NaN       0   \n",
       "109945  NA/NA  1587794  Não Informado     Testemunha          NaN       0   \n",
       "109968  NA/NA  1588582      Masculino       Pedestre          NaN       0   \n",
       "\n",
       "        feridos_leves  feridos_graves  ilesos  \n",
       "23668               0               0       0  \n",
       "23689               0               0       0  \n",
       "23690               0               0       0  \n",
       "23696               0               1       0  \n",
       "23697               0               0       0  \n",
       "...               ...             ...     ...  \n",
       "109907              0               0       0  \n",
       "109931              0               0       0  \n",
       "109932              0               0       0  \n",
       "109945              0               0       0  \n",
       "109968              0               1       0  \n",
       "\n",
       "[3609 rows x 14 columns]"
      ]
     },
     "execution_count": 31,
     "metadata": {},
     "output_type": "execute_result"
    }
   ],
   "source": [
    "df_envolvidos[df_envolvidos['tipo_veiculo'].isna()]\n",
    "\n",
    "#OBSERVA OS TIPOS ENVOLVIDOS"
   ]
  },
  {
   "cell_type": "code",
   "execution_count": 32,
   "metadata": {
    "colab": {
     "base_uri": "https://localhost:8080/",
     "height": 143
    },
    "id": "mHMeDcYnM81I",
    "outputId": "2f645814-5a31-4318-e5f9-0be3611de37a"
   },
   "outputs": [
    {
     "data": {
      "text/html": [
       "<div>\n",
       "<style scoped>\n",
       "    .dataframe tbody tr th:only-of-type {\n",
       "        vertical-align: middle;\n",
       "    }\n",
       "\n",
       "    .dataframe tbody tr th {\n",
       "        vertical-align: top;\n",
       "    }\n",
       "\n",
       "    .dataframe thead th {\n",
       "        text-align: right;\n",
       "    }\n",
       "</style>\n",
       "<table border=\"1\" class=\"dataframe\">\n",
       "  <thead>\n",
       "    <tr style=\"text-align: right;\">\n",
       "      <th></th>\n",
       "      <th>tipo_envolvido</th>\n",
       "    </tr>\n",
       "  </thead>\n",
       "  <tbody>\n",
       "    <tr>\n",
       "      <th>0</th>\n",
       "      <td>Testemunha</td>\n",
       "    </tr>\n",
       "    <tr>\n",
       "      <th>1</th>\n",
       "      <td>Pedestre</td>\n",
       "    </tr>\n",
       "    <tr>\n",
       "      <th>2</th>\n",
       "      <td>Cavaleiro</td>\n",
       "    </tr>\n",
       "  </tbody>\n",
       "</table>\n",
       "</div>"
      ],
      "text/plain": [
       "  tipo_envolvido\n",
       "0     Testemunha\n",
       "1       Pedestre\n",
       "2      Cavaleiro"
      ]
     },
     "execution_count": 32,
     "metadata": {},
     "output_type": "execute_result"
    }
   ],
   "source": [
    "#QUERY\n",
    "\n",
    "QuerySQL = \"SELECT DISTINCT tipo_envolvido FROM df_envolvidos WHERE tipo_veiculo IS NULL \"\n",
    "resultado = psql.sqldf(QuerySQL, locals())\n",
    "resultado.head()\n",
    "\n",
    "# QUAIS ESTÃO ENVOLVIDOS DIRETAMENTE NO ACIDENTE ?"
   ]
  },
  {
   "cell_type": "code",
   "execution_count": 33,
   "metadata": {
    "colab": {
     "base_uri": "https://localhost:8080/",
     "height": 617
    },
    "id": "j9zPlzmFRbh7",
    "outputId": "d24080d6-bb43-49d0-911e-47e1d6f8bd15"
   },
   "outputs": [
    {
     "data": {
      "text/html": [
       "<div>\n",
       "<style scoped>\n",
       "    .dataframe tbody tr th:only-of-type {\n",
       "        vertical-align: middle;\n",
       "    }\n",
       "\n",
       "    .dataframe tbody tr th {\n",
       "        vertical-align: top;\n",
       "    }\n",
       "\n",
       "    .dataframe thead th {\n",
       "        text-align: right;\n",
       "    }\n",
       "</style>\n",
       "<table border=\"1\" class=\"dataframe\">\n",
       "  <thead>\n",
       "    <tr style=\"text-align: right;\">\n",
       "      <th></th>\n",
       "      <th>id</th>\n",
       "      <th>ano_fabricacao_veiculo</th>\n",
       "      <th>estado_fisico</th>\n",
       "      <th>id_veiculo</th>\n",
       "      <th>idade</th>\n",
       "      <th>marca</th>\n",
       "      <th>pesid</th>\n",
       "      <th>sexo</th>\n",
       "      <th>tipo_envolvido</th>\n",
       "      <th>tipo_veiculo</th>\n",
       "      <th>mortos</th>\n",
       "      <th>feridos_leves</th>\n",
       "      <th>feridos_graves</th>\n",
       "      <th>ilesos</th>\n",
       "    </tr>\n",
       "  </thead>\n",
       "  <tbody>\n",
       "    <tr>\n",
       "      <th>23668</th>\n",
       "      <td>652468</td>\n",
       "      <td>0</td>\n",
       "      <td>Não Informado</td>\n",
       "      <td>0</td>\n",
       "      <td>0</td>\n",
       "      <td>NA/NA</td>\n",
       "      <td>1467637</td>\n",
       "      <td>Não Informado</td>\n",
       "      <td>Testemunha</td>\n",
       "      <td>NaN</td>\n",
       "      <td>0</td>\n",
       "      <td>0</td>\n",
       "      <td>0</td>\n",
       "      <td>0</td>\n",
       "    </tr>\n",
       "    <tr>\n",
       "      <th>23689</th>\n",
       "      <td>652477</td>\n",
       "      <td>0</td>\n",
       "      <td>Não Informado</td>\n",
       "      <td>0</td>\n",
       "      <td>0</td>\n",
       "      <td>NA/NA</td>\n",
       "      <td>1469512</td>\n",
       "      <td>Não Informado</td>\n",
       "      <td>Testemunha</td>\n",
       "      <td>NaN</td>\n",
       "      <td>0</td>\n",
       "      <td>0</td>\n",
       "      <td>0</td>\n",
       "      <td>0</td>\n",
       "    </tr>\n",
       "    <tr>\n",
       "      <th>23690</th>\n",
       "      <td>652477</td>\n",
       "      <td>0</td>\n",
       "      <td>Não Informado</td>\n",
       "      <td>0</td>\n",
       "      <td>0</td>\n",
       "      <td>NA/NA</td>\n",
       "      <td>1469511</td>\n",
       "      <td>Não Informado</td>\n",
       "      <td>Testemunha</td>\n",
       "      <td>NaN</td>\n",
       "      <td>0</td>\n",
       "      <td>0</td>\n",
       "      <td>0</td>\n",
       "      <td>0</td>\n",
       "    </tr>\n",
       "    <tr>\n",
       "      <th>23697</th>\n",
       "      <td>652481</td>\n",
       "      <td>0</td>\n",
       "      <td>Não Informado</td>\n",
       "      <td>0</td>\n",
       "      <td>0</td>\n",
       "      <td>NA/NA</td>\n",
       "      <td>1467661</td>\n",
       "      <td>Não Informado</td>\n",
       "      <td>Testemunha</td>\n",
       "      <td>NaN</td>\n",
       "      <td>0</td>\n",
       "      <td>0</td>\n",
       "      <td>0</td>\n",
       "      <td>0</td>\n",
       "    </tr>\n",
       "    <tr>\n",
       "      <th>23754</th>\n",
       "      <td>652519</td>\n",
       "      <td>0</td>\n",
       "      <td>Não Informado</td>\n",
       "      <td>0</td>\n",
       "      <td>0</td>\n",
       "      <td>NA/NA</td>\n",
       "      <td>1470998</td>\n",
       "      <td>Não Informado</td>\n",
       "      <td>Testemunha</td>\n",
       "      <td>NaN</td>\n",
       "      <td>0</td>\n",
       "      <td>0</td>\n",
       "      <td>0</td>\n",
       "      <td>0</td>\n",
       "    </tr>\n",
       "    <tr>\n",
       "      <th>...</th>\n",
       "      <td>...</td>\n",
       "      <td>...</td>\n",
       "      <td>...</td>\n",
       "      <td>...</td>\n",
       "      <td>...</td>\n",
       "      <td>...</td>\n",
       "      <td>...</td>\n",
       "      <td>...</td>\n",
       "      <td>...</td>\n",
       "      <td>...</td>\n",
       "      <td>...</td>\n",
       "      <td>...</td>\n",
       "      <td>...</td>\n",
       "      <td>...</td>\n",
       "    </tr>\n",
       "    <tr>\n",
       "      <th>109897</th>\n",
       "      <td>711802</td>\n",
       "      <td>0</td>\n",
       "      <td>Não Informado</td>\n",
       "      <td>0</td>\n",
       "      <td>0</td>\n",
       "      <td>NA/NA</td>\n",
       "      <td>1586843</td>\n",
       "      <td>Não Informado</td>\n",
       "      <td>Testemunha</td>\n",
       "      <td>NaN</td>\n",
       "      <td>0</td>\n",
       "      <td>0</td>\n",
       "      <td>0</td>\n",
       "      <td>0</td>\n",
       "    </tr>\n",
       "    <tr>\n",
       "      <th>109907</th>\n",
       "      <td>711892</td>\n",
       "      <td>0</td>\n",
       "      <td>Não Informado</td>\n",
       "      <td>0</td>\n",
       "      <td>0</td>\n",
       "      <td>NA/NA</td>\n",
       "      <td>1587046</td>\n",
       "      <td>Não Informado</td>\n",
       "      <td>Testemunha</td>\n",
       "      <td>NaN</td>\n",
       "      <td>0</td>\n",
       "      <td>0</td>\n",
       "      <td>0</td>\n",
       "      <td>0</td>\n",
       "    </tr>\n",
       "    <tr>\n",
       "      <th>109931</th>\n",
       "      <td>712041</td>\n",
       "      <td>0</td>\n",
       "      <td>Não Informado</td>\n",
       "      <td>0</td>\n",
       "      <td>0</td>\n",
       "      <td>NA/NA</td>\n",
       "      <td>1587423</td>\n",
       "      <td>Não Informado</td>\n",
       "      <td>Testemunha</td>\n",
       "      <td>NaN</td>\n",
       "      <td>0</td>\n",
       "      <td>0</td>\n",
       "      <td>0</td>\n",
       "      <td>0</td>\n",
       "    </tr>\n",
       "    <tr>\n",
       "      <th>109932</th>\n",
       "      <td>712041</td>\n",
       "      <td>0</td>\n",
       "      <td>Não Informado</td>\n",
       "      <td>0</td>\n",
       "      <td>0</td>\n",
       "      <td>NA/NA</td>\n",
       "      <td>1587419</td>\n",
       "      <td>Não Informado</td>\n",
       "      <td>Testemunha</td>\n",
       "      <td>NaN</td>\n",
       "      <td>0</td>\n",
       "      <td>0</td>\n",
       "      <td>0</td>\n",
       "      <td>0</td>\n",
       "    </tr>\n",
       "    <tr>\n",
       "      <th>109945</th>\n",
       "      <td>712211</td>\n",
       "      <td>0</td>\n",
       "      <td>Não Informado</td>\n",
       "      <td>0</td>\n",
       "      <td>0</td>\n",
       "      <td>NA/NA</td>\n",
       "      <td>1587794</td>\n",
       "      <td>Não Informado</td>\n",
       "      <td>Testemunha</td>\n",
       "      <td>NaN</td>\n",
       "      <td>0</td>\n",
       "      <td>0</td>\n",
       "      <td>0</td>\n",
       "      <td>0</td>\n",
       "    </tr>\n",
       "  </tbody>\n",
       "</table>\n",
       "<p>1732 rows × 14 columns</p>\n",
       "</div>"
      ],
      "text/plain": [
       "            id  ano_fabricacao_veiculo  estado_fisico  id_veiculo  idade  \\\n",
       "23668   652468                       0  Não Informado           0      0   \n",
       "23689   652477                       0  Não Informado           0      0   \n",
       "23690   652477                       0  Não Informado           0      0   \n",
       "23697   652481                       0  Não Informado           0      0   \n",
       "23754   652519                       0  Não Informado           0      0   \n",
       "...        ...                     ...            ...         ...    ...   \n",
       "109897  711802                       0  Não Informado           0      0   \n",
       "109907  711892                       0  Não Informado           0      0   \n",
       "109931  712041                       0  Não Informado           0      0   \n",
       "109932  712041                       0  Não Informado           0      0   \n",
       "109945  712211                       0  Não Informado           0      0   \n",
       "\n",
       "        marca    pesid           sexo tipo_envolvido tipo_veiculo  mortos  \\\n",
       "23668   NA/NA  1467637  Não Informado     Testemunha          NaN       0   \n",
       "23689   NA/NA  1469512  Não Informado     Testemunha          NaN       0   \n",
       "23690   NA/NA  1469511  Não Informado     Testemunha          NaN       0   \n",
       "23697   NA/NA  1467661  Não Informado     Testemunha          NaN       0   \n",
       "23754   NA/NA  1470998  Não Informado     Testemunha          NaN       0   \n",
       "...       ...      ...            ...            ...          ...     ...   \n",
       "109897  NA/NA  1586843  Não Informado     Testemunha          NaN       0   \n",
       "109907  NA/NA  1587046  Não Informado     Testemunha          NaN       0   \n",
       "109931  NA/NA  1587423  Não Informado     Testemunha          NaN       0   \n",
       "109932  NA/NA  1587419  Não Informado     Testemunha          NaN       0   \n",
       "109945  NA/NA  1587794  Não Informado     Testemunha          NaN       0   \n",
       "\n",
       "        feridos_leves  feridos_graves  ilesos  \n",
       "23668               0               0       0  \n",
       "23689               0               0       0  \n",
       "23690               0               0       0  \n",
       "23697               0               0       0  \n",
       "23754               0               0       0  \n",
       "...               ...             ...     ...  \n",
       "109897              0               0       0  \n",
       "109907              0               0       0  \n",
       "109931              0               0       0  \n",
       "109932              0               0       0  \n",
       "109945              0               0       0  \n",
       "\n",
       "[1732 rows x 14 columns]"
      ]
     },
     "execution_count": 33,
     "metadata": {},
     "output_type": "execute_result"
    }
   ],
   "source": [
    "df_envolvidos[df_envolvidos['tipo_envolvido'] == \"Testemunha\"]"
   ]
  },
  {
   "cell_type": "code",
   "execution_count": 34,
   "metadata": {
    "id": "zByOpHvcRs3s"
   },
   "outputs": [],
   "source": [
    "df_envolvidos =  df_envolvidos[df_envolvidos['tipo_envolvido'] != \"Testemunha\"]"
   ]
  },
  {
   "cell_type": "code",
   "execution_count": 35,
   "metadata": {
    "colab": {
     "base_uri": "https://localhost:8080/",
     "height": 443
    },
    "id": "OSxR9TvGSRGK",
    "outputId": "d669c13f-aa6b-4909-9cf3-9607c27d2c53"
   },
   "outputs": [
    {
     "data": {
      "text/html": [
       "<div>\n",
       "<style scoped>\n",
       "    .dataframe tbody tr th:only-of-type {\n",
       "        vertical-align: middle;\n",
       "    }\n",
       "\n",
       "    .dataframe tbody tr th {\n",
       "        vertical-align: top;\n",
       "    }\n",
       "\n",
       "    .dataframe thead th {\n",
       "        text-align: right;\n",
       "    }\n",
       "</style>\n",
       "<table border=\"1\" class=\"dataframe\">\n",
       "  <thead>\n",
       "    <tr style=\"text-align: right;\">\n",
       "      <th></th>\n",
       "      <th>id</th>\n",
       "      <th>ano_fabricacao_veiculo</th>\n",
       "      <th>estado_fisico</th>\n",
       "      <th>id_veiculo</th>\n",
       "      <th>idade</th>\n",
       "      <th>marca</th>\n",
       "      <th>pesid</th>\n",
       "      <th>sexo</th>\n",
       "      <th>tipo_envolvido</th>\n",
       "      <th>tipo_veiculo</th>\n",
       "      <th>mortos</th>\n",
       "      <th>feridos_leves</th>\n",
       "      <th>feridos_graves</th>\n",
       "      <th>ilesos</th>\n",
       "    </tr>\n",
       "  </thead>\n",
       "  <tbody>\n",
       "    <tr>\n",
       "      <th>23696</th>\n",
       "      <td>652481</td>\n",
       "      <td>0</td>\n",
       "      <td>Lesões Graves</td>\n",
       "      <td>0</td>\n",
       "      <td>17</td>\n",
       "      <td>NA/NA</td>\n",
       "      <td>1467660</td>\n",
       "      <td>Masculino</td>\n",
       "      <td>Pedestre</td>\n",
       "      <td>NaN</td>\n",
       "      <td>0</td>\n",
       "      <td>0</td>\n",
       "      <td>1</td>\n",
       "      <td>0</td>\n",
       "    </tr>\n",
       "    <tr>\n",
       "      <th>23750</th>\n",
       "      <td>652518</td>\n",
       "      <td>0</td>\n",
       "      <td>Lesões Leves</td>\n",
       "      <td>0</td>\n",
       "      <td>47</td>\n",
       "      <td>NA/NA</td>\n",
       "      <td>1467745</td>\n",
       "      <td>Masculino</td>\n",
       "      <td>Pedestre</td>\n",
       "      <td>NaN</td>\n",
       "      <td>0</td>\n",
       "      <td>1</td>\n",
       "      <td>0</td>\n",
       "      <td>0</td>\n",
       "    </tr>\n",
       "    <tr>\n",
       "      <th>23792</th>\n",
       "      <td>652538</td>\n",
       "      <td>0</td>\n",
       "      <td>Óbito</td>\n",
       "      <td>0</td>\n",
       "      <td>32</td>\n",
       "      <td>NA/NA</td>\n",
       "      <td>1467790</td>\n",
       "      <td>Masculino</td>\n",
       "      <td>Pedestre</td>\n",
       "      <td>NaN</td>\n",
       "      <td>1</td>\n",
       "      <td>0</td>\n",
       "      <td>0</td>\n",
       "      <td>0</td>\n",
       "    </tr>\n",
       "    <tr>\n",
       "      <th>23892</th>\n",
       "      <td>652588</td>\n",
       "      <td>0</td>\n",
       "      <td>Óbito</td>\n",
       "      <td>0</td>\n",
       "      <td>0</td>\n",
       "      <td>NA/NA</td>\n",
       "      <td>1468031</td>\n",
       "      <td>Masculino</td>\n",
       "      <td>Pedestre</td>\n",
       "      <td>NaN</td>\n",
       "      <td>1</td>\n",
       "      <td>0</td>\n",
       "      <td>0</td>\n",
       "      <td>0</td>\n",
       "    </tr>\n",
       "    <tr>\n",
       "      <th>23895</th>\n",
       "      <td>652589</td>\n",
       "      <td>0</td>\n",
       "      <td>Lesões Graves</td>\n",
       "      <td>0</td>\n",
       "      <td>39</td>\n",
       "      <td>NA/NA</td>\n",
       "      <td>1467884</td>\n",
       "      <td>Masculino</td>\n",
       "      <td>Pedestre</td>\n",
       "      <td>NaN</td>\n",
       "      <td>0</td>\n",
       "      <td>0</td>\n",
       "      <td>1</td>\n",
       "      <td>0</td>\n",
       "    </tr>\n",
       "    <tr>\n",
       "      <th>...</th>\n",
       "      <td>...</td>\n",
       "      <td>...</td>\n",
       "      <td>...</td>\n",
       "      <td>...</td>\n",
       "      <td>...</td>\n",
       "      <td>...</td>\n",
       "      <td>...</td>\n",
       "      <td>...</td>\n",
       "      <td>...</td>\n",
       "      <td>...</td>\n",
       "      <td>...</td>\n",
       "      <td>...</td>\n",
       "      <td>...</td>\n",
       "      <td>...</td>\n",
       "    </tr>\n",
       "    <tr>\n",
       "      <th>109721</th>\n",
       "      <td>710221</td>\n",
       "      <td>0</td>\n",
       "      <td>Óbito</td>\n",
       "      <td>0</td>\n",
       "      <td>67</td>\n",
       "      <td>NA/NA</td>\n",
       "      <td>1582897</td>\n",
       "      <td>Feminino</td>\n",
       "      <td>Pedestre</td>\n",
       "      <td>NaN</td>\n",
       "      <td>1</td>\n",
       "      <td>0</td>\n",
       "      <td>0</td>\n",
       "      <td>0</td>\n",
       "    </tr>\n",
       "    <tr>\n",
       "      <th>109722</th>\n",
       "      <td>710221</td>\n",
       "      <td>0</td>\n",
       "      <td>Lesões Graves</td>\n",
       "      <td>0</td>\n",
       "      <td>56</td>\n",
       "      <td>NA/NA</td>\n",
       "      <td>1582896</td>\n",
       "      <td>Masculino</td>\n",
       "      <td>Pedestre</td>\n",
       "      <td>NaN</td>\n",
       "      <td>0</td>\n",
       "      <td>0</td>\n",
       "      <td>1</td>\n",
       "      <td>0</td>\n",
       "    </tr>\n",
       "    <tr>\n",
       "      <th>109728</th>\n",
       "      <td>710240</td>\n",
       "      <td>0</td>\n",
       "      <td>Lesões Leves</td>\n",
       "      <td>0</td>\n",
       "      <td>57</td>\n",
       "      <td>NA/NA</td>\n",
       "      <td>1582933</td>\n",
       "      <td>Masculino</td>\n",
       "      <td>Pedestre</td>\n",
       "      <td>NaN</td>\n",
       "      <td>0</td>\n",
       "      <td>1</td>\n",
       "      <td>0</td>\n",
       "      <td>0</td>\n",
       "    </tr>\n",
       "    <tr>\n",
       "      <th>109750</th>\n",
       "      <td>710448</td>\n",
       "      <td>0</td>\n",
       "      <td>Lesões Leves</td>\n",
       "      <td>0</td>\n",
       "      <td>0</td>\n",
       "      <td>NA/NA</td>\n",
       "      <td>1583536</td>\n",
       "      <td>Masculino</td>\n",
       "      <td>Pedestre</td>\n",
       "      <td>NaN</td>\n",
       "      <td>0</td>\n",
       "      <td>1</td>\n",
       "      <td>0</td>\n",
       "      <td>0</td>\n",
       "    </tr>\n",
       "    <tr>\n",
       "      <th>109968</th>\n",
       "      <td>712497</td>\n",
       "      <td>0</td>\n",
       "      <td>Lesões Graves</td>\n",
       "      <td>0</td>\n",
       "      <td>45</td>\n",
       "      <td>NA/NA</td>\n",
       "      <td>1588582</td>\n",
       "      <td>Masculino</td>\n",
       "      <td>Pedestre</td>\n",
       "      <td>NaN</td>\n",
       "      <td>0</td>\n",
       "      <td>0</td>\n",
       "      <td>1</td>\n",
       "      <td>0</td>\n",
       "    </tr>\n",
       "  </tbody>\n",
       "</table>\n",
       "<p>1877 rows × 14 columns</p>\n",
       "</div>"
      ],
      "text/plain": [
       "            id  ano_fabricacao_veiculo  estado_fisico  id_veiculo  idade  \\\n",
       "23696   652481                       0  Lesões Graves           0     17   \n",
       "23750   652518                       0   Lesões Leves           0     47   \n",
       "23792   652538                       0          Óbito           0     32   \n",
       "23892   652588                       0          Óbito           0      0   \n",
       "23895   652589                       0  Lesões Graves           0     39   \n",
       "...        ...                     ...            ...         ...    ...   \n",
       "109721  710221                       0          Óbito           0     67   \n",
       "109722  710221                       0  Lesões Graves           0     56   \n",
       "109728  710240                       0   Lesões Leves           0     57   \n",
       "109750  710448                       0   Lesões Leves           0      0   \n",
       "109968  712497                       0  Lesões Graves           0     45   \n",
       "\n",
       "        marca    pesid       sexo tipo_envolvido tipo_veiculo  mortos  \\\n",
       "23696   NA/NA  1467660  Masculino       Pedestre          NaN       0   \n",
       "23750   NA/NA  1467745  Masculino       Pedestre          NaN       0   \n",
       "23792   NA/NA  1467790  Masculino       Pedestre          NaN       1   \n",
       "23892   NA/NA  1468031  Masculino       Pedestre          NaN       1   \n",
       "23895   NA/NA  1467884  Masculino       Pedestre          NaN       0   \n",
       "...       ...      ...        ...            ...          ...     ...   \n",
       "109721  NA/NA  1582897   Feminino       Pedestre          NaN       1   \n",
       "109722  NA/NA  1582896  Masculino       Pedestre          NaN       0   \n",
       "109728  NA/NA  1582933  Masculino       Pedestre          NaN       0   \n",
       "109750  NA/NA  1583536  Masculino       Pedestre          NaN       0   \n",
       "109968  NA/NA  1588582  Masculino       Pedestre          NaN       0   \n",
       "\n",
       "        feridos_leves  feridos_graves  ilesos  \n",
       "23696               0               1       0  \n",
       "23750               1               0       0  \n",
       "23792               0               0       0  \n",
       "23892               0               0       0  \n",
       "23895               0               1       0  \n",
       "...               ...             ...     ...  \n",
       "109721              0               0       0  \n",
       "109722              0               1       0  \n",
       "109728              1               0       0  \n",
       "109750              1               0       0  \n",
       "109968              0               1       0  \n",
       "\n",
       "[1877 rows x 14 columns]"
      ]
     },
     "execution_count": 35,
     "metadata": {},
     "output_type": "execute_result"
    }
   ],
   "source": [
    "df_envolvidos[df_envolvidos['tipo_veiculo'].isna()]"
   ]
  },
  {
   "cell_type": "code",
   "execution_count": 36,
   "metadata": {
    "id": "hUHOvsNRTI_W"
   },
   "outputs": [],
   "source": [
    "df_envolvidos['tipo_veiculo'] = df_envolvidos['tipo_veiculo'].fillna(df_envolvidos['tipo_envolvido'])"
   ]
  },
  {
   "cell_type": "code",
   "execution_count": 37,
   "metadata": {
    "id": "UiUa-6QdVqjJ"
   },
   "outputs": [],
   "source": [
    "# CONVERTER TODAS AS COLUNAS OBJECT PARA TIPO SRT\n",
    "for coluna in df_envolvidos.select_dtypes(include=['object']).columns:\n",
    "    df_envolvidos[coluna] = df_envolvidos[coluna].astype('string')"
   ]
  },
  {
   "cell_type": "code",
   "execution_count": 38,
   "metadata": {
    "colab": {
     "base_uri": "https://localhost:8080/"
    },
    "id": "aadWs7D7Vt9i",
    "outputId": "c64b5902-fc60-4bce-b3f5-4b9a00070745"
   },
   "outputs": [
    {
     "name": "stdout",
     "output_type": "stream",
     "text": [
      "id                         int64\n",
      "ano_fabricacao_veiculo     int64\n",
      "estado_fisico             string\n",
      "id_veiculo                 int64\n",
      "idade                      int64\n",
      "marca                     string\n",
      "pesid                      int64\n",
      "sexo                      string\n",
      "tipo_envolvido            string\n",
      "tipo_veiculo              string\n",
      "mortos                     int64\n",
      "feridos_leves              int64\n",
      "feridos_graves             int64\n",
      "ilesos                     int64\n",
      "dtype: object\n"
     ]
    }
   ],
   "source": [
    "print(df_envolvidos.dtypes)"
   ]
  },
  {
   "cell_type": "markdown",
   "metadata": {
    "id": "y07ViMDlTR_K"
   },
   "source": [
    "AGORA PARA FINALIZAR, AJUSTAR UMA NOVA TABELA PARA A COLUNA TRAÇADO VIA"
   ]
  },
  {
   "cell_type": "code",
   "execution_count": 39,
   "metadata": {
    "colab": {
     "base_uri": "https://localhost:8080/",
     "height": 423
    },
    "id": "Z5jBSNAhTgB5",
    "outputId": "fa96046f-715f-411e-e128-09257b36f52b"
   },
   "outputs": [
    {
     "data": {
      "text/html": [
       "<div>\n",
       "<style scoped>\n",
       "    .dataframe tbody tr th:only-of-type {\n",
       "        vertical-align: middle;\n",
       "    }\n",
       "\n",
       "    .dataframe tbody tr th {\n",
       "        vertical-align: top;\n",
       "    }\n",
       "\n",
       "    .dataframe thead th {\n",
       "        text-align: right;\n",
       "    }\n",
       "</style>\n",
       "<table border=\"1\" class=\"dataframe\">\n",
       "  <thead>\n",
       "    <tr style=\"text-align: right;\">\n",
       "      <th></th>\n",
       "      <th>id</th>\n",
       "      <th>tracado_via</th>\n",
       "    </tr>\n",
       "  </thead>\n",
       "  <tbody>\n",
       "    <tr>\n",
       "      <th>0</th>\n",
       "      <td>652493</td>\n",
       "      <td>Reta</td>\n",
       "    </tr>\n",
       "    <tr>\n",
       "      <th>1</th>\n",
       "      <td>652493</td>\n",
       "      <td>Declive</td>\n",
       "    </tr>\n",
       "    <tr>\n",
       "      <th>2</th>\n",
       "      <td>652519</td>\n",
       "      <td>Reta</td>\n",
       "    </tr>\n",
       "    <tr>\n",
       "      <th>3</th>\n",
       "      <td>652522</td>\n",
       "      <td>Reta</td>\n",
       "    </tr>\n",
       "    <tr>\n",
       "      <th>4</th>\n",
       "      <td>652522</td>\n",
       "      <td>Aclive</td>\n",
       "    </tr>\n",
       "    <tr>\n",
       "      <th>...</th>\n",
       "      <td>...</td>\n",
       "      <td>...</td>\n",
       "    </tr>\n",
       "    <tr>\n",
       "      <th>52741</th>\n",
       "      <td>712583</td>\n",
       "      <td>Reta</td>\n",
       "    </tr>\n",
       "    <tr>\n",
       "      <th>52742</th>\n",
       "      <td>712620</td>\n",
       "      <td>Reta</td>\n",
       "    </tr>\n",
       "    <tr>\n",
       "      <th>52743</th>\n",
       "      <td>712625</td>\n",
       "      <td>Curva</td>\n",
       "    </tr>\n",
       "    <tr>\n",
       "      <th>52744</th>\n",
       "      <td>712638</td>\n",
       "      <td>Reta</td>\n",
       "    </tr>\n",
       "    <tr>\n",
       "      <th>52745</th>\n",
       "      <td>712659</td>\n",
       "      <td>Reta</td>\n",
       "    </tr>\n",
       "  </tbody>\n",
       "</table>\n",
       "<p>52746 rows × 2 columns</p>\n",
       "</div>"
      ],
      "text/plain": [
       "           id tracado_via\n",
       "0      652493        Reta\n",
       "1      652493     Declive\n",
       "2      652519        Reta\n",
       "3      652522        Reta\n",
       "4      652522      Aclive\n",
       "...       ...         ...\n",
       "52741  712583        Reta\n",
       "52742  712620        Reta\n",
       "52743  712625       Curva\n",
       "52744  712638        Reta\n",
       "52745  712659        Reta\n",
       "\n",
       "[52746 rows x 2 columns]"
      ]
     },
     "execution_count": 39,
     "metadata": {},
     "output_type": "execute_result"
    }
   ],
   "source": [
    "# SEPARAR OS TRAÇADOS EM UMA NOVA COLUNA E DEIXANDO O ID DA OCORRENCIA\n",
    "df_tracado_via = df_ocorrencias[['id', 'tracado_via']].assign(\n",
    "    tracado_via=df_ocorrencias['tracado_via'].str.split(';')\n",
    ").explode('tracado_via').assign(\n",
    "    tracado_via=lambda x: x['tracado_via'].str.strip()\n",
    ").reset_index(drop=True)\n",
    "\n",
    "df_tracado_via"
   ]
  },
  {
   "cell_type": "code",
   "execution_count": 40,
   "metadata": {
    "id": "jJSKrxxaVL-f"
   },
   "outputs": [],
   "source": [
    "df_ocorrencias = df_ocorrencias.drop(['tracado_via'], axis=\"columns\")"
   ]
  },
  {
   "cell_type": "code",
   "execution_count": 41,
   "metadata": {
    "colab": {
     "base_uri": "https://localhost:8080/",
     "height": 429
    },
    "id": "LwKo5WbLWN9s",
    "outputId": "be95a1eb-1e19-4e40-fc22-a4eb8afc4c32"
   },
   "outputs": [
    {
     "data": {
      "text/html": [
       "<div>\n",
       "<style scoped>\n",
       "    .dataframe tbody tr th:only-of-type {\n",
       "        vertical-align: middle;\n",
       "    }\n",
       "\n",
       "    .dataframe tbody tr th {\n",
       "        vertical-align: top;\n",
       "    }\n",
       "\n",
       "    .dataframe thead th {\n",
       "        text-align: right;\n",
       "    }\n",
       "</style>\n",
       "<table border=\"1\" class=\"dataframe\">\n",
       "  <thead>\n",
       "    <tr style=\"text-align: right;\">\n",
       "      <th></th>\n",
       "      <th>id</th>\n",
       "      <th>data_inversa</th>\n",
       "      <th>dia_semana</th>\n",
       "      <th>horario</th>\n",
       "      <th>uf</th>\n",
       "      <th>br</th>\n",
       "      <th>km</th>\n",
       "      <th>municipio</th>\n",
       "      <th>causa_acidente</th>\n",
       "      <th>tipo_acidente</th>\n",
       "      <th>...</th>\n",
       "      <th>pessoas</th>\n",
       "      <th>mortos</th>\n",
       "      <th>feridos_leves</th>\n",
       "      <th>feridos_graves</th>\n",
       "      <th>ilesos</th>\n",
       "      <th>ignorados</th>\n",
       "      <th>feridos</th>\n",
       "      <th>veiculos</th>\n",
       "      <th>latitude</th>\n",
       "      <th>longitude</th>\n",
       "    </tr>\n",
       "  </thead>\n",
       "  <tbody>\n",
       "    <tr>\n",
       "      <th>0</th>\n",
       "      <td>652493</td>\n",
       "      <td>2025-01-01</td>\n",
       "      <td>quarta-feira</td>\n",
       "      <td>1900-01-01 06:20:00</td>\n",
       "      <td>SP</td>\n",
       "      <td>116</td>\n",
       "      <td>225</td>\n",
       "      <td>GUARULHOS</td>\n",
       "      <td>Reação tardia ou ineficiente do condutor</td>\n",
       "      <td>Tombamento</td>\n",
       "      <td>...</td>\n",
       "      <td>2</td>\n",
       "      <td>0</td>\n",
       "      <td>1</td>\n",
       "      <td>0</td>\n",
       "      <td>0</td>\n",
       "      <td>1</td>\n",
       "      <td>1</td>\n",
       "      <td>2</td>\n",
       "      <td>-23,48586772</td>\n",
       "      <td>-46,54075317</td>\n",
       "    </tr>\n",
       "    <tr>\n",
       "      <th>1</th>\n",
       "      <td>652519</td>\n",
       "      <td>2025-01-01</td>\n",
       "      <td>quarta-feira</td>\n",
       "      <td>1900-01-01 07:50:00</td>\n",
       "      <td>CE</td>\n",
       "      <td>116</td>\n",
       "      <td>546,2</td>\n",
       "      <td>PENAFORTE</td>\n",
       "      <td>Pista esburacada</td>\n",
       "      <td>Colisão frontal</td>\n",
       "      <td>...</td>\n",
       "      <td>6</td>\n",
       "      <td>1</td>\n",
       "      <td>1</td>\n",
       "      <td>0</td>\n",
       "      <td>1</td>\n",
       "      <td>4</td>\n",
       "      <td>1</td>\n",
       "      <td>6</td>\n",
       "      <td>-7,812288</td>\n",
       "      <td>-39,08333306</td>\n",
       "    </tr>\n",
       "    <tr>\n",
       "      <th>2</th>\n",
       "      <td>652522</td>\n",
       "      <td>2025-01-01</td>\n",
       "      <td>quarta-feira</td>\n",
       "      <td>1900-01-01 08:45:00</td>\n",
       "      <td>PR</td>\n",
       "      <td>369</td>\n",
       "      <td>88,2</td>\n",
       "      <td>CORNELIO PROCOPIO</td>\n",
       "      <td>Reação tardia ou ineficiente do condutor</td>\n",
       "      <td>Colisão traseira</td>\n",
       "      <td>...</td>\n",
       "      <td>5</td>\n",
       "      <td>0</td>\n",
       "      <td>3</td>\n",
       "      <td>0</td>\n",
       "      <td>2</td>\n",
       "      <td>0</td>\n",
       "      <td>3</td>\n",
       "      <td>2</td>\n",
       "      <td>-23,182565</td>\n",
       "      <td>-50,637228</td>\n",
       "    </tr>\n",
       "    <tr>\n",
       "      <th>3</th>\n",
       "      <td>652544</td>\n",
       "      <td>2025-01-01</td>\n",
       "      <td>quarta-feira</td>\n",
       "      <td>1900-01-01 11:00:00</td>\n",
       "      <td>PR</td>\n",
       "      <td>116</td>\n",
       "      <td>74</td>\n",
       "      <td>CAMPINA GRANDE DO SUL</td>\n",
       "      <td>Reação tardia ou ineficiente do condutor</td>\n",
       "      <td>Saída de leito carroçável</td>\n",
       "      <td>...</td>\n",
       "      <td>5</td>\n",
       "      <td>0</td>\n",
       "      <td>1</td>\n",
       "      <td>0</td>\n",
       "      <td>4</td>\n",
       "      <td>0</td>\n",
       "      <td>1</td>\n",
       "      <td>2</td>\n",
       "      <td>-25,36517687</td>\n",
       "      <td>-49,04223028</td>\n",
       "    </tr>\n",
       "    <tr>\n",
       "      <th>4</th>\n",
       "      <td>652549</td>\n",
       "      <td>2025-01-01</td>\n",
       "      <td>quarta-feira</td>\n",
       "      <td>1900-01-01 09:30:00</td>\n",
       "      <td>MG</td>\n",
       "      <td>251</td>\n",
       "      <td>471</td>\n",
       "      <td>FRANCISCO SA</td>\n",
       "      <td>Velocidade Incompatível</td>\n",
       "      <td>Colisão frontal</td>\n",
       "      <td>...</td>\n",
       "      <td>5</td>\n",
       "      <td>0</td>\n",
       "      <td>1</td>\n",
       "      <td>1</td>\n",
       "      <td>1</td>\n",
       "      <td>2</td>\n",
       "      <td>2</td>\n",
       "      <td>4</td>\n",
       "      <td>-16,46801304</td>\n",
       "      <td>-43,43121303</td>\n",
       "    </tr>\n",
       "  </tbody>\n",
       "</table>\n",
       "<p>5 rows × 26 columns</p>\n",
       "</div>"
      ],
      "text/plain": [
       "       id data_inversa    dia_semana             horario  uf   br     km  \\\n",
       "0  652493   2025-01-01  quarta-feira 1900-01-01 06:20:00  SP  116    225   \n",
       "1  652519   2025-01-01  quarta-feira 1900-01-01 07:50:00  CE  116  546,2   \n",
       "2  652522   2025-01-01  quarta-feira 1900-01-01 08:45:00  PR  369   88,2   \n",
       "3  652544   2025-01-01  quarta-feira 1900-01-01 11:00:00  PR  116     74   \n",
       "4  652549   2025-01-01  quarta-feira 1900-01-01 09:30:00  MG  251    471   \n",
       "\n",
       "               municipio                            causa_acidente  \\\n",
       "0              GUARULHOS  Reação tardia ou ineficiente do condutor   \n",
       "1              PENAFORTE                          Pista esburacada   \n",
       "2      CORNELIO PROCOPIO  Reação tardia ou ineficiente do condutor   \n",
       "3  CAMPINA GRANDE DO SUL  Reação tardia ou ineficiente do condutor   \n",
       "4           FRANCISCO SA                   Velocidade Incompatível   \n",
       "\n",
       "               tipo_acidente  ... pessoas mortos feridos_leves feridos_graves  \\\n",
       "0                 Tombamento  ...       2      0             1              0   \n",
       "1            Colisão frontal  ...       6      1             1              0   \n",
       "2           Colisão traseira  ...       5      0             3              0   \n",
       "3  Saída de leito carroçável  ...       5      0             1              0   \n",
       "4            Colisão frontal  ...       5      0             1              1   \n",
       "\n",
       "  ilesos ignorados  feridos  veiculos      latitude     longitude  \n",
       "0      0         1        1         2  -23,48586772  -46,54075317  \n",
       "1      1         4        1         6     -7,812288  -39,08333306  \n",
       "2      2         0        3         2    -23,182565    -50,637228  \n",
       "3      4         0        1         2  -25,36517687  -49,04223028  \n",
       "4      1         2        2         4  -16,46801304  -43,43121303  \n",
       "\n",
       "[5 rows x 26 columns]"
      ]
     },
     "execution_count": 41,
     "metadata": {},
     "output_type": "execute_result"
    }
   ],
   "source": [
    "df_ocorrencias.head()"
   ]
  },
  {
   "cell_type": "code",
   "execution_count": 42,
   "metadata": {
    "colab": {
     "base_uri": "https://localhost:8080/",
     "height": 206
    },
    "id": "v6jrTd7XWZ2o",
    "outputId": "2c63f5e5-3b40-4365-bb41-7ed1ea9b7be0"
   },
   "outputs": [
    {
     "data": {
      "text/html": [
       "<div>\n",
       "<style scoped>\n",
       "    .dataframe tbody tr th:only-of-type {\n",
       "        vertical-align: middle;\n",
       "    }\n",
       "\n",
       "    .dataframe tbody tr th {\n",
       "        vertical-align: top;\n",
       "    }\n",
       "\n",
       "    .dataframe thead th {\n",
       "        text-align: right;\n",
       "    }\n",
       "</style>\n",
       "<table border=\"1\" class=\"dataframe\">\n",
       "  <thead>\n",
       "    <tr style=\"text-align: right;\">\n",
       "      <th></th>\n",
       "      <th>id</th>\n",
       "      <th>tracado_via</th>\n",
       "    </tr>\n",
       "  </thead>\n",
       "  <tbody>\n",
       "    <tr>\n",
       "      <th>0</th>\n",
       "      <td>652493</td>\n",
       "      <td>Reta</td>\n",
       "    </tr>\n",
       "    <tr>\n",
       "      <th>1</th>\n",
       "      <td>652493</td>\n",
       "      <td>Declive</td>\n",
       "    </tr>\n",
       "    <tr>\n",
       "      <th>2</th>\n",
       "      <td>652519</td>\n",
       "      <td>Reta</td>\n",
       "    </tr>\n",
       "    <tr>\n",
       "      <th>3</th>\n",
       "      <td>652522</td>\n",
       "      <td>Reta</td>\n",
       "    </tr>\n",
       "    <tr>\n",
       "      <th>4</th>\n",
       "      <td>652522</td>\n",
       "      <td>Aclive</td>\n",
       "    </tr>\n",
       "  </tbody>\n",
       "</table>\n",
       "</div>"
      ],
      "text/plain": [
       "       id tracado_via\n",
       "0  652493        Reta\n",
       "1  652493     Declive\n",
       "2  652519        Reta\n",
       "3  652522        Reta\n",
       "4  652522      Aclive"
      ]
     },
     "execution_count": 42,
     "metadata": {},
     "output_type": "execute_result"
    }
   ],
   "source": [
    "df_tracado_via.head()"
   ]
  },
  {
   "cell_type": "code",
   "execution_count": 43,
   "metadata": {
    "colab": {
     "base_uri": "https://localhost:8080/",
     "height": 330
    },
    "id": "068XICQLWinf",
    "outputId": "282918c5-697c-449b-bf9b-7f11cf3df7a9"
   },
   "outputs": [
    {
     "data": {
      "text/html": [
       "<div>\n",
       "<style scoped>\n",
       "    .dataframe tbody tr th:only-of-type {\n",
       "        vertical-align: middle;\n",
       "    }\n",
       "\n",
       "    .dataframe tbody tr th {\n",
       "        vertical-align: top;\n",
       "    }\n",
       "\n",
       "    .dataframe thead th {\n",
       "        text-align: right;\n",
       "    }\n",
       "</style>\n",
       "<table border=\"1\" class=\"dataframe\">\n",
       "  <thead>\n",
       "    <tr style=\"text-align: right;\">\n",
       "      <th></th>\n",
       "      <th>id</th>\n",
       "      <th>ano_fabricacao_veiculo</th>\n",
       "      <th>estado_fisico</th>\n",
       "      <th>id_veiculo</th>\n",
       "      <th>idade</th>\n",
       "      <th>marca</th>\n",
       "      <th>pesid</th>\n",
       "      <th>sexo</th>\n",
       "      <th>tipo_envolvido</th>\n",
       "      <th>tipo_veiculo</th>\n",
       "      <th>mortos</th>\n",
       "      <th>feridos_leves</th>\n",
       "      <th>feridos_graves</th>\n",
       "      <th>ilesos</th>\n",
       "    </tr>\n",
       "  </thead>\n",
       "  <tbody>\n",
       "    <tr>\n",
       "      <th>0</th>\n",
       "      <td>652493</td>\n",
       "      <td>0</td>\n",
       "      <td>Não Informado</td>\n",
       "      <td>1172970</td>\n",
       "      <td>0</td>\n",
       "      <td>Não Informado/Não Informado</td>\n",
       "      <td>1467686</td>\n",
       "      <td>Não Informado</td>\n",
       "      <td>Condutor</td>\n",
       "      <td>Caminhão</td>\n",
       "      <td>0</td>\n",
       "      <td>0</td>\n",
       "      <td>0</td>\n",
       "      <td>0</td>\n",
       "    </tr>\n",
       "    <tr>\n",
       "      <th>1</th>\n",
       "      <td>652519</td>\n",
       "      <td>2021</td>\n",
       "      <td>Ileso</td>\n",
       "      <td>1173068</td>\n",
       "      <td>31</td>\n",
       "      <td>SCANIA/R500 A6X4</td>\n",
       "      <td>1467833</td>\n",
       "      <td>Masculino</td>\n",
       "      <td>Condutor</td>\n",
       "      <td>Caminhão-trator</td>\n",
       "      <td>0</td>\n",
       "      <td>0</td>\n",
       "      <td>0</td>\n",
       "      <td>1</td>\n",
       "    </tr>\n",
       "    <tr>\n",
       "      <th>2</th>\n",
       "      <td>652522</td>\n",
       "      <td>1999</td>\n",
       "      <td>Ileso</td>\n",
       "      <td>1173216</td>\n",
       "      <td>60</td>\n",
       "      <td>M.BENZ/L 1620</td>\n",
       "      <td>1468042</td>\n",
       "      <td>Masculino</td>\n",
       "      <td>Condutor</td>\n",
       "      <td>Caminhão</td>\n",
       "      <td>0</td>\n",
       "      <td>0</td>\n",
       "      <td>0</td>\n",
       "      <td>1</td>\n",
       "    </tr>\n",
       "    <tr>\n",
       "      <th>3</th>\n",
       "      <td>652544</td>\n",
       "      <td>2013</td>\n",
       "      <td>Ileso</td>\n",
       "      <td>1173088</td>\n",
       "      <td>40</td>\n",
       "      <td>IVECO/VERTIS 90V18</td>\n",
       "      <td>1467849</td>\n",
       "      <td>Masculino</td>\n",
       "      <td>Condutor</td>\n",
       "      <td>Caminhão</td>\n",
       "      <td>0</td>\n",
       "      <td>0</td>\n",
       "      <td>0</td>\n",
       "      <td>1</td>\n",
       "    </tr>\n",
       "    <tr>\n",
       "      <th>4</th>\n",
       "      <td>652549</td>\n",
       "      <td>2022</td>\n",
       "      <td>Ileso</td>\n",
       "      <td>1173042</td>\n",
       "      <td>55</td>\n",
       "      <td>VW/28.460 METEOR 6X2</td>\n",
       "      <td>1467791</td>\n",
       "      <td>Masculino</td>\n",
       "      <td>Condutor</td>\n",
       "      <td>Caminhão-trator</td>\n",
       "      <td>0</td>\n",
       "      <td>0</td>\n",
       "      <td>0</td>\n",
       "      <td>1</td>\n",
       "    </tr>\n",
       "  </tbody>\n",
       "</table>\n",
       "</div>"
      ],
      "text/plain": [
       "       id  ano_fabricacao_veiculo  estado_fisico  id_veiculo  idade  \\\n",
       "0  652493                       0  Não Informado     1172970      0   \n",
       "1  652519                    2021          Ileso     1173068     31   \n",
       "2  652522                    1999          Ileso     1173216     60   \n",
       "3  652544                    2013          Ileso     1173088     40   \n",
       "4  652549                    2022          Ileso     1173042     55   \n",
       "\n",
       "                         marca    pesid           sexo tipo_envolvido  \\\n",
       "0  Não Informado/Não Informado  1467686  Não Informado       Condutor   \n",
       "1             SCANIA/R500 A6X4  1467833      Masculino       Condutor   \n",
       "2                M.BENZ/L 1620  1468042      Masculino       Condutor   \n",
       "3           IVECO/VERTIS 90V18  1467849      Masculino       Condutor   \n",
       "4         VW/28.460 METEOR 6X2  1467791      Masculino       Condutor   \n",
       "\n",
       "      tipo_veiculo  mortos  feridos_leves  feridos_graves  ilesos  \n",
       "0         Caminhão       0              0               0       0  \n",
       "1  Caminhão-trator       0              0               0       1  \n",
       "2         Caminhão       0              0               0       1  \n",
       "3         Caminhão       0              0               0       1  \n",
       "4  Caminhão-trator       0              0               0       1  "
      ]
     },
     "execution_count": 43,
     "metadata": {},
     "output_type": "execute_result"
    }
   ],
   "source": [
    "df_envolvidos.head()"
   ]
  },
  {
   "cell_type": "markdown",
   "metadata": {
    "id": "PcYJEompeZSw"
   },
   "source": [
    "* Carregar e entender os dados: Bases df_ocorrencias e df_envolvidos carregadas com sucesso.\n",
    "* Identificação de colunas, tipos de dados e valores ausentes. df_envolvidos foca em pessoas/veículos, df_ocorrencias no evento do acidente.\n",
    "\n",
    "Pré-processamento:\n",
    "* Tratamento de valores nulos em classificacao_acidente.\n",
    "* Remoção de colunas não essenciais (regional, delegacia, uop).\n",
    "* Conversão de data e hora para datetime.\n",
    "* Remoção de registros com pesid = 0 na base de envolvidos.\n",
    "* Preenchimento de tipo_veiculo nulo com tipo_envolvido para pedestres/cavaleiros.\n",
    "* Criação da tabela df_tracado_via para análise individual de características da via.\n"
   ]
  },
  {
   "cell_type": "markdown",
   "metadata": {
    "id": "KlglRNRiWbwD"
   },
   "source": [
    "# Análise das bases"
   ]
  },
  {
   "cell_type": "markdown",
   "metadata": {
    "id": "0YSy5ghuw_XR"
   },
   "source": [
    "### Frequencia de Acidentes Por Mes"
   ]
  },
  {
   "cell_type": "code",
   "execution_count": 44,
   "metadata": {
    "id": "i1dDtkqfw9MN"
   },
   "outputs": [],
   "source": [
    "# Criar uma coluna só com mês/ano\n",
    "df_ocorrencias ['mes_ano'] = df_ocorrencias['data_inversa'].dt.to_period('M')\n",
    "\n",
    "# Contar acidentes por mês\n",
    "acidentes_mes = df_ocorrencias.groupby('mes_ano').size().reset_index(name=\"acidentes\")"
   ]
  },
  {
   "cell_type": "code",
   "execution_count": 45,
   "metadata": {
    "colab": {
     "base_uri": "https://localhost:8080/",
     "height": 269
    },
    "id": "tWyJCGTxynHq",
    "outputId": "b27e3af6-32b5-4672-ae1e-6b17f5f04759"
   },
   "outputs": [
    {
     "data": {
      "text/html": [
       "<div>\n",
       "<style scoped>\n",
       "    .dataframe tbody tr th:only-of-type {\n",
       "        vertical-align: middle;\n",
       "    }\n",
       "\n",
       "    .dataframe tbody tr th {\n",
       "        vertical-align: top;\n",
       "    }\n",
       "\n",
       "    .dataframe thead th {\n",
       "        text-align: right;\n",
       "    }\n",
       "</style>\n",
       "<table border=\"1\" class=\"dataframe\">\n",
       "  <thead>\n",
       "    <tr style=\"text-align: right;\">\n",
       "      <th></th>\n",
       "      <th>mes_ano</th>\n",
       "      <th>acidentes</th>\n",
       "    </tr>\n",
       "  </thead>\n",
       "  <tbody>\n",
       "    <tr>\n",
       "      <th>0</th>\n",
       "      <td>2025-01</td>\n",
       "      <td>5525</td>\n",
       "    </tr>\n",
       "    <tr>\n",
       "      <th>1</th>\n",
       "      <td>2025-02</td>\n",
       "      <td>5283</td>\n",
       "    </tr>\n",
       "    <tr>\n",
       "      <th>2</th>\n",
       "      <td>2025-03</td>\n",
       "      <td>5957</td>\n",
       "    </tr>\n",
       "    <tr>\n",
       "      <th>3</th>\n",
       "      <td>2025-04</td>\n",
       "      <td>5781</td>\n",
       "    </tr>\n",
       "    <tr>\n",
       "      <th>4</th>\n",
       "      <td>2025-05</td>\n",
       "      <td>6089</td>\n",
       "    </tr>\n",
       "    <tr>\n",
       "      <th>5</th>\n",
       "      <td>2025-06</td>\n",
       "      <td>6111</td>\n",
       "    </tr>\n",
       "    <tr>\n",
       "      <th>6</th>\n",
       "      <td>2025-07</td>\n",
       "      <td>6188</td>\n",
       "    </tr>\n",
       "  </tbody>\n",
       "</table>\n",
       "</div>"
      ],
      "text/plain": [
       "   mes_ano  acidentes\n",
       "0  2025-01       5525\n",
       "1  2025-02       5283\n",
       "2  2025-03       5957\n",
       "3  2025-04       5781\n",
       "4  2025-05       6089\n",
       "5  2025-06       6111\n",
       "6  2025-07       6188"
      ]
     },
     "execution_count": 45,
     "metadata": {},
     "output_type": "execute_result"
    }
   ],
   "source": [
    "acidentes_mes"
   ]
  },
  {
   "cell_type": "code",
   "execution_count": 46,
   "metadata": {
    "colab": {
     "base_uri": "https://localhost:8080/",
     "height": 507
    },
    "id": "2rvn6Xy4yw9h",
    "outputId": "299a00e0-9dd2-498e-a38f-362643684cb9"
   },
   "outputs": [
    {
     "data": {
      "image/png": "[encoded data removed]",
      "text/plain": [
       "<Figure size 1000x500 with 1 Axes>"
      ]
     },
     "metadata": {},
     "output_type": "display_data"
    }
   ],
   "source": [
    "import matplotlib.pyplot as plt\n",
    "import seaborn as sns\n",
    "\n",
    "\n",
    "acidentes_mes['mes_ano_str'] = acidentes_mes['mes_ano'].astype(str)\n",
    "\n",
    "# Gráfico com seaborn\n",
    "plt.figure(figsize=(10,5))\n",
    "ax = sns.lineplot(data=acidentes_mes, x=\"mes_ano_str\", y=\"acidentes\", marker=\"o\")\n",
    "ax.set_title(\"Frequência de Acidentes por Mês (Rodovias Federais - 2025)\", fontsize=14)\n",
    "ax.set_xlabel(\"Mês/Ano\")\n",
    "ax.set_ylabel(\"Número de Acidentes\")\n",
    "plt.xticks(rotation=45)\n",
    "plt.grid(True)\n",
    "\n",
    "# Adicionar rótulos nos pontos\n",
    "for i, row in acidentes_mes.iterrows():\n",
    "    ax.text(row[\"mes_ano_str\"], row[\"acidentes\"], row[\"acidentes\"],\n",
    "            ha='center', va='bottom', fontsize=8)\n",
    "\n",
    "\n",
    "plt.tight_layout()\n",
    "plt.show()"
   ]
  },
  {
   "cell_type": "markdown",
   "metadata": {
    "id": "Q9ytQHL0zorU"
   },
   "source": [
    "🔎TEM UMA TENDENCIA DE CRESCIMENTO NOS ULTIMOS MESES"
   ]
  },
  {
   "cell_type": "markdown",
   "metadata": {
    "id": "2xLbVXXH1HB1"
   },
   "source": [
    "### Frequência de Acidentes por Dia da Semana"
   ]
  },
  {
   "cell_type": "code",
   "execution_count": 47,
   "metadata": {
    "colab": {
     "base_uri": "https://localhost:8080/",
     "height": 614
    },
    "id": "XgnqLKwt1B53",
    "outputId": "3b27a62a-33b4-4109-9a0c-485d54074b51"
   },
   "outputs": [
    {
     "data": {
      "image/png": "[encoded data removed]",
      "text/plain": [
       "<Figure size 1000x500 with 1 Axes>"
      ]
     },
     "metadata": {},
     "output_type": "display_data"
    }
   ],
   "source": [
    "# Contar acidentes por dia da semana\n",
    "acidentes_dia_semana = df_ocorrencias.groupby('dia_semana').size().reset_index(name=\"acidentes\")\n",
    "\n",
    "# Define the order of the days of the week\n",
    "dias_ordenados = ['segunda-feira', 'terça-feira', 'quarta-feira', 'quinta-feira', 'sexta-feira', 'sábado', 'domingo']\n",
    "acidentes_dia_semana['dia_semana'] = pd.Categorical(acidentes_dia_semana['dia_semana'], categories=dias_ordenados, ordered=True)\n",
    "\n",
    "# Sort by day of the week\n",
    "acidentes_dia_semana = acidentes_dia_semana.sort_values('dia_semana')\n",
    "\n",
    "# Gráfico de barras com seaborn\n",
    "plt.figure(figsize=(10, 5))\n",
    "ax = sns.barplot(data=acidentes_dia_semana, x=\"dia_semana\", y=\"acidentes\", palette=\"viridis\")\n",
    "\n",
    "# Título e eixos\n",
    "ax.set_title(\"Frequência de Acidentes por Dia da Semana (Rodovias Federais - 2025)\", fontsize=14)\n",
    "ax.set_xlabel(\"Dia da Semana\")\n",
    "ax.set_ylabel(\"Número de Acidentes\")\n",
    "plt.xticks(rotation=45)\n",
    "\n",
    "# Adicionar rótulos nas barras\n",
    "for container in ax.containers:\n",
    "    ax.bar_label(container, fmt='%d', label_type='edge')\n",
    "\n",
    "plt.tight_layout()\n",
    "plt.show()"
   ]
  },
  {
   "cell_type": "markdown",
   "metadata": {
    "id": "Vyi8mw19zaLY"
   },
   "source": [
    "🔎TEM UM LEVE AUMENTO DE CASOS NAS SEXTAS, SÁBADOS E DOMINGOS"
   ]
  },
  {
   "cell_type": "markdown",
   "metadata": {
    "id": "WHJTJPvT1T6R"
   },
   "source": [
    "### Frequência de Acidentes por Horario"
   ]
  },
  {
   "cell_type": "code",
   "execution_count": 48,
   "metadata": {
    "id": "b5gkCBAV15RT"
   },
   "outputs": [],
   "source": [
    "# Converter coluna de horário para datetime (hora:minuto)\n",
    "df_ocorrencias['horario'] = pd.to_datetime(df_ocorrencias['horario'], format=\"%H:%M\", errors=\"coerce\")\n",
    "\n",
    "# Extrair apenas a HORA\n",
    "df_ocorrencias['hora'] = df_ocorrencias['horario'].dt.hour\n",
    "\n",
    "acidentes_hora = df_ocorrencias['hora'].value_counts().sort_index().reset_index()\n",
    "acidentes_hora.columns = ['hora', 'acidentes']"
   ]
  },
  {
   "cell_type": "code",
   "execution_count": 49,
   "metadata": {
    "colab": {
     "base_uri": "https://localhost:8080/",
     "height": 507
    },
    "id": "i9WI_Qmo2FWp",
    "outputId": "3825c825-47ba-4f48-c6ba-401f1aa75e17"
   },
   "outputs": [
    {
     "data": {
      "image/png": "[encoded data removed]",
      "text/plain": [
       "<Figure size 1000x500 with 1 Axes>"
      ]
     },
     "metadata": {},
     "output_type": "display_data"
    }
   ],
   "source": [
    "# Gráfico de barras (estilo histograma)\n",
    "plt.figure(figsize=(10,5))\n",
    "ax = sns.barplot(data=acidentes_hora, x=\"hora\", y=\"acidentes\", color=\"steelblue\")\n",
    "\n",
    "# Adicionar rótulos em cima das barras\n",
    "for i, row in acidentes_hora.iterrows():\n",
    "    ax.text(row['hora'], row['acidentes'], row['acidentes'],\n",
    "            ha='center', va='bottom', fontsize=8)\n",
    "\n",
    "# Ajustes do gráfico\n",
    "ax.set_title(\"Distribuição dos Acidentes por Hora do Dia (Rodovias Federais - 2025)\", fontsize=14)\n",
    "ax.set_xlabel(\"Hora do Dia\")\n",
    "ax.set_ylabel(\"Número de Acidentes\")\n",
    "plt.xticks(range(0,24))\n",
    "plt.grid(axis='y')\n",
    "\n",
    "plt.tight_layout()\n",
    "plt.show()"
   ]
  },
  {
   "cell_type": "markdown",
   "metadata": {
    "id": "T2as-E3jaM6-"
   },
   "source": [
    "🔎TEM UM MAIOR NUMERO DE ACIDENTES EM HORARIOS DE PICO (7H,17H,18,19H)"
   ]
  },
  {
   "cell_type": "markdown",
   "metadata": {
    "id": "Rn7-8ZgsuCTb"
   },
   "source": [
    "### Frequencia de Acidentes por Fase do Dia\n"
   ]
  },
  {
   "cell_type": "code",
   "execution_count": 50,
   "metadata": {
    "id": "AQBC-RVJuNb4"
   },
   "outputs": [],
   "source": [
    "# Contagem por fase do dia\n",
    "fase_dia_acidentes = df_ocorrencias['fase_dia'].value_counts().reset_index()\n",
    "fase_dia_acidentes.columns = ['fase_dia', 'ocorrencias']"
   ]
  },
  {
   "cell_type": "code",
   "execution_count": 51,
   "metadata": {
    "colab": {
     "base_uri": "https://localhost:8080/",
     "height": 550
    },
    "id": "8BvCX6LHufs3",
    "outputId": "a687eb69-f55f-49b8-d627-1970887008d2"
   },
   "outputs": [
    {
     "ename": "AttributeError",
     "evalue": "'Rectangle' object has no property 'legend'",
     "output_type": "error",
     "traceback": [
      "\u001b[1;31m---------------------------------------------------------------------------\u001b[0m",
      "\u001b[1;31mAttributeError\u001b[0m                            Traceback (most recent call last)",
      "\u001b[1;32m~\\AppData\\Local\\Temp\\ipykernel_9492\\1233727279.py\u001b[0m in \u001b[0;36m<module>\u001b[1;34m\u001b[0m\n\u001b[0;32m      1\u001b[0m \u001b[1;31m# Gráfico de barras\u001b[0m\u001b[1;33m\u001b[0m\u001b[1;33m\u001b[0m\u001b[0m\n\u001b[0;32m      2\u001b[0m \u001b[0mplt\u001b[0m\u001b[1;33m.\u001b[0m\u001b[0mfigure\u001b[0m\u001b[1;33m(\u001b[0m\u001b[0mfigsize\u001b[0m\u001b[1;33m=\u001b[0m\u001b[1;33m(\u001b[0m\u001b[1;36m12\u001b[0m\u001b[1;33m,\u001b[0m\u001b[1;36m6\u001b[0m\u001b[1;33m)\u001b[0m\u001b[1;33m)\u001b[0m\u001b[1;33m\u001b[0m\u001b[1;33m\u001b[0m\u001b[0m\n\u001b[1;32m----> 3\u001b[1;33m ax = sns.barplot(\n\u001b[0m\u001b[0;32m      4\u001b[0m     \u001b[0mdata\u001b[0m\u001b[1;33m=\u001b[0m\u001b[0mfase_dia_acidentes\u001b[0m\u001b[1;33m,\u001b[0m\u001b[1;33m\u001b[0m\u001b[1;33m\u001b[0m\u001b[0m\n\u001b[0;32m      5\u001b[0m     \u001b[0mx\u001b[0m\u001b[1;33m=\u001b[0m\u001b[1;34m'ocorrencias'\u001b[0m\u001b[1;33m,\u001b[0m\u001b[1;33m\u001b[0m\u001b[1;33m\u001b[0m\u001b[0m\n",
      "\u001b[1;32m~\\anaconda3\\lib\\site-packages\\seaborn\\_decorators.py\u001b[0m in \u001b[0;36minner_f\u001b[1;34m(*args, **kwargs)\u001b[0m\n\u001b[0;32m     44\u001b[0m             )\n\u001b[0;32m     45\u001b[0m         \u001b[0mkwargs\u001b[0m\u001b[1;33m.\u001b[0m\u001b[0mupdate\u001b[0m\u001b[1;33m(\u001b[0m\u001b[1;33m{\u001b[0m\u001b[0mk\u001b[0m\u001b[1;33m:\u001b[0m \u001b[0marg\u001b[0m \u001b[1;32mfor\u001b[0m \u001b[0mk\u001b[0m\u001b[1;33m,\u001b[0m \u001b[0marg\u001b[0m \u001b[1;32min\u001b[0m \u001b[0mzip\u001b[0m\u001b[1;33m(\u001b[0m\u001b[0msig\u001b[0m\u001b[1;33m.\u001b[0m\u001b[0mparameters\u001b[0m\u001b[1;33m,\u001b[0m \u001b[0margs\u001b[0m\u001b[1;33m)\u001b[0m\u001b[1;33m}\u001b[0m\u001b[1;33m)\u001b[0m\u001b[1;33m\u001b[0m\u001b[1;33m\u001b[0m\u001b[0m\n\u001b[1;32m---> 46\u001b[1;33m         \u001b[1;32mreturn\u001b[0m \u001b[0mf\u001b[0m\u001b[1;33m(\u001b[0m\u001b[1;33m**\u001b[0m\u001b[0mkwargs\u001b[0m\u001b[1;33m)\u001b[0m\u001b[1;33m\u001b[0m\u001b[1;33m\u001b[0m\u001b[0m\n\u001b[0m\u001b[0;32m     47\u001b[0m     \u001b[1;32mreturn\u001b[0m \u001b[0minner_f\u001b[0m\u001b[1;33m\u001b[0m\u001b[1;33m\u001b[0m\u001b[0m\n\u001b[0;32m     48\u001b[0m \u001b[1;33m\u001b[0m\u001b[0m\n",
      "\u001b[1;32m~\\anaconda3\\lib\\site-packages\\seaborn\\categorical.py\u001b[0m in \u001b[0;36mbarplot\u001b[1;34m(x, y, hue, data, order, hue_order, estimator, ci, n_boot, units, seed, orient, color, palette, saturation, errcolor, errwidth, capsize, dodge, ax, **kwargs)\u001b[0m\n\u001b[0;32m   3188\u001b[0m         \u001b[0max\u001b[0m \u001b[1;33m=\u001b[0m \u001b[0mplt\u001b[0m\u001b[1;33m.\u001b[0m\u001b[0mgca\u001b[0m\u001b[1;33m(\u001b[0m\u001b[1;33m)\u001b[0m\u001b[1;33m\u001b[0m\u001b[1;33m\u001b[0m\u001b[0m\n\u001b[0;32m   3189\u001b[0m \u001b[1;33m\u001b[0m\u001b[0m\n\u001b[1;32m-> 3190\u001b[1;33m     \u001b[0mplotter\u001b[0m\u001b[1;33m.\u001b[0m\u001b[0mplot\u001b[0m\u001b[1;33m(\u001b[0m\u001b[0max\u001b[0m\u001b[1;33m,\u001b[0m \u001b[0mkwargs\u001b[0m\u001b[1;33m)\u001b[0m\u001b[1;33m\u001b[0m\u001b[1;33m\u001b[0m\u001b[0m\n\u001b[0m\u001b[0;32m   3191\u001b[0m     \u001b[1;32mreturn\u001b[0m \u001b[0max\u001b[0m\u001b[1;33m\u001b[0m\u001b[1;33m\u001b[0m\u001b[0m\n\u001b[0;32m   3192\u001b[0m \u001b[1;33m\u001b[0m\u001b[0m\n",
      "\u001b[1;32m~\\anaconda3\\lib\\site-packages\\seaborn\\categorical.py\u001b[0m in \u001b[0;36mplot\u001b[1;34m(self, ax, bar_kws)\u001b[0m\n\u001b[0;32m   1637\u001b[0m     \u001b[1;32mdef\u001b[0m \u001b[0mplot\u001b[0m\u001b[1;33m(\u001b[0m\u001b[0mself\u001b[0m\u001b[1;33m,\u001b[0m \u001b[0max\u001b[0m\u001b[1;33m,\u001b[0m \u001b[0mbar_kws\u001b[0m\u001b[1;33m)\u001b[0m\u001b[1;33m:\u001b[0m\u001b[1;33m\u001b[0m\u001b[1;33m\u001b[0m\u001b[0m\n\u001b[0;32m   1638\u001b[0m         \u001b[1;34m\"\"\"Make the plot.\"\"\"\u001b[0m\u001b[1;33m\u001b[0m\u001b[1;33m\u001b[0m\u001b[0m\n\u001b[1;32m-> 1639\u001b[1;33m         \u001b[0mself\u001b[0m\u001b[1;33m.\u001b[0m\u001b[0mdraw_bars\u001b[0m\u001b[1;33m(\u001b[0m\u001b[0max\u001b[0m\u001b[1;33m,\u001b[0m \u001b[0mbar_kws\u001b[0m\u001b[1;33m)\u001b[0m\u001b[1;33m\u001b[0m\u001b[1;33m\u001b[0m\u001b[0m\n\u001b[0m\u001b[0;32m   1640\u001b[0m         \u001b[0mself\u001b[0m\u001b[1;33m.\u001b[0m\u001b[0mannotate_axes\u001b[0m\u001b[1;33m(\u001b[0m\u001b[0max\u001b[0m\u001b[1;33m)\u001b[0m\u001b[1;33m\u001b[0m\u001b[1;33m\u001b[0m\u001b[0m\n\u001b[0;32m   1641\u001b[0m         \u001b[1;32mif\u001b[0m \u001b[0mself\u001b[0m\u001b[1;33m.\u001b[0m\u001b[0morient\u001b[0m \u001b[1;33m==\u001b[0m \u001b[1;34m\"h\"\u001b[0m\u001b[1;33m:\u001b[0m\u001b[1;33m\u001b[0m\u001b[1;33m\u001b[0m\u001b[0m\n",
      "\u001b[1;32m~\\anaconda3\\lib\\site-packages\\seaborn\\categorical.py\u001b[0m in \u001b[0;36mdraw_bars\u001b[1;34m(self, ax, kws)\u001b[0m\n\u001b[0;32m   1620\u001b[0m                 \u001b[1;31m# Draw the bars\u001b[0m\u001b[1;33m\u001b[0m\u001b[1;33m\u001b[0m\u001b[0m\n\u001b[0;32m   1621\u001b[0m                 \u001b[0moffpos\u001b[0m \u001b[1;33m=\u001b[0m \u001b[0mbarpos\u001b[0m \u001b[1;33m+\u001b[0m \u001b[0mself\u001b[0m\u001b[1;33m.\u001b[0m\u001b[0mhue_offsets\u001b[0m\u001b[1;33m[\u001b[0m\u001b[0mj\u001b[0m\u001b[1;33m]\u001b[0m\u001b[1;33m\u001b[0m\u001b[1;33m\u001b[0m\u001b[0m\n\u001b[1;32m-> 1622\u001b[1;33m                 barfunc(offpos, self.statistic[:, j], self.nested_width,\n\u001b[0m\u001b[0;32m   1623\u001b[0m                         \u001b[0mcolor\u001b[0m\u001b[1;33m=\u001b[0m\u001b[0mself\u001b[0m\u001b[1;33m.\u001b[0m\u001b[0mcolors\u001b[0m\u001b[1;33m[\u001b[0m\u001b[0mj\u001b[0m\u001b[1;33m]\u001b[0m\u001b[1;33m,\u001b[0m \u001b[0malign\u001b[0m\u001b[1;33m=\u001b[0m\u001b[1;34m\"center\"\u001b[0m\u001b[1;33m,\u001b[0m\u001b[1;33m\u001b[0m\u001b[1;33m\u001b[0m\u001b[0m\n\u001b[0;32m   1624\u001b[0m                         label=hue_level, **kws)\n",
      "\u001b[1;32m~\\anaconda3\\lib\\site-packages\\matplotlib\\axes\\_axes.py\u001b[0m in \u001b[0;36mbarh\u001b[1;34m(self, y, width, height, left, align, **kwargs)\u001b[0m\n\u001b[0;32m   2549\u001b[0m         \"\"\"\n\u001b[0;32m   2550\u001b[0m         \u001b[0mkwargs\u001b[0m\u001b[1;33m.\u001b[0m\u001b[0msetdefault\u001b[0m\u001b[1;33m(\u001b[0m\u001b[1;34m'orientation'\u001b[0m\u001b[1;33m,\u001b[0m \u001b[1;34m'horizontal'\u001b[0m\u001b[1;33m)\u001b[0m\u001b[1;33m\u001b[0m\u001b[1;33m\u001b[0m\u001b[0m\n\u001b[1;32m-> 2551\u001b[1;33m         patches = self.bar(x=left, height=height, width=width, bottom=y,\n\u001b[0m\u001b[0;32m   2552\u001b[0m                            align=align, **kwargs)\n\u001b[0;32m   2553\u001b[0m         \u001b[1;32mreturn\u001b[0m \u001b[0mpatches\u001b[0m\u001b[1;33m\u001b[0m\u001b[1;33m\u001b[0m\u001b[0m\n",
      "\u001b[1;32m~\\anaconda3\\lib\\site-packages\\matplotlib\\__init__.py\u001b[0m in \u001b[0;36minner\u001b[1;34m(ax, data, *args, **kwargs)\u001b[0m\n\u001b[0;32m   1410\u001b[0m     \u001b[1;32mdef\u001b[0m \u001b[0minner\u001b[0m\u001b[1;33m(\u001b[0m\u001b[0max\u001b[0m\u001b[1;33m,\u001b[0m \u001b[1;33m*\u001b[0m\u001b[0margs\u001b[0m\u001b[1;33m,\u001b[0m \u001b[0mdata\u001b[0m\u001b[1;33m=\u001b[0m\u001b[1;32mNone\u001b[0m\u001b[1;33m,\u001b[0m \u001b[1;33m**\u001b[0m\u001b[0mkwargs\u001b[0m\u001b[1;33m)\u001b[0m\u001b[1;33m:\u001b[0m\u001b[1;33m\u001b[0m\u001b[1;33m\u001b[0m\u001b[0m\n\u001b[0;32m   1411\u001b[0m         \u001b[1;32mif\u001b[0m \u001b[0mdata\u001b[0m \u001b[1;32mis\u001b[0m \u001b[1;32mNone\u001b[0m\u001b[1;33m:\u001b[0m\u001b[1;33m\u001b[0m\u001b[1;33m\u001b[0m\u001b[0m\n\u001b[1;32m-> 1412\u001b[1;33m             \u001b[1;32mreturn\u001b[0m \u001b[0mfunc\u001b[0m\u001b[1;33m(\u001b[0m\u001b[0max\u001b[0m\u001b[1;33m,\u001b[0m \u001b[1;33m*\u001b[0m\u001b[0mmap\u001b[0m\u001b[1;33m(\u001b[0m\u001b[0msanitize_sequence\u001b[0m\u001b[1;33m,\u001b[0m \u001b[0margs\u001b[0m\u001b[1;33m)\u001b[0m\u001b[1;33m,\u001b[0m \u001b[1;33m**\u001b[0m\u001b[0mkwargs\u001b[0m\u001b[1;33m)\u001b[0m\u001b[1;33m\u001b[0m\u001b[1;33m\u001b[0m\u001b[0m\n\u001b[0m\u001b[0;32m   1413\u001b[0m \u001b[1;33m\u001b[0m\u001b[0m\n\u001b[0;32m   1414\u001b[0m         \u001b[0mbound\u001b[0m \u001b[1;33m=\u001b[0m \u001b[0mnew_sig\u001b[0m\u001b[1;33m.\u001b[0m\u001b[0mbind\u001b[0m\u001b[1;33m(\u001b[0m\u001b[0max\u001b[0m\u001b[1;33m,\u001b[0m \u001b[1;33m*\u001b[0m\u001b[0margs\u001b[0m\u001b[1;33m,\u001b[0m \u001b[1;33m**\u001b[0m\u001b[0mkwargs\u001b[0m\u001b[1;33m)\u001b[0m\u001b[1;33m\u001b[0m\u001b[1;33m\u001b[0m\u001b[0m\n",
      "\u001b[1;32m~\\anaconda3\\lib\\site-packages\\matplotlib\\axes\\_axes.py\u001b[0m in \u001b[0;36mbar\u001b[1;34m(self, x, height, width, bottom, align, **kwargs)\u001b[0m\n\u001b[0;32m   2401\u001b[0m                 \u001b[0mhatch\u001b[0m\u001b[1;33m=\u001b[0m\u001b[0mhtch\u001b[0m\u001b[1;33m,\u001b[0m\u001b[1;33m\u001b[0m\u001b[1;33m\u001b[0m\u001b[0m\n\u001b[0;32m   2402\u001b[0m                 )\n\u001b[1;32m-> 2403\u001b[1;33m             \u001b[0mr\u001b[0m\u001b[1;33m.\u001b[0m\u001b[0mupdate\u001b[0m\u001b[1;33m(\u001b[0m\u001b[0mkwargs\u001b[0m\u001b[1;33m)\u001b[0m\u001b[1;33m\u001b[0m\u001b[1;33m\u001b[0m\u001b[0m\n\u001b[0m\u001b[0;32m   2404\u001b[0m             \u001b[0mr\u001b[0m\u001b[1;33m.\u001b[0m\u001b[0mget_path\u001b[0m\u001b[1;33m(\u001b[0m\u001b[1;33m)\u001b[0m\u001b[1;33m.\u001b[0m\u001b[0m_interpolation_steps\u001b[0m \u001b[1;33m=\u001b[0m \u001b[1;36m100\u001b[0m\u001b[1;33m\u001b[0m\u001b[1;33m\u001b[0m\u001b[0m\n\u001b[0;32m   2405\u001b[0m             \u001b[1;32mif\u001b[0m \u001b[0morientation\u001b[0m \u001b[1;33m==\u001b[0m \u001b[1;34m'vertical'\u001b[0m\u001b[1;33m:\u001b[0m\u001b[1;33m\u001b[0m\u001b[1;33m\u001b[0m\u001b[0m\n",
      "\u001b[1;32m~\\anaconda3\\lib\\site-packages\\matplotlib\\artist.py\u001b[0m in \u001b[0;36mupdate\u001b[1;34m(self, props)\u001b[0m\n\u001b[0;32m   1062\u001b[0m                     \u001b[0mfunc\u001b[0m \u001b[1;33m=\u001b[0m \u001b[0mgetattr\u001b[0m\u001b[1;33m(\u001b[0m\u001b[0mself\u001b[0m\u001b[1;33m,\u001b[0m \u001b[1;34mf\"set_{k}\"\u001b[0m\u001b[1;33m,\u001b[0m \u001b[1;32mNone\u001b[0m\u001b[1;33m)\u001b[0m\u001b[1;33m\u001b[0m\u001b[1;33m\u001b[0m\u001b[0m\n\u001b[0;32m   1063\u001b[0m                     \u001b[1;32mif\u001b[0m \u001b[1;32mnot\u001b[0m \u001b[0mcallable\u001b[0m\u001b[1;33m(\u001b[0m\u001b[0mfunc\u001b[0m\u001b[1;33m)\u001b[0m\u001b[1;33m:\u001b[0m\u001b[1;33m\u001b[0m\u001b[1;33m\u001b[0m\u001b[0m\n\u001b[1;32m-> 1064\u001b[1;33m                         raise AttributeError(f\"{type(self).__name__!r} object \"\n\u001b[0m\u001b[0;32m   1065\u001b[0m                                              f\"has no property {k!r}\")\n\u001b[0;32m   1066\u001b[0m                     \u001b[0mret\u001b[0m\u001b[1;33m.\u001b[0m\u001b[0mappend\u001b[0m\u001b[1;33m(\u001b[0m\u001b[0mfunc\u001b[0m\u001b[1;33m(\u001b[0m\u001b[0mv\u001b[0m\u001b[1;33m)\u001b[0m\u001b[1;33m)\u001b[0m\u001b[1;33m\u001b[0m\u001b[1;33m\u001b[0m\u001b[0m\n",
      "\u001b[1;31mAttributeError\u001b[0m: 'Rectangle' object has no property 'legend'"
     ]
    },
    {
     "data": {
      "image/png": "[encoded data removed]",
      "text/plain": [
       "<Figure size 1200x600 with 1 Axes>"
      ]
     },
     "metadata": {},
     "output_type": "display_data"
    }
   ],
   "source": [
    "# Gráfico de barras\n",
    "plt.figure(figsize=(12,6))\n",
    "ax = sns.barplot(\n",
    "    data=fase_dia_acidentes,\n",
    "    x='ocorrencias',\n",
    "    y='fase_dia',\n",
    "    hue='fase_dia',\n",
    "    dodge=False,          # mantém uma barra por categoria\n",
    "    legend=False,         # não mostra legenda repetitiva\n",
    "    palette=\"viridis\"\n",
    ")\n",
    "\n",
    "# Adicionar rótulos de dados\n",
    "for i, row in fase_dia_acidentes.iterrows():\n",
    "    ax.text(row['ocorrencias'], i, row['ocorrencias'], ha='left', va='center', fontsize=8)\n",
    "\n",
    "# Ajustes\n",
    "ax.set_title(\"Frequência por Tipo de Acidente (Rodovias Federais - 2025)\", fontsize=14)\n",
    "ax.set_xlabel(\"Número de Acidentes\")\n",
    "ax.set_ylabel(\"Tipo de Acidente\")\n",
    "\n",
    "plt.tight_layout()\n",
    "plt.show()"
   ]
  },
  {
   "cell_type": "code",
   "execution_count": null,
   "metadata": {
    "id": "xANU2g2yaben"
   },
   "outputs": [],
   "source": [
    "🔎A MAIORIA DOS ACIDENTES OCORRE EM PLENA LUZ DO DIA"
   ]
  },
  {
   "cell_type": "code",
   "execution_count": null,
   "metadata": {
    "colab": {
     "base_uri": "https://localhost:8080/",
     "height": 542
    },
    "id": "FHvLP-zIvIyA",
    "outputId": "ad883445-71ee-4527-9d01-d00db4dc69c3"
   },
   "outputs": [],
   "source": [
    "import plotly.express as px\n",
    "\n",
    "# Cria a figura do gráfico de pizza\n",
    "fig = px.pie(\n",
    "    data_frame=fase_dia_acidentes,\n",
    "    names='fase_dia',                   # A coluna com as categorias (fatias da pizza)\n",
    "    values='ocorrencias',       # A coluna com os valores (tamanho das fatias)\n",
    "    title='Proporção de Acidentes por Fase do Dia (%)', # Título do gráfico\n",
    "    hole=0.3                            # Cria um \"buraco\" no meio, transformando em um gráfico de rosca (donut chart)\n",
    ")\n",
    "\n",
    "# Ajusta a aparência dos rótulos para mostrar porcentagem e o nome da categoria\n",
    "fig.update_traces(\n",
    "    textposition='inside',              # Posição do texto\n",
    "    textinfo='percent+label',           # Informação a ser exibida: porcentagem + nome da categoria\n",
    "    pull=[0.05, 0, 0, 0]                # Puxa (destaca) a primeira fatia um pouco para fora\n",
    ")\n",
    "\n",
    "# Ajusta o layout geral do gráfico\n",
    "fig.update_layout(\n",
    "    title_font_size=20,                 # Tamanho da fonte do título\n",
    "    legend_title_text='Fase do Dia',    # Título da legenda\n",
    "    uniformtext_minsize=12,             # Garante que o texto dentro da pizza seja legível\n",
    "    uniformtext_mode='hide'\n",
    ")\n",
    "\n",
    "fig.show()"
   ]
  },
  {
   "cell_type": "markdown",
   "metadata": {
    "id": "yMXBuUlR3gc-"
   },
   "source": [
    "### Frequencia de Acidentes Por Tipo de Acidente"
   ]
  },
  {
   "cell_type": "code",
   "execution_count": null,
   "metadata": {
    "id": "o-LLSd3U4GMI"
   },
   "outputs": [],
   "source": [
    "# Contagem por tipo de acidente\n",
    "acidentes_tipo = df_ocorrencias['tipo_acidente'].value_counts().reset_index()\n",
    "acidentes_tipo.columns = ['tipo_acidente', 'ocorrencias']"
   ]
  },
  {
   "cell_type": "code",
   "execution_count": null,
   "metadata": {
    "colab": {
     "base_uri": "https://localhost:8080/",
     "height": 550
    },
    "id": "dZAQvARS4N4X",
    "outputId": "ca51d088-55ea-4c47-a6ec-2abf44bd9478"
   },
   "outputs": [],
   "source": [
    "# Gráfico de barras\n",
    "plt.figure(figsize=(12,6))\n",
    "ax = sns.barplot(\n",
    "    data=acidentes_tipo,\n",
    "    x='ocorrencias',\n",
    "    y='tipo_acidente',\n",
    "    hue='tipo_acidente',\n",
    "    dodge=False,          # mantém uma barra por categoria\n",
    "    legend=False,         # não mostra legenda repetitiva\n",
    "    palette=\"viridis\"\n",
    ")\n",
    "\n",
    "# Adicionar rótulos de dados\n",
    "for i, row in acidentes_tipo.iterrows():\n",
    "    ax.text(row['ocorrencias'], i, row['ocorrencias'], ha='left', va='center', fontsize=8)\n",
    "\n",
    "# Ajustes\n",
    "ax.set_title(\"Frequência por Tipo de Acidente (Rodovias Federais - 2025)\", fontsize=14)\n",
    "ax.set_xlabel(\"Número de Acidentes\")\n",
    "ax.set_ylabel(\"Tipo de Acidente\")\n",
    "\n",
    "plt.tight_layout()\n",
    "plt.show()"
   ]
  },
  {
   "cell_type": "code",
   "execution_count": null,
   "metadata": {
    "id": "rXYUBMCEy-LE"
   },
   "outputs": [],
   "source": [
    "# Calcula o total de ocorrências para o cálculo da porcentagem\n",
    "total_ocorrencias = df_ocorrencias.shape[0]\n",
    "acidentes_tipo['percentual'] = (acidentes_tipo['ocorrencias'] / total_ocorrencias) * 100\n",
    "\n",
    "# Cria uma coluna de texto formatada para exibir no gráfico (ex: \"1500 (5.5%)\")\n",
    "acidentes_tipo['texto_formatado'] = acidentes_tipo.apply(\n",
    "    lambda row: f\"{row['ocorrencias']} ({row['percentual']:.1f}%)\", axis=1\n",
    ")"
   ]
  },
  {
   "cell_type": "code",
   "execution_count": null,
   "metadata": {
    "colab": {
     "base_uri": "https://localhost:8080/",
     "height": 542
    },
    "id": "NE3YyJDIzIzx",
    "outputId": "1c9de7d2-85a8-449f-dfbd-2b50e9ad3ebd"
   },
   "outputs": [],
   "source": [
    "fig = px.bar(\n",
    "    data_frame=acidentes_tipo,\n",
    "    x='ocorrencias',\n",
    "    y='tipo_acidente',\n",
    "    orientation='h',  # 'h' para barras horizontais\n",
    "    text='texto_formatado',  # Usa a coluna de texto formatado para os rótulos\n",
    "    title='Tipos de Acidente por Frequência (# e %)',\n",
    "    labels={ # Renomeia os rótulos dos eixos\n",
    "        'ocorrencias': 'Número de Acidentes',\n",
    "        'tipo_acidente': 'Tipo de Acidente'\n",
    "    }\n",
    ")\n",
    "\n",
    "# Ajusta a aparência e a posição dos rótulos de texto\n",
    "fig.update_traces(\n",
    "    textposition='outside', # Coloca o texto fora da barra\n",
    "    marker_color='#2ECC71', # Define uma cor para as barras\n",
    "    textfont_size=12\n",
    ")\n",
    "\n",
    "# Ajusta o layout geral do gráfico (título, margens, etc.)\n",
    "fig.update_layout(\n",
    "    title_font_size=20,\n",
    "    xaxis_title_font_size=14,\n",
    "    yaxis_title_font_size=14,\n",
    "    yaxis={'categoryorder':'total ascending'} # Garante que a ordem esteja correta\n",
    ")\n",
    "\n",
    "fig.show()\n"
   ]
  },
  {
   "cell_type": "markdown",
   "metadata": {
    "id": "uXLe_V1NatG2"
   },
   "source": [
    "🔎 Os de acidentes mais comuns nas rodovias federais até o moemento são \"Colisão traseira\", \"Saída de leito carroçável\" e \"Colisão transversal\"."
   ]
  },
  {
   "cell_type": "markdown",
   "metadata": {
    "id": "Tchj-zE55ppE"
   },
   "source": [
    "### Distribuição do número de mortos"
   ]
  },
  {
   "cell_type": "code",
   "execution_count": null,
   "metadata": {
    "colab": {
     "base_uri": "https://localhost:8080/",
     "height": 488
    },
    "id": "HLVsoK3K5m47",
    "outputId": "2428c02f-e086-4073-8e95-d463337c7fc6"
   },
   "outputs": [],
   "source": [
    "# Contar frequência de cada valor de 'mortos'\n",
    "frequencias = df_ocorrencias['mortos'].value_counts().sort_index()\n",
    "\n",
    "plt.figure(figsize=(10,5))\n",
    "bars = plt.bar(frequencias.index, frequencias.values, color='red')\n",
    "\n",
    "# Adicionar rótulos de valor em cada barra\n",
    "for bar in bars:\n",
    "    height = bar.get_height()\n",
    "    plt.text(bar.get_x() + bar.get_width()/2, height + 0.2, int(height), ha='center', va='bottom')\n",
    "\n",
    "plt.title(\"Distribuição do Número de Mortos por Acidente\")\n",
    "plt.xlabel(\"Mortos por Acidente\")\n",
    "plt.ylabel(\"Frequência\")\n",
    "plt.xticks(frequencias.index)  # garante que todos os valores apareçam no eixo x\n",
    "plt.show()"
   ]
  },
  {
   "cell_type": "markdown",
   "metadata": {
    "id": "cVCEaedYbsR_"
   },
   "source": [
    "🔍A grande maioria dos acidentes registrados não resultou em mortes,porém ainda existem sinistros com consequências trágicas, e alguns com uma quantidade elevada de mortes."
   ]
  },
  {
   "cell_type": "markdown",
   "metadata": {
    "id": "PVBWzb96BB-E"
   },
   "source": [
    "### Distribuição do Número de Feridos"
   ]
  },
  {
   "cell_type": "code",
   "execution_count": null,
   "metadata": {
    "id": "sH-TYImuBpsj"
   },
   "outputs": [],
   "source": [
    "# Selecionando as colunas de interesse e somando os valores\n",
    "colunas = ['feridos_leves', 'feridos_graves', 'ilesos', 'feridos']\n",
    "soma_colunas = df_ocorrencias[colunas].sum()"
   ]
  },
  {
   "cell_type": "code",
   "execution_count": null,
   "metadata": {
    "colab": {
     "base_uri": "https://localhost:8080/",
     "height": 628
    },
    "id": "A78mxOOEBsTG",
    "outputId": "ce012aea-0050-4e98-9ea8-0a2261f0ff3f"
   },
   "outputs": [],
   "source": [
    "# Criando o gráfico de barras\n",
    "plt.figure(figsize=(8,5))\n",
    "sns.barplot(x=soma_colunas.index, y=soma_colunas.values, palette=\"viridis\")\n",
    "\n",
    "# Adicionando rótulos de valor em cada barra\n",
    "for i, valor in enumerate(soma_colunas.values):\n",
    "    plt.text(i, valor + 5, int(valor), ha='center', va='bottom')\n",
    "\n",
    "plt.title(\"Distribuição de Feridos e Ilesos em Acidentes\")\n",
    "plt.ylabel(\"Quantidade de Pessoas\")\n",
    "plt.xlabel(\"Tipo\")\n",
    "plt.show()"
   ]
  },
  {
   "cell_type": "code",
   "execution_count": null,
   "metadata": {
    "colab": {
     "base_uri": "https://localhost:8080/",
     "height": 628
    },
    "id": "O3lAHHMmCqS9",
    "outputId": "2f263a4c-99b8-4c7b-c604-12820acdb270"
   },
   "outputs": [],
   "source": [
    "# Selecionando as colunas de interesse e somando os valores\n",
    "colunas = ['feridos_leves', 'feridos_graves', 'ilesos', 'feridos','mortos']\n",
    "soma_colunas = df_ocorrencias[colunas].sum()\n",
    "\n",
    "# Criando o gráfico de barras\n",
    "plt.figure(figsize=(8,5))\n",
    "sns.barplot(x=soma_colunas.index, y=soma_colunas.values, palette=\"viridis\")\n",
    "\n",
    "# Adicionando rótulos de valor em cada barra\n",
    "for i, valor in enumerate(soma_colunas.values):\n",
    "    plt.text(i, valor + 5, int(valor), ha='center', va='bottom')\n",
    "\n",
    "plt.title(\"Distribuição de Feridos e Ilesos e Obitos em Acidentes\")\n",
    "plt.ylabel(\"Quantidade de Pessoas\")\n",
    "plt.xlabel(\"Tipo\")\n",
    "plt.show()"
   ]
  },
  {
   "cell_type": "markdown",
   "metadata": {
    "id": "jtxDQvNFevqX"
   },
   "source": [
    "🔍 A maioria dos envolvidos saem ilesos ou com ferimentos leves"
   ]
  },
  {
   "cell_type": "markdown",
   "metadata": {
    "id": "YE__0WZzFYp9"
   },
   "source": [
    "### Distribuição da Causa do Acidente"
   ]
  },
  {
   "cell_type": "code",
   "execution_count": null,
   "metadata": {
    "colab": {
     "base_uri": "https://localhost:8080/",
     "height": 423
    },
    "id": "dv8KcQT2GcTS",
    "outputId": "49230f67-80b1-42ab-e47e-469b05a84c99"
   },
   "outputs": [],
   "source": [
    "# Contagem por causa\n",
    "acidentes_causa = df_ocorrencias['causa_acidente'].value_counts().reset_index()\n",
    "acidentes_causa.columns = ['causa_acidente', 'ocorrencias']\n",
    "acidentes_causa\n",
    "\n",
    "#Verificado que tem 69 causas distintas"
   ]
  },
  {
   "cell_type": "code",
   "execution_count": null,
   "metadata": {
    "colab": {
     "base_uri": "https://localhost:8080/",
     "height": 550
    },
    "id": "reN8YFUmGpmV",
    "outputId": "5867ea5d-78e4-4373-cec3-8c49fb96d918"
   },
   "outputs": [],
   "source": [
    "# Selecionar top 10 causas\n",
    "top10_causas = acidentes_causa.sort_values(by='ocorrencias', ascending=False).head(10)\n",
    "\n",
    "# Gráfico de barras\n",
    "plt.figure(figsize=(12,6))\n",
    "ax = sns.barplot(\n",
    "    data=top10_causas,\n",
    "    x='ocorrencias',\n",
    "    y='causa_acidente',\n",
    "    hue='causa_acidente',\n",
    "    dodge=False,\n",
    "    legend=False,\n",
    "    palette=\"viridis\"\n",
    ")\n",
    "\n",
    "# Adicionar rótulos de dados\n",
    "for i, row in top10_causas.iterrows():\n",
    "    ax.text(row['ocorrencias'], i, row['ocorrencias'], ha='left', va='center', fontsize=8)\n",
    "\n",
    "# Ajustes\n",
    "ax.set_title(\"Top 10 Causas de Acidente (Rodovias Federais - 2025)\", fontsize=14)\n",
    "ax.set_xlabel(\"Número de Acidentes\")\n",
    "ax.set_ylabel(\"Causa do Acidente\")\n",
    "\n",
    "plt.tight_layout()\n",
    "plt.show()\n"
   ]
  },
  {
   "cell_type": "markdown",
   "metadata": {
    "id": "TS1KRjKCgA6J"
   },
   "source": [
    "* 🔍Falha Humana Prevalente: As causas mais comuns, como \"Ausência de reação do condutor\", \"Reação tardia ou ineficiente do condutor\" e \"Acessar a via sem observar a presença dos outros veículos\", indicam que a maioria dos acidentes está ligada a erros de decisão, atenção ou ação dos motoristas.\n",
    "\n",
    "* 🔍Distância e Velocidade: \"Condutor deixou de manter distância do veículo da frente\" e \"Velocidade Incompatível\" também aparecem entre as top 5 causas, reforçando a importância de práticas de direção defensiva.\n",
    "\n",
    "* 🔍Outras Causas Relevantes: Outras causas no top 10 incluem manobras indevidas (\"Ultrapassagem Indevida\"), problemas com pedestres (\"Entrada inopinada do pedestre\") e condições da via (\"Pista Escorregadia\")."
   ]
  },
  {
   "cell_type": "markdown",
   "metadata": {
    "id": "_ITGVxLUQfT_"
   },
   "source": [
    "### Distribuição das condições Climaticas no Acidentes"
   ]
  },
  {
   "cell_type": "code",
   "execution_count": null,
   "metadata": {
    "colab": {
     "base_uri": "https://localhost:8080/",
     "height": 300
    },
    "id": "RaN1FDhRQ8aC",
    "outputId": "bb0363c4-d615-4405-b016-44e116068113"
   },
   "outputs": [],
   "source": [
    "# Contagem por causa\n",
    "condicao_metereologica = df_ocorrencias['condicao_metereologica'].value_counts().reset_index()\n",
    "condicao_metereologica.columns = ['condicao_metereologica', 'ocorrencias']\n",
    "condicao_metereologica"
   ]
  },
  {
   "cell_type": "code",
   "execution_count": null,
   "metadata": {
    "colab": {
     "base_uri": "https://localhost:8080/",
     "height": 550
    },
    "id": "_asTdJ_6RGmY",
    "outputId": "ca5bd4fa-adba-4b51-c949-50cada45a940"
   },
   "outputs": [],
   "source": [
    "# Gráfico de barras\n",
    "plt.figure(figsize=(12,6))\n",
    "ax = sns.barplot(\n",
    "    data=condicao_metereologica,\n",
    "    x='ocorrencias',\n",
    "    y='condicao_metereologica',\n",
    "    hue='condicao_metereologica',\n",
    "    dodge=False,\n",
    "    legend=False,\n",
    "    palette=\"viridis\"\n",
    ")\n",
    "\n",
    "# Adicionar rótulos de dados\n",
    "for i, row in condicao_metereologica.iterrows():\n",
    "    ax.text(row['ocorrencias'], i, row['ocorrencias'], ha='left', va='center', fontsize=8)\n",
    "\n",
    "# Ajustes\n",
    "ax.set_title(\"Distribuição das Condições Climaticas nos Acidentes\", fontsize=14)\n",
    "ax.set_xlabel(\"Número de Acidentes\")\n",
    "ax.set_ylabel(\"Causa do Acidente\")\n",
    "\n",
    "plt.tight_layout()\n",
    "plt.show()"
   ]
  },
  {
   "cell_type": "markdown",
   "metadata": {
    "id": "J_eXvB8bgdzu"
   },
   "source": [
    "🔍 A grande maioria dos acidentes ocorre em céu claro"
   ]
  },
  {
   "cell_type": "markdown",
   "metadata": {
    "id": "HE_YyIcrR_jY"
   },
   "source": [
    "### Distribuição dos Acidentes Por UF"
   ]
  },
  {
   "cell_type": "code",
   "execution_count": null,
   "metadata": {
    "colab": {
     "base_uri": "https://localhost:8080/",
     "height": 896
    },
    "id": "cEkkgdnxR998",
    "outputId": "87624073-057d-4fdf-acb4-57adea9b020a"
   },
   "outputs": [],
   "source": [
    "# Contagem por UF\n",
    "uf = df_ocorrencias['uf'].value_counts().reset_index()\n",
    "uf.columns = ['uf', 'ocorrencias']\n",
    "uf"
   ]
  },
  {
   "cell_type": "code",
   "execution_count": null,
   "metadata": {
    "colab": {
     "base_uri": "https://localhost:8080/",
     "height": 550
    },
    "id": "ZvGYcQvtSRck",
    "outputId": "998663ec-c052-45cf-b985-0cd22116a0b3"
   },
   "outputs": [],
   "source": [
    "# Gráfico de barras\n",
    "plt.figure(figsize=(12,6))\n",
    "ax = sns.barplot(\n",
    "    data=uf,\n",
    "    x='ocorrencias',\n",
    "    y='uf',\n",
    "    hue='uf',\n",
    "    dodge=False,\n",
    "    legend=False,\n",
    "    palette=\"viridis\"\n",
    ")\n",
    "\n",
    "# Adicionar rótulos de dados\n",
    "for i, row in uf.iterrows():\n",
    "    ax.text(row['ocorrencias'], i, row['ocorrencias'], ha='left', va='center', fontsize=8)\n",
    "\n",
    "# Ajustes\n",
    "ax.set_title(\"Acidentes po UF\", fontsize=14)\n",
    "ax.set_xlabel(\"Número de Acidentes\")\n",
    "ax.set_ylabel(\"Causa do Acidente\")\n",
    "\n",
    "plt.tight_layout()\n",
    "\n",
    "plt.show()"
   ]
  },
  {
   "cell_type": "code",
   "execution_count": null,
   "metadata": {
    "colab": {
     "base_uri": "https://localhost:8080/",
     "height": 542
    },
    "id": "fLkf-kt7kf8b",
    "outputId": "67df0029-227d-447e-dde0-f6abb90a8f87"
   },
   "outputs": [],
   "source": [
    "import geopandas as gpd\n",
    "import plotly.express as px\n",
    "# Carregar mapa do Brasil (shapefile ou GeoJSON)\n",
    "# Exemplo usando um GeoJSON público:\n",
    "url = 'https://raw.githubusercontent.com/codeforamerica/click_that_hood/master/public/data/brazil-states.geojson'\n",
    "brasil = gpd.read_file(url)\n",
    "\n",
    "fig = px.choropleth(uf,\n",
    "                    geojson=url,\n",
    "                    locations='uf',\n",
    "                    featureidkey=\"properties.sigla\",\n",
    "                    color='ocorrencias',\n",
    "                    color_continuous_scale=\"Reds\",\n",
    "                    title=\"Número de Mortos por Estado\")\n",
    "\n",
    "fig.update_geos(fitbounds=\"locations\", visible=False)\n",
    "fig.show()\n"
   ]
  },
  {
   "cell_type": "markdown",
   "metadata": {
    "id": "yrNZHCoxhEnA"
   },
   "source": [
    "🔎 Alguns estados concentram um número significativamente maior de ocorrências.\n",
    "Estados com Mais Acidentes: O estado de Minas Gerais (MG) lidera o ranking de acidentes, seguido por Santa Catarina (SC), Paraná (PR), Rio de Janeiro (RJ) e Rio Grande do Sul (RS)"
   ]
  },
  {
   "cell_type": "markdown",
   "metadata": {
    "id": "nZzi3-g5S3rt"
   },
   "source": [
    "### Distribuição dos Acidentes Por Rodovia Federal"
   ]
  },
  {
   "cell_type": "code",
   "execution_count": null,
   "metadata": {
    "colab": {
     "base_uri": "https://localhost:8080/",
     "height": 423
    },
    "id": "_-S_G_okS-0z",
    "outputId": "d743ce9b-a4ea-4a17-8f13-614bf2c2d9e8"
   },
   "outputs": [],
   "source": [
    "# Contagem por causa\n",
    "rodovias = df_ocorrencias['br'].value_counts().reset_index()\n",
    "rodovias.columns = ['br', 'ocorrencias']\n",
    "rodovias"
   ]
  },
  {
   "cell_type": "code",
   "execution_count": null,
   "metadata": {
    "colab": {
     "base_uri": "https://localhost:8080/",
     "height": 363
    },
    "id": "DgjJlk3xTHYF",
    "outputId": "6d91364e-cf4f-4528-d2f1-d37d20ba902f"
   },
   "outputs": [],
   "source": [
    "# Selecionar top 10 Rodovias\n",
    "top10_Rodovias = rodovias.sort_values(by='ocorrencias', ascending=False).head(10)  # mudou para 10 para melhor visualização\n",
    "\n",
    "top10_Rodovias\n"
   ]
  },
  {
   "cell_type": "code",
   "execution_count": null,
   "metadata": {
    "id": "HUBIUQCQd9lJ"
   },
   "outputs": [],
   "source": [
    "top10_Rodovias['br'] = 'BR-'+ top10_Rodovias['br'].astype(\"string\")"
   ]
  },
  {
   "cell_type": "code",
   "execution_count": null,
   "metadata": {
    "colab": {
     "base_uri": "https://localhost:8080/",
     "height": 617
    },
    "id": "Jt0tEv17bmwg",
    "outputId": "88975e8d-f574-4392-a62e-b97e58dd8215"
   },
   "outputs": [],
   "source": [
    "import plotly.express as px\n",
    "\n",
    "# Supondo que top10_Rodovias já esteja definido\n",
    "fig = px.bar(\n",
    "    top10_Rodovias.sort_values('ocorrencias', ascending=True),\n",
    "    x='ocorrencias',\n",
    "    y='br',\n",
    "    orientation='h',          # barras horizontais\n",
    "    text='ocorrencias',       # mostra os números automaticamente\n",
    "    color='ocorrencias',      # cores graduais pelo valor\n",
    "    color_continuous_scale='Viridis',\n",
    "    title=\"Top 10 Rodovias Federais com Mais Acidentes (2025)\"\n",
    ")\n",
    "\n",
    "# Ajustes de layout\n",
    "fig.update_layout(\n",
    "    xaxis_title=\"Número de Acidentes\",\n",
    "    yaxis_title=\"Rodovia Federal (BR)\",\n",
    "    yaxis=dict(tickmode='linear'),\n",
    "    height=600,\n",
    "    width=900\n",
    ")\n",
    "\n",
    "# Mostrar gráfico interativo\n",
    "fig.show()\n"
   ]
  },
  {
   "cell_type": "markdown",
   "metadata": {
    "id": "YGpw9qLzhPvt"
   },
   "source": [
    "🔍 O número de acidentes nas top 2 rodovias (BR-101 e BR-116) é consideravelmente maior do que nas demais rodovias listadas no top 10. Isso sugere que essas duas BRs exigem atenção prioritária em termos de segurança viária."
   ]
  },
  {
   "cell_type": "markdown",
   "metadata": {
    "id": "Jg-z5keaiHa6"
   },
   "source": [
    "### CLIMA X TIPO DE ACIDENTE\n"
   ]
  },
  {
   "cell_type": "code",
   "execution_count": null,
   "metadata": {
    "colab": {
     "base_uri": "https://localhost:8080/"
    },
    "id": "J89eDJrriMtj",
    "outputId": "db7acdc1-ef25-4458-9430-402e1c24769c"
   },
   "outputs": [],
   "source": [
    "tabela_cruzada = pd.crosstab(df_ocorrencias['condicao_metereologica'], df_ocorrencias['tipo_acidente'])\n",
    "print(tabela_cruzada)"
   ]
  },
  {
   "cell_type": "code",
   "execution_count": null,
   "metadata": {
    "colab": {
     "base_uri": "https://localhost:8080/",
     "height": 762
    },
    "id": "YG2-McDDih6m",
    "outputId": "9a20ec52-290c-40a4-812d-37efc2128239"
   },
   "outputs": [],
   "source": [
    "plt.figure(figsize=(10,6))\n",
    "sns.heatmap(tabela_cruzada,\n",
    "            annot=True,   # mostra os números na célula\n",
    "            fmt='d',      # formato inteiro\n",
    "            cmap='YlOrRd') # paleta de cores\n",
    "plt.title('Distribuição de Tipo de Acidente por Clima')\n",
    "plt.ylabel('Clima')\n",
    "plt.xlabel('Tipo de Acidente')\n",
    "plt.show()\n"
   ]
  },
  {
   "cell_type": "markdown",
   "metadata": {
    "id": "BpWwvhVIjNbP"
   },
   "source": [
    "🔍 Céu Claro, é dominante mostrando que sob bom tempo, e muitas das causas de acidentes estão relacionadas a fatores humanos e de tráfego, que ocorrem independentemente do clima.\n",
    "\n",
    "🔍 Condições como neblina ou nevoeiro, embora menos frequentes em termos de acidentes totais, provavelmente mostram uma concentração maior em acidentes que podem ser relacionados à visibilidade reduzida, mas ainda temos muitos fatores humanos relacionados."
   ]
  },
  {
   "cell_type": "markdown",
   "metadata": {
    "id": "Cy3HFNbkQnoO"
   },
   "source": [
    "### QUANTIDADE DE VEICULOS X MORTES"
   ]
  },
  {
   "cell_type": "code",
   "execution_count": null,
   "metadata": {
    "colab": {
     "base_uri": "https://localhost:8080/",
     "height": 535
    },
    "id": "PlJ66OWe-_vW",
    "outputId": "6dc891aa-b6c6-49e5-ae8a-5324d3bb5188"
   },
   "outputs": [],
   "source": [
    "# Seleciona as colunas de interesse para o pair plot\n",
    "# Usamos um número menor de variáveis para não sobrecarregar a visualização\n",
    "colunas_pairplot = ['mortos', 'veiculos']\n",
    "\n",
    "# Para não processar o dataset inteiro (pode ser lento), usamos uma amostra\n",
    "df_amostra = df_ocorrencias[colunas_pairplot].dropna().sample(n=min(2000, len(df_ocorrencias)), random_state=42)\n",
    "sns.pairplot(df_amostra)\n",
    "plt.suptitle('Gráfico de Pares de Variáveis Selecionadas', y=1.02, fontsize=16)\n",
    "\n",
    "# Mostra o gráfico\n",
    "plt.show()"
   ]
  },
  {
   "cell_type": "markdown",
   "metadata": {
    "id": "WtcRJBx2lz53"
   },
   "source": [
    "🔍Não existe uma correlação linear forte e clara entre o número de veículos envolvidos em um acidente e o número de mortos"
   ]
  },
  {
   "cell_type": "markdown",
   "metadata": {
    "id": "dzeQGjj3Evfi"
   },
   "source": [
    "### CAUSA DE ACIDENTES AGRUPADAS"
   ]
  },
  {
   "cell_type": "code",
   "execution_count": null,
   "metadata": {
    "id": "5csHB6N5E0p0"
   },
   "outputs": [],
   "source": [
    "# -Definição dos Grupos de Causas ---\n",
    "\n",
    "falha_humana_condutor = [\n",
    "    'Velocidade Incompatível', 'Ultrapassagem Indevida', 'Transitar na contramão',\n",
    "    'Condutor desrespeitou a iluminação vermelha do semáforo', 'Desrespeitar a preferência no cruzamento',\n",
    "    'Conversão proibida', 'Retorno proibido', 'Manobra de mudança de faixa', 'Transitar no Acostamento',\n",
    "    'Estacionar ou parar em local proibido', 'Participar de racha', 'Ausência de reação do condutor',\n",
    "    'Reação tardia ou ineficiente do condutor', 'Condutor deixou de manter distância do veículo da frente',\n",
    "    'Acessar a via sem observar a presença dos outros veículos', 'Condutor usando celular', 'Condutor Dormindo',\n",
    "    'Ingestão de álcool pelo condutor', 'Ingestão de substâncias psicoativas pelo condutor', 'Mal súbito do condutor',\n",
    "    'Transtornos Mentais (exceto suicidio)', 'Suicídio (presumido)', 'Deixar de acionar o farol da motocicleta (ou similar)',\n",
    "    'Trafegar com motocicleta (ou similar) entre as faixas', 'Frear bruscamente', 'Transitar na calçada', 'Modificação proibida'\n",
    "]\n",
    "\n",
    "condicoes_da_via = [\n",
    "    'Pista Escorregadia', 'Pista esburacada', 'Acumulo de água sobre o pavimento', 'Acumulo de óleo sobre o pavimento',\n",
    "    'Acumulo de areia ou detritos sobre o pavimento', 'Afundamento ou ondulação no pavimento', 'Ausência de sinalização',\n",
    "    'Sinalização mal posicionada', 'Sinalização encoberta', 'Deficiência do Sistema de Iluminação/Sinalização',\n",
    "    'Restrição de visibilidade em curvas horizontais', 'Restrição de visibilidade em curvas verticais',\n",
    "    'Curva acentuada', 'Declive acentuado', 'Falta de acostamento', 'Acostamento em desnível',\n",
    "    'Sistema de drenagem ineficiente', 'Demais falhas na via', 'Redutor de velocidade em desacordo',\n",
    "    'Falta de elemento de contenção que evite a saída do leito carroçável', 'Faixas de trânsito com largura insuficiente',\n",
    "    'Iluminação deficiente', 'Semáforo com defeito', 'Área urbana sem a presença de local apropriado para a travessia de pedestres',\n",
    "    'Acesso irregular', 'Desvio temporário'\n",
    "]\n",
    "\n",
    "condicoes_ambientais_externas = [\n",
    "    'Chuva', 'Neblina', 'Fumaça', 'Animais na Pista', 'Objeto estático sobre o leito carroçável',\n",
    "    'Demais Fenômenos da natureza', 'Carga excessiva e/ou mal acondicionada'\n",
    "]\n",
    "\n",
    "falha_mecanica = [\n",
    "    'Avarias e/ou desgaste excessivo no pneu', 'Problema com o freio', 'Problema na suspensão',\n",
    "    'Faróis desregulados', 'Demais falhas mecânicas ou elétricas'\n",
    "]\n",
    "\n",
    "falha_humana_pedestre = [\n",
    "    'Entrada inopinada do pedestre', 'Pedestre cruzava a pista fora da faixa', 'Pedestre andava na pista',\n",
    "    'Pedestre - Ingestão de álcool/ substâncias psicoativas'\n",
    "]"
   ]
  },
  {
   "cell_type": "code",
   "execution_count": null,
   "metadata": {
    "id": "xx3SuxVyFB8s"
   },
   "outputs": [],
   "source": [
    "# Função para Categorizar as Causas ---\n",
    "def categorizar_causa(causa):\n",
    "    if causa in falha_humana_condutor:\n",
    "        return 'Falha Humana (Condutor)'\n",
    "    elif causa in condicoes_da_via:\n",
    "        return 'Condições da Via'\n",
    "    elif causa in condicoes_ambientais_externas:\n",
    "        return 'Condições Ambientais/Externas'\n",
    "    elif causa in falha_mecanica:\n",
    "        return 'Falha Mecânica'\n",
    "    elif causa in falha_humana_pedestre:\n",
    "        return 'Falha Humana (Pedestre)'\n",
    "    else:\n",
    "        return 'Outros' # Categoria para causas não listadas"
   ]
  },
  {
   "cell_type": "code",
   "execution_count": null,
   "metadata": {
    "colab": {
     "base_uri": "https://localhost:8080/"
    },
    "id": "OD82K0LGFJmI",
    "outputId": "801fe888-5c7c-4951-92b7-dc163a99af98"
   },
   "outputs": [],
   "source": [
    "#CRIAÇÃO DA NOVA CAUSA\n",
    "df_ocorrencias['grupo_causa'] = df_ocorrencias['causa_acidente'].apply(categorizar_causa)\n",
    "\n",
    "print(\"\\nContagem de acidentes por grupo de causa:\")\n",
    "print(df_ocorrencias['grupo_causa'].value_counts())"
   ]
  },
  {
   "cell_type": "markdown",
   "metadata": {
    "id": "usnuz8MxLGPH"
   },
   "source": [
    "### GRUPO DE CAUSA X CONDIÇÕES METEREOLOGICAS"
   ]
  },
  {
   "cell_type": "code",
   "execution_count": null,
   "metadata": {
    "colab": {
     "base_uri": "https://localhost:8080/",
     "height": 763
    },
    "id": "h2GJlF6SLK-B",
    "outputId": "234358f6-c9e4-4f27-8123-2d66bba984ba"
   },
   "outputs": [],
   "source": [
    "# Cria uma tabela de contingência (crosstab)\n",
    "crosstab_clima = pd.crosstab(df_ocorrencias['grupo_causa'], df_ocorrencias['condicao_metereologica'])\n",
    "\n",
    "plt.figure(figsize=(12, 8))\n",
    "sns.heatmap(crosstab_clima, annot=True, fmt='d', cmap='YlGnBu')\n",
    "plt.title('Relação entre Grupo de Causa e Condição Meteorológica', fontsize=16)\n",
    "plt.ylabel('Grupo de Causa', fontsize=12)\n",
    "plt.xlabel('Condição Meteorológica', fontsize=12)\n",
    "plt.xticks(rotation=45, ha='right')\n",
    "plt.yticks(rotation=0)\n",
    "plt.tight_layout()\n",
    "plt.show()"
   ]
  },
  {
   "cell_type": "markdown",
   "metadata": {
    "id": "Y8TnraPJmy_X"
   },
   "source": [
    "🔍 Principais Insights:\n",
    "\n",
    "* Falha Humana Sob Qualquer Clima: Isso reforça a conclusão anterior de que o comportamento do motorista é um fator dominante nos acidentes, independentemente do clima.\n",
    "* Condições da Via e Falha Mecânica em Chuva/Neblina: Embora a falha humana seja comum, as categorias \"Condições da Via\" e \"Falha Mecânica\" tendem a ter uma proporção maior de ocorrências em condições climáticas adversas como \"Chuva\" e \"Neblina/Nevoeiro\". Pista molhada, visibilidade reduzida e problemas nos veículos (como pneus desgastados ou freios) se tornam mais críticos nesses cenários.\n",
    "* Condições Ambientais Específicas: A categoria \"Condições Ambientais/Externas\" terá suas ocorrências concentradas, como esperado, sob condições que a definem (por exemplo, \"Animais na Pista\", \"Fumaça\", \"Vento\").\n",
    "* Falha Humana (Pedestre) e Clima: A frequência de \"Falha Humana (Pedestre)\" pode não mostrar uma forte dependência do clima, embora possa haver nuances (por exemplo, pedestres podem ter mais dificuldade sob chuva forte ou neblina)."
   ]
  },
  {
   "cell_type": "markdown",
   "metadata": {
    "id": "eJ9vb6PKP0uC"
   },
   "source": [
    "### MATRIZ DE CORRELAÇÃO"
   ]
  },
  {
   "cell_type": "code",
   "execution_count": null,
   "metadata": {
    "colab": {
     "base_uri": "https://localhost:8080/"
    },
    "id": "KwE0trUhP-pN",
    "outputId": "db064c8e-2303-400e-a5b5-160c3cbc3eb9"
   },
   "outputs": [],
   "source": [
    "corr_matrix = df_ocorrencias.select_dtypes(include='number').corr()\n",
    "print(corr_matrix)"
   ]
  },
  {
   "cell_type": "code",
   "execution_count": null,
   "metadata": {
    "colab": {
     "base_uri": "https://localhost:8080/",
     "height": 786
    },
    "id": "3fTp9_8xP233",
    "outputId": "dc925f76-a047-4112-9f09-834322a6b087"
   },
   "outputs": [],
   "source": [
    "plt.figure(figsize=(10,8))\n",
    "sns.heatmap(corr_matrix,\n",
    "            annot=True,      # mostra os valores\n",
    "            fmt=\".2f\",       # 2 casas decimais\n",
    "            cmap='coolwarm', # paleta de cores\n",
    "            vmin=-1, vmax=1) # escala de correlação\n",
    "plt.title('Matriz de Correlação')\n",
    "plt.show()"
   ]
  },
  {
   "cell_type": "markdown",
   "metadata": {
    "id": "ZBBpoOlwt2QC"
   },
   "source": [
    "🔍 Altas Correlações Esperadas Por Definição"
   ]
  },
  {
   "cell_type": "markdown",
   "metadata": {
    "id": "LFDzIvhPQ5Xg"
   },
   "source": [
    "### DADOS ESTATISTICOS GERAIS"
   ]
  },
  {
   "cell_type": "code",
   "execution_count": null,
   "metadata": {
    "colab": {
     "base_uri": "https://localhost:8080/",
     "height": 300
    },
    "id": "mwJTv2WdR-50",
    "outputId": "6dd7d083-4bfc-450b-9b6a-18efa15f3def"
   },
   "outputs": [],
   "source": [
    "colunas_vitimas = ['mortos', 'feridos_leves', 'feridos_graves', 'feridos', 'ilesos']\n",
    "df_ocorrencias[colunas_vitimas].describe()"
   ]
  },
  {
   "cell_type": "markdown",
   "metadata": {
    "id": "j_rPahorvgVG"
   },
   "source": [
    "🔍 As estatísticas descritivas (mwJTv2WdR-50) mostram que, em média, o número de mortos e feridos graves por acidente é baixo (próximo de zero ou um). No entanto, os valores máximos (\"max\") indicam que existem acidentes com um grande número de vítimas (múltiplos mortos e dezenas de feridos), ressaltando a gravidade potencial dos sinistros, mesmo que a maioria não resulte em fatalidades."
   ]
  },
  {
   "cell_type": "code",
   "execution_count": null,
   "metadata": {
    "colab": {
     "base_uri": "https://localhost:8080/"
    },
    "id": "8skMuxqET67U",
    "outputId": "aeea7572-05d6-4e0f-d60f-0c4f238426d4"
   },
   "outputs": [],
   "source": [
    "# Número total de acidentes\n",
    "total_acidentes = len(df_ocorrencias)\n",
    "\n",
    "# Número de acidentes com pelo menos 1 morto\n",
    "acidentes_com_morte = (df_ocorrencias['mortos'] > 0).sum()\n",
    "\n",
    "# Probabilidade empírica\n",
    "prob_morte = acidentes_com_morte / total_acidentes\n",
    "\n",
    "print(f\"Probabilidade de um acidente ter pelo menos 1 morto: {prob_morte:.2%}\")\n"
   ]
  },
  {
   "cell_type": "markdown",
   "metadata": {
    "id": "uaDWwupuvjZR"
   },
   "source": [
    "🔍 Aproximadamente 7.20% dos acidentes registrados nos dados de 2025 resultaram em pelo menos uma morte."
   ]
  },
  {
   "cell_type": "markdown",
   "metadata": {
    "id": "-uN9zQS0uxGs"
   },
   "source": [
    "### MEDIA DE ACIDENTES EM FERIADOS"
   ]
  },
  {
   "cell_type": "code",
   "execution_count": null,
   "metadata": {
    "colab": {
     "base_uri": "https://localhost:8080/"
    },
    "id": "y4hrsvC3szNU",
    "outputId": "a4681e0f-9549-4294-a6e8-0c6be2fe9f0d"
   },
   "outputs": [],
   "source": [
    "lista_de_feriados = list(feriados.keys())\n",
    "\n",
    "df_ocorrencias['data_apenas_data'] = df_ocorrencias['data_inversa'].dt.date\n",
    "\n",
    "print(lista_de_feriados)\n",
    "\n",
    "print(f\"\\nForam encontrados {len(lista_de_feriados)} feriados nacionais em 2025.\")\n",
    "\n",
    "# --- 4. Classificação dos Dias e Análise ---\n",
    "# Cria uma nova coluna 'tipo_dia' para classificar cada data\n",
    "df_ocorrencias['tipo_dia'] = df_ocorrencias['data_apenas_data'].apply(lambda data: 'Feriado' if data in lista_de_feriados else 'Dia Comum')\n",
    "\n",
    "# Conta o número total de acidentes para cada tipo de dia\n",
    "contagem_acidentes = df_ocorrencias['tipo_dia'].value_counts()\n",
    "\n",
    "# Calcula o número de dias únicos para cada categoria\n",
    "dias_feriados = df_ocorrencias[df_ocorrencias['tipo_dia'] == 'Feriado']['data_apenas_data'].nunique()\n",
    "dias_comuns = df_ocorrencias[df_ocorrencias['tipo_dia'] == 'Dia Comum']['data_apenas_data'].nunique()\n",
    "\n",
    "# Calcula a média de acidentes por dia para uma comparação justa\n",
    "media_acidentes_feriados = contagem_acidentes['Feriado'] / dias_feriados if dias_feriados > 0 else 0\n",
    "media_acidentes_comuns = contagem_acidentes['Dia Comum'] / dias_comuns if dias_comuns > 0 else 0\n",
    "\n",
    "\n",
    "# --- 5. Exibição dos Resultados ---\n",
    "print(\"\\n--- Análise do Número de Acidentes: Feriados vs. Dias Comuns ---\")\n",
    "\n",
    "print(f\"\\nTotal de Acidentes em Feriados: {contagem_acidentes.get('Feriado', 0)}\")\n",
    "print(f\"Total de Acidentes em Dias Comuns: {contagem_acidentes.get('Dia Comum', 0)}\")\n",
    "\n",
    "print(\"\\n--- Média de Acidentes por Dia ---\")\n",
    "print(f\"Número de dias de feriado analisados: {dias_feriados}\")\n",
    "print(f\"Número de dias comuns analisados: {dias_comuns}\")\n",
    "print(f\"\\nMédia de acidentes por dia em FERIADOS: {media_acidentes_feriados:.2f}\")\n",
    "print(f\"Média de acidentes por dia em DIAS COMUNS: {media_acidentes_comuns:.2f}\")"
   ]
  },
  {
   "cell_type": "code",
   "execution_count": null,
   "metadata": {
    "colab": {
     "base_uri": "https://localhost:8080/",
     "height": 542
    },
    "id": "_Oqh6SwX78uR",
    "outputId": "fe63fb30-f147-494e-cefa-4c773581a860"
   },
   "outputs": [],
   "source": [
    "dados_para_grafico = pd.DataFrame({\n",
    "    'Tipo de Dia': ['Feriados', 'Dias Comuns'],\n",
    "    'Média de Acidentes': [207.50, 192.81]\n",
    "})\n",
    "\n",
    "# Cria a figura do gráfico de barras\n",
    "fig = px.bar(\n",
    "    data_frame=dados_para_grafico,\n",
    "    x='Tipo de Dia',\n",
    "    y='Média de Acidentes',\n",
    "    text='Média de Acidentes', # Adiciona o valor como texto em cada barra\n",
    "    color='Tipo de Dia',      # Colore as barras de acordo com a categoria\n",
    "    labels={ # Renomeia os rótulos dos eixos e da legenda\n",
    "        'Média de Acidentes': 'Média de Acidentes por Dia',\n",
    "        'Tipo de Dia': 'Categoria do Dia'\n",
    "    },\n",
    "    title='Média Diária de Acidentes: Feriados vs. Dias Comuns'\n",
    ")\n",
    "\n",
    "# Ajusta a aparência dos rótulos de texto e das barras\n",
    "fig.update_traces(\n",
    "    texttemplate='%{text:.2f}', # Formata o texto para ter duas casas decimais\n",
    "    textposition='outside',     # Posiciona o texto fora (acima) da barra\n",
    "    textfont_size=14\n",
    ")\n",
    "\n",
    "# Ajusta o layout geral do gráfico para um visual mais limpo\n",
    "fig.update_layout(\n",
    "    title_font_size=20,\n",
    "    xaxis_title_font_size=14,\n",
    "    yaxis_title_font_size=14,\n",
    "    showlegend=False, # Esconde a legenda, pois a informação já está no eixo X\n",
    "    yaxis=dict(range=[0, 250]) # Define o intervalo do eixo Y para dar espaço ao texto\n",
    ")\n",
    "\n",
    "# --- 4. Exibição e Salvamento do Gráfico ---\n",
    "\n",
    "# Mostra o gráfico interativo\n",
    "fig.show()\n",
    "\n"
   ]
  },
  {
   "cell_type": "markdown",
   "metadata": {
    "id": "i7Fuixc-tev_"
   },
   "source": [
    "🔎A MEDIA DE ACIDENTES EM DIAS DE FERIADO É MAIOR QUE EM DIAS NORMAIS"
   ]
  },
  {
   "cell_type": "markdown",
   "metadata": {
    "id": "YbYVnLE0wAHy"
   },
   "source": [
    "### BR-116 e BR-101, Verificação das Ocorrencias por KM"
   ]
  },
  {
   "cell_type": "code",
   "execution_count": null,
   "metadata": {
    "colab": {
     "base_uri": "https://localhost:8080/",
     "height": 1000
    },
    "id": "DCk19w8B-Be0",
    "outputId": "4d428616-89fd-415d-dd52-2f529052fb86"
   },
   "outputs": [],
   "source": [
    "df_ocorrencias['br'] = df_ocorrencias['br'].astype(int)\n",
    "df_ocorrencias['km'] = pd.to_numeric(df_ocorrencias['km'], errors='coerce')\n",
    "\n",
    "# Lista das rodovias que queremos analisar\n",
    "rodovias_para_analisar = [101, 116]\n",
    "\n",
    "# Loop para processar cada rodovia na lista\n",
    "for rodovia in rodovias_para_analisar:\n",
    "    print(f\"\\n==============================================================\")\n",
    "    print(f\"=== INICIANDO ANÁLISE PARA A BR-{rodovia} ===\")\n",
    "    print(f\"==============================================================\")\n",
    "\n",
    "    # Filtra o DataFrame para conter apenas os dados da rodovia atual\n",
    "    df_rodovia = df_ocorrencias[df_ocorrencias['br'] == rodovia].copy()\n",
    "\n",
    "\n",
    "    # Arredonda o KM para o inteiro mais próximo para agrupar acidentes\n",
    "    df_rodovia['km_arredondado'] = df_rodovia['km'].round().astype(int)\n",
    "\n",
    "    # Conta o número de acidentes em cada KM\n",
    "    hotspots = df_rodovia['km_arredondado'].value_counts()\n",
    "\n",
    "    # Pega os 15 KMs com mais ocorrências\n",
    "    top_15_hotspots = hotspots.nlargest(15).reset_index()\n",
    "    top_15_hotspots.columns = ['km', 'numero_de_acidentes']\n",
    "    top_15_hotspots = top_15_hotspots.sort_values(by='numero_de_acidentes', ascending=False)\n",
    "\n",
    "    print(f\"\\n--- Top 15 Pontos Críticos para a BR-{rodovia} ---\")\n",
    "    print(top_15_hotspots)\n",
    "\n",
    "    # --- 5. Visualização com Plotly ---\n",
    "    print(f\"\\nGerando gráfico de barras dos pontos críticos para a BR-{rodovia}...\")\n",
    "    fig = px.bar(\n",
    "        data_frame=top_15_hotspots.sort_values(by='numero_de_acidentes', ascending=True),\n",
    "        x='numero_de_acidentes',\n",
    "        y='km',\n",
    "        orientation='h',\n",
    "        title=f'Top 15 KMs com Mais Acidentes na BR-{rodovia}',\n",
    "        labels={\n",
    "            'numero_de_acidentes': 'Número de Acidentes',\n",
    "            'km': 'Quilômetro (KM)'\n",
    "        },\n",
    "        text='numero_de_acidentes'\n",
    "    )\n",
    "\n",
    "    fig.update_layout(\n",
    "        yaxis={'type': 'category'},\n",
    "        title_font_size=20,\n",
    "        height=600 # Ajusta a altura para melhor visualização\n",
    "    )\n",
    "    fig.update_traces(textposition='outside', marker_color='crimson')\n",
    "\n",
    "    # Mostra o gráfico (será exibido um após o outro)\n",
    "    fig.show()\n",
    "\n",
    "    # Salva o gráfico em um arquivo HTML único para esta BR\n",
    "    output_filename = f'hotspots_br_{rodovia}.html'\n",
    "    fig.write_html(output_filename)\n",
    "    print(f\"Gráfico salvo como '{output_filename}'\")\n",
    "\n",
    "print(\"\\n\\n--- Análise concluída para todas as rodovias especificadas. ---\")"
   ]
  },
  {
   "cell_type": "markdown",
   "metadata": {
    "id": "dPKqYjNXwnTr"
   },
   "source": [
    "🔍 Mesmo nas rodovias com mais acidentes, as ocorrências não estão uniformemente distribuídas. Existem trechos curtos que são consideravelmente mais perigosos do que a média da rodovia. Por exemplo, na BR-101, KMs como 70, 69 e 49 aparecem no topo da lista, enquanto na BR-116, KMs como 228, 219 e 225 são os mais críticos nos dados analisados."
   ]
  },
  {
   "cell_type": "markdown",
   "metadata": {
    "id": "U5T3H9q8hhBW"
   },
   "source": [
    "### Mapa de Calor do Acidentes"
   ]
  },
  {
   "cell_type": "code",
   "execution_count": null,
   "metadata": {
    "colab": {
     "base_uri": "https://localhost:8080/"
    },
    "id": "yIqLVZQgdEJZ",
    "outputId": "c2cf2f5f-08ab-41e0-9191-80529476a9ca"
   },
   "outputs": [],
   "source": [
    "import folium\n",
    "from folium.plugins import HeatMap\n",
    "\n",
    "df_mapa = df_ocorrencias.dropna(subset=['latitude', 'longitude']).copy()\n",
    "\n",
    "\n",
    "df_mapa['latitude'] = pd.to_numeric(df_mapa['latitude'].str.replace(',', '.'), errors='coerce')\n",
    "df_mapa['longitude'] = pd.to_numeric(df_mapa['longitude'].str.replace(',', '.'), errors='coerce')\n",
    "\n",
    "\n",
    "mapa_brasil = folium.Map(location=[-14.2350, -51.9253], zoom_start=4)\n",
    "\n",
    "\n",
    "dados_heatmap = df_mapa[['latitude', 'longitude']].values.tolist()\n",
    "\n",
    "HeatMap(dados_heatmap).add_to(mapa_brasil)\n",
    "\n",
    "mapa_brasil.save('mapa_de_calor_acidentes.html')\n",
    "\n",
    "print(\"Mapa de calor gerado e salvo como 'mapa_de_calor_acidentes.html'\")"
   ]
  },
  {
   "cell_type": "markdown",
   "metadata": {
    "id": "UzBzXn4eiYHB"
   },
   "source": [
    "### Analise da Rodovia por Segmento"
   ]
  },
  {
   "cell_type": "code",
   "execution_count": null,
   "metadata": {
    "colab": {
     "base_uri": "https://localhost:8080/"
    },
    "id": "elqsYoJ8ibxz",
    "outputId": "d3bacada-7a4f-4736-e522-997b8d3b62cd"
   },
   "outputs": [],
   "source": [
    "brs_para_analisar = [116, 101]\n",
    "\n",
    "# Definindo o tamanho do segmento\n",
    "tamanho_segmento = 15\n",
    "\n",
    "print(f\"--- Análise de Frequência de Acidentes por Segmentos de {tamanho_segmento}km ---\")\n",
    "\n",
    "for br in brs_para_analisar:\n",
    "\n",
    "    df_br = df_ocorrencias[df_ocorrencias['br'] == br].copy()\n",
    "\n",
    "    # Cria os segmentos de 15km\n",
    "    # Usamos a divisão inteira para agrupar os KMs.\n",
    "    # Ex: KM 28 // 15 = 1. Segmento inicial = 1 * 15 = 15.\n",
    "    df_br['segmento_inicio'] = (df_br['km'] // tamanho_segmento) * tamanho_segmento\n",
    "\n",
    "    # Agrupa por segmento e conta a frequência de acidentes\n",
    "    frequencia_segmentos = df_br.groupby('segmento_inicio')['id'].count().reset_index()\n",
    "    frequencia_segmentos.rename(columns={'id': 'frequencia'}, inplace=True)\n",
    "\n",
    "    # Cria uma coluna de texto para descrever o segmento\n",
    "    frequencia_segmentos['segmento_descricao'] = frequencia_segmentos.apply(\n",
    "        lambda row: f\"KM {int(row['segmento_inicio'])} a KM {int(row['segmento_inicio'] + tamanho_segmento - 1)}\",\n",
    "        axis=1\n",
    "    )\n",
    "\n",
    "    # Ordena pela frequência para ver os segmentos mais perigosos\n",
    "    frequencia_segmentos_ordenada = frequencia_segmentos.sort_values(by='frequencia', ascending=False)\n",
    "\n",
    "    # 6. Exibe o resultado\n",
    "    print(f\"\\\\n--- Top 15 Segmentos com mais acidentes na BR-{br} ---\")\n",
    "\n",
    "    # Seleciona as colunas para exibição e mostra os 15 primeiros\n",
    "    tabela_final = frequencia_segmentos_ordenada[['segmento_descricao', 'frequencia']].head(15)\n",
    "    print(tabela_final.to_string(index=False))"
   ]
  },
  {
   "cell_type": "markdown",
   "metadata": {
    "id": "bVIeK4DtxQZ7"
   },
   "source": [
    "🔍 As BRs 101 e 116 possuem trechos extensos e específicos que são consistentemente perigosos. Isso fornece informações valiosas para ações preventivas e corretivas mais abrangentes nessas rodovias."
   ]
  },
  {
   "cell_type": "markdown",
   "metadata": {
    "id": "fc74f3eb"
   },
   "source": [
    "# Análise e Insights dos Acidentes de Trânsito em Rodovias Federais (2025)\n",
    "\n",
    "## Insights Principais por Etapa:\n",
    "\n",
    "* **Carregar e entender os dados:** Bases `df_ocorrencias` e `df_envolvidos` carregadas com sucesso. Identificação de colunas, tipos de dados e valores ausentes. `df_envolvidos` foca em pessoas/veículos, `df_ocorrencias` no evento do acidente.\n",
    "* **Pré-processamento:**\n",
    "  * Tratamento de valores nulos em `classificacao_acidente`.\n",
    "  * Remoção de colunas não essenciais (`regional`, `delegacia`, `uop`).\n",
    "  * Conversão de data e hora para `datetime`.\n",
    "  * Remoção de registros com `pesid = 0` na base de envolvidos.\n",
    "  * Preenchimento de `tipo_veiculo` nulo com `tipo_envolvido` para pedestres/cavaleiros.\n",
    "  * Criação da tabela `df_tracado_via` para análise individual de características da via.\n",
    "  * Categorização das causas de acidentes em grupos simplificados.\n",
    "* **Análise Univariada:**\n",
    "  * **Frequência Mensal:** Tendência de crescimento nos acidentes nos últimos meses de 2025 nos dados.\n",
    "  * **Frequência por Dia da Semana:** Leve aumento de acidentes nas sextas, sábados e domingos.\n",
    "  * **Frequência por Horário:** Picos de acidentes durante horários de pico de tráfego.\n",
    "  * **Frequência por Fase do Dia:** Maioria dos acidentes em \"Pleno Dia\", mas \"Plena Noite\" também relevante.\n",
    "  * **Frequência por Tipo de Acidente:** \"Colisão traseira\", \"Saída de leito carroçável\" e \"Colisão transversal\" são os tipos mais comuns.\n",
    "  * **Distribuição de Mortos e Feridos:** Maioria dos acidentes sem mortos, mas 7.20% têm pelo menos 1 morto. Acidentes geralmente envolvem 1 ferido leve.\n",
    "  * **Distribuição da Causa de Acidente:** \"Falhas Humanas (Condutor)\" é a causa mais frequente. Top 10 causas identificadas.\n",
    "  * **Condições Climáticas:** Maioria dos acidentes sob \"Céu Claro\".\n",
    "  * **Frequência por UF e BR:** MG, SC, PR, RJ, RS são os estados com mais acidentes. BR-101 e BR-116 são as rodovias mais críticas.\n",
    "  * **Distribuição de Idade dos Envolvidos:** Análise da distribuição das idades das pessoas envolvidas nos acidentes.\n",
    "  * **Frequência por Tipo de Veículo Envolvido:** Identificação dos tipos de veículos mais frequentemente envolvidos em acidentes.\n",
    "* **Análise Multivariada:**\n",
    "  * **Clima x Tipo de Acidente:** Heatmap mostra interação, destacando tipos de acidentes mais frequentes sob chuva (saída de leito carroçável, colisão traseira, tombamento).\n",
    "  * **Veículos x Mortos:** Pair plot não mostra correlação forte.\n",
    "  * **Grupo de Causa x Condições Meteorológicas:** Reforça falha humana sob todas condições, mas condições ambientais mais presentes sob chuva/neblina.\n",
    "  * **Matriz de Correlação:** Correlações esperadas entre variáveis de vítimas e veículos, mas sem correlações extremamente altas entre gravidade e número de envolvidos/veículos.\n",
    "* **Dados Estatísticos:**\n",
    "  * Análise descritiva: Média baixa de mortos/feridos por acidente, mas máximos indicam acidentes com muitas vítimas.\n",
    "  * Probabilidade de um acidente ter pelo menos 1 morto: 7.20%.\n",
    "  * **Feriados vs. Dias Comuns:** Média diária de acidentes maior em feriados (207.50) do que em dias comuns (192.81).\n",
    "  * **Pontos Críticos por Rodovia (BR-101 e BR-116):** Identificação precisa dos KMs com maior concentração de acidentes.\n",
    "  * **Mapa de Calor:** Visualização geográfica das áreas com maior densidade de acidentes.\n",
    "  * **Análise por Segmento de Rodovia:** Identificação de trechos de 15km que concentram muitos acidentes."
   ]
  },
  {
   "cell_type": "code",
   "execution_count": null,
   "metadata": {
    "colab": {
     "base_uri": "https://localhost:8080/",
     "height": 692
    },
    "id": "TYvv2Dr1lTEV",
    "outputId": "f2c0f3c8-98ca-41f9-d6db-66aa5df23006"
   },
   "outputs": [],
   "source": [
    "# Gráfico 1: Proporção de Homens x Mulheres\n",
    "print(\"Gerando Gráfico 1: Proporção de Gênero...\")\n",
    "sexo_counts = df_envolvidos['sexo'].value_counts()\n",
    "plt.figure(figsize=(8, 8))\n",
    "plt.pie(sexo_counts, labels=sexo_counts.index, autopct='%1.1f%%', startangle=90, colors=['#66b3ff','#ff9999'])\n",
    "plt.title('Gráfico 1: Proporção de Gênero dos Envolvidos em Acidentes')\n",
    "plt.ylabel('')\n",
    "plt.savefig('proporcao_sexo.png') # Salva o gráfico como imagem\n",
    "plt.show()"
   ]
  },
  {
   "cell_type": "code",
   "execution_count": null,
   "metadata": {
    "colab": {
     "base_uri": "https://localhost:8080/",
     "height": 542
    },
    "id": "JAyIoPia1Rbi",
    "outputId": "6e6fd05b-eff7-4b2b-f5bd-ac262ff3abb5"
   },
   "outputs": [],
   "source": [
    "media_idade = df_envolvidos['idade'].mean()\n",
    "\n",
    "fig = px.histogram(\n",
    "    df_envolvidos,\n",
    "    x='idade',\n",
    "    nbins=50, # Você pode ajustar o número de barras\n",
    "    title='Gráfico 2: Distribuição de Idade dos Envolvidos em Acidentes',\n",
    "    labels={'idade': 'Idade', 'count': 'Número de Pessoas'},\n",
    "    marginal='box' # Adiciona um box plot na margem para ver a distribuição\n",
    ")\n",
    "\n",
    "# Adicionando a linha da média\n",
    "fig.add_vline(\n",
    "    x=media_idade,\n",
    "    line_dash=\"dash\",\n",
    "    line_color=\"red\",\n",
    "    annotation_text=f'Média: {media_idade:.1f} anos'\n",
    ")\n",
    "\n",
    "fig.update_layout(bargap=0.1) # Espaçamento entre as barras\n",
    "fig.show()\n"
   ]
  },
  {
   "cell_type": "code",
   "execution_count": null,
   "metadata": {
    "colab": {
     "base_uri": "https://localhost:8080/",
     "height": 748
    },
    "id": "npDxGzCn1omJ",
    "outputId": "9b94f166-d70f-48c2-9fe2-45503060cd4c"
   },
   "outputs": [],
   "source": [
    "# Gráfico 3: Frequência por Tipo de Veículo com RÓTULOS DE DADOS\n",
    "print(\"\\\\nGerando Gráfico 3 (com Rótulos): Frequência por Tipo de Veículo...\")\n",
    "top_15_veiculos = df_envolvidos['tipo_veiculo'].value_counts().nlargest(15).sort_values(ascending=True)\n",
    "\n",
    "fig, ax = plt.subplots(figsize=(12, 8)) # Criar figura e eixos\n",
    "top_15_veiculos.plot(kind='barh', color='skyblue', ax=ax)\n",
    "\n",
    "# --- ADIÇÃO DOS RÓTULOS DE DADOS ---\n",
    "# Iterar sobre cada barra (patch) no gráfico\n",
    "for patch in ax.patches:\n",
    "    # Pega a largura da barra (que é o valor da frequência)\n",
    "    width = patch.get_width()\n",
    "    # Pega a posição y da barra\n",
    "    y = patch.get_y()\n",
    "    # Pega a altura da barra\n",
    "    height = patch.get_height()\n",
    "    # Adiciona o texto no final da barra\n",
    "    ax.text(width + 5, # Posição x do texto (um pouco à direita da barra)\n",
    "            y + height / 2, # Posição y do texto (centralizado na altura da barra)\n",
    "            f'{int(width)}', # O texto a ser exibido (o valor da frequência como inteiro)\n",
    "            va='center') # Alinhamento vertical\n",
    "\n",
    "ax.set_title('Gráfico 3: Top 15 Tipos de Veículos Envolvidos em Acidentes')\n",
    "ax.set_xlabel('Número de Ocorrências')\n",
    "ax.set_ylabel('Tipo de Veículo')\n",
    "\n",
    "# Ajustar o limite do eixo x para dar espaço para os rótulos\n",
    "ax.set_xlim(0, top_15_veiculos.max() * 1.1)\n",
    "\n",
    "plt.tight_layout()\n",
    "plt.savefig('frequencia_veiculo_com_rotulos.png')\n",
    "plt.show()"
   ]
  }
 ],
 "metadata": {
  "colab": {
   "provenance": [],
   "toc_visible": true
  },
  "kernelspec": {
   "display_name": "Python 3 (ipykernel)",
   "language": "python",
   "name": "python3"
  },
  "language_info": {
   "codemirror_mode": {
    "name": "ipython",
    "version": 3
   },
   "file_extension": ".py",
   "mimetype": "text/x-python",
   "name": "python",
   "nbconvert_exporter": "python",
   "pygments_lexer": "ipython3",
   "version": "3.9.13"
  }
 },
 "nbformat": 4,
 "nbformat_minor": 1
}
